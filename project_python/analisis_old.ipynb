{
 "cells": [
  {
   "cell_type": "markdown",
   "metadata": {},
   "source": [
    "# **Análisis de Horas Extras a Partir de Sistemas Biométricos de Control de Asistencia**\n",
    "### Proyecto Final Samsung Innovation Campus – Módulo de Python (EC04)\n",
    "\n",
    "**Integrantes:**\n",
    "- Ulices Chingo \n",
    "- Sofia Feijóo\n",
    "- Brayan Maisincho\n",
    "- Esteban Quiña\n",
    "- Alan Palma"
   ]
  },
  {
   "cell_type": "code",
   "execution_count": 3,
   "metadata": {},
   "outputs": [],
   "source": [
    "#Leer paquetes\n",
    "import pandas as pd\n",
    "import datetime\n",
    "#C:\\Users\\OFICINA\\Documents\\PythonProjects\\test.csv\n",
    "\n",
    "# Our mini-modules\n",
    "from src.func1_test import test1, test2"
   ]
  },
  {
   "cell_type": "code",
   "execution_count": null,
   "metadata": {},
   "outputs": [
    {
     "name": "stdout",
     "output_type": "stream",
     "text": [
      "None\n"
     ]
    }
   ],
   "source": []
  },
  {
   "cell_type": "code",
   "execution_count": 2,
   "metadata": {},
   "outputs": [],
   "source": [
    "# Definir el archivo \n",
    "path_to_file = 'data/miscelaneosjunio2024.csv'"
   ]
  },
  {
   "cell_type": "code",
   "execution_count": null,
   "metadata": {},
   "outputs": [
    {
     "name": "stdout",
     "output_type": "stream",
     "text": [
      "Archivo cargado exitosamente!\n"
     ]
    }
   ],
   "source": [
    "#Cargar archivo cvs\n",
    "try: \n",
    "    \n",
    "    data = pd.read_csv(path_to_file, delimiter=\",\")\n",
    "    print(\"Archivo cargado exitosamente!\")\n",
    "except:\n",
    "    print(\"No se pudo acceder al archivo. Verificar que el archivo sea de tipo .csv, y que el archivo se encuetra guardado en la misma carpeta que CALC-HORAS-EXTRAS.ipynb\")"
   ]
  },
  {
   "cell_type": "code",
   "execution_count": 6,
   "metadata": {},
   "outputs": [
    {
     "data": {
      "text/html": [
       "<div>\n",
       "<style scoped>\n",
       "    .dataframe tbody tr th:only-of-type {\n",
       "        vertical-align: middle;\n",
       "    }\n",
       "\n",
       "    .dataframe tbody tr th {\n",
       "        vertical-align: top;\n",
       "    }\n",
       "\n",
       "    .dataframe thead th {\n",
       "        text-align: right;\n",
       "    }\n",
       "</style>\n",
       "<table border=\"1\" class=\"dataframe\">\n",
       "  <thead>\n",
       "    <tr style=\"text-align: right;\">\n",
       "      <th></th>\n",
       "      <th>Nombre</th>\n",
       "      <th>TiemInicio</th>\n",
       "      <th>TiemFinal</th>\n",
       "      <th>Fecha</th>\n",
       "      <th>????</th>\n",
       "    </tr>\n",
       "  </thead>\n",
       "  <tbody>\n",
       "    <tr>\n",
       "      <th>0</th>\n",
       "      <td>Manuel F</td>\n",
       "      <td>04:43</td>\n",
       "      <td>09:45</td>\n",
       "      <td>5:1</td>\n",
       "      <td>01/06/2024</td>\n",
       "    </tr>\n",
       "    <tr>\n",
       "      <th>1</th>\n",
       "      <td>Manuel F</td>\n",
       "      <td>06:55</td>\n",
       "      <td>12:38</td>\n",
       "      <td>5:43</td>\n",
       "      <td>03/06/2024</td>\n",
       "    </tr>\n",
       "    <tr>\n",
       "      <th>2</th>\n",
       "      <td>Manuel F</td>\n",
       "      <td>13:27</td>\n",
       "      <td>16:12</td>\n",
       "      <td>2:44</td>\n",
       "      <td>03/06/2024</td>\n",
       "    </tr>\n",
       "    <tr>\n",
       "      <th>3</th>\n",
       "      <td>Manuel F</td>\n",
       "      <td>06:56</td>\n",
       "      <td>12:40</td>\n",
       "      <td>5:43</td>\n",
       "      <td>04/06/2024</td>\n",
       "    </tr>\n",
       "    <tr>\n",
       "      <th>4</th>\n",
       "      <td>Manuel F</td>\n",
       "      <td>13:27</td>\n",
       "      <td>16:58</td>\n",
       "      <td>3:31</td>\n",
       "      <td>04/06/2024</td>\n",
       "    </tr>\n",
       "    <tr>\n",
       "      <th>...</th>\n",
       "      <td>...</td>\n",
       "      <td>...</td>\n",
       "      <td>...</td>\n",
       "      <td>...</td>\n",
       "      <td>...</td>\n",
       "    </tr>\n",
       "    <tr>\n",
       "      <th>497</th>\n",
       "      <td>Deisi</td>\n",
       "      <td>06:54</td>\n",
       "      <td>12:30</td>\n",
       "      <td>5:36</td>\n",
       "      <td>26/06/2024</td>\n",
       "    </tr>\n",
       "    <tr>\n",
       "      <th>498</th>\n",
       "      <td>Deisi</td>\n",
       "      <td>13:23</td>\n",
       "      <td>16:56</td>\n",
       "      <td>3:32</td>\n",
       "      <td>26/06/2024</td>\n",
       "    </tr>\n",
       "    <tr>\n",
       "      <th>499</th>\n",
       "      <td>Deisi</td>\n",
       "      <td>06:52</td>\n",
       "      <td>12:37</td>\n",
       "      <td>5:45</td>\n",
       "      <td>27/06/2024</td>\n",
       "    </tr>\n",
       "    <tr>\n",
       "      <th>500</th>\n",
       "      <td>Deisi</td>\n",
       "      <td>13:28</td>\n",
       "      <td>16:00</td>\n",
       "      <td>2:32</td>\n",
       "      <td>27/06/2024</td>\n",
       "    </tr>\n",
       "    <tr>\n",
       "      <th>501</th>\n",
       "      <td>Deisi</td>\n",
       "      <td>13:27</td>\n",
       "      <td>17:16</td>\n",
       "      <td>3:48</td>\n",
       "      <td>28/06/2024</td>\n",
       "    </tr>\n",
       "  </tbody>\n",
       "</table>\n",
       "<p>502 rows × 5 columns</p>\n",
       "</div>"
      ],
      "text/plain": [
       "       Nombre TiemInicio TiemFinal Fecha        ????\n",
       "0    Manuel F      04:43     09:45   5:1  01/06/2024\n",
       "1    Manuel F      06:55     12:38  5:43  03/06/2024\n",
       "2    Manuel F      13:27     16:12  2:44  03/06/2024\n",
       "3    Manuel F      06:56     12:40  5:43  04/06/2024\n",
       "4    Manuel F      13:27     16:58  3:31  04/06/2024\n",
       "..        ...        ...       ...   ...         ...\n",
       "497     Deisi      06:54     12:30  5:36  26/06/2024\n",
       "498     Deisi      13:23     16:56  3:32  26/06/2024\n",
       "499     Deisi      06:52     12:37  5:45  27/06/2024\n",
       "500     Deisi      13:28     16:00  2:32  27/06/2024\n",
       "501     Deisi      13:27     17:16  3:48  28/06/2024\n",
       "\n",
       "[502 rows x 5 columns]"
      ]
     },
     "metadata": {},
     "output_type": "display_data"
    }
   ],
   "source": [
    "display(data)"
   ]
  },
  {
   "cell_type": "code",
   "execution_count": 7,
   "metadata": {},
   "outputs": [
    {
     "data": {
      "text/html": [
       "<div>\n",
       "<style scoped>\n",
       "    .dataframe tbody tr th:only-of-type {\n",
       "        vertical-align: middle;\n",
       "    }\n",
       "\n",
       "    .dataframe tbody tr th {\n",
       "        vertical-align: top;\n",
       "    }\n",
       "\n",
       "    .dataframe thead th {\n",
       "        text-align: right;\n",
       "    }\n",
       "</style>\n",
       "<table border=\"1\" class=\"dataframe\">\n",
       "  <thead>\n",
       "    <tr style=\"text-align: right;\">\n",
       "      <th></th>\n",
       "      <th>Nombre</th>\n",
       "      <th>Inicio</th>\n",
       "      <th>Final</th>\n",
       "      <th>Diferencia</th>\n",
       "      <th>Date</th>\n",
       "    </tr>\n",
       "  </thead>\n",
       "  <tbody>\n",
       "    <tr>\n",
       "      <th>0</th>\n",
       "      <td>Manuel F</td>\n",
       "      <td>04:43</td>\n",
       "      <td>09:45</td>\n",
       "      <td>5:1</td>\n",
       "      <td>01/06/2024</td>\n",
       "    </tr>\n",
       "    <tr>\n",
       "      <th>1</th>\n",
       "      <td>Manuel F</td>\n",
       "      <td>06:55</td>\n",
       "      <td>12:38</td>\n",
       "      <td>5:43</td>\n",
       "      <td>03/06/2024</td>\n",
       "    </tr>\n",
       "    <tr>\n",
       "      <th>2</th>\n",
       "      <td>Manuel F</td>\n",
       "      <td>13:27</td>\n",
       "      <td>16:12</td>\n",
       "      <td>2:44</td>\n",
       "      <td>03/06/2024</td>\n",
       "    </tr>\n",
       "    <tr>\n",
       "      <th>3</th>\n",
       "      <td>Manuel F</td>\n",
       "      <td>06:56</td>\n",
       "      <td>12:40</td>\n",
       "      <td>5:43</td>\n",
       "      <td>04/06/2024</td>\n",
       "    </tr>\n",
       "    <tr>\n",
       "      <th>4</th>\n",
       "      <td>Manuel F</td>\n",
       "      <td>13:27</td>\n",
       "      <td>16:58</td>\n",
       "      <td>3:31</td>\n",
       "      <td>04/06/2024</td>\n",
       "    </tr>\n",
       "    <tr>\n",
       "      <th>...</th>\n",
       "      <td>...</td>\n",
       "      <td>...</td>\n",
       "      <td>...</td>\n",
       "      <td>...</td>\n",
       "      <td>...</td>\n",
       "    </tr>\n",
       "    <tr>\n",
       "      <th>497</th>\n",
       "      <td>Deisi</td>\n",
       "      <td>06:54</td>\n",
       "      <td>12:30</td>\n",
       "      <td>5:36</td>\n",
       "      <td>26/06/2024</td>\n",
       "    </tr>\n",
       "    <tr>\n",
       "      <th>498</th>\n",
       "      <td>Deisi</td>\n",
       "      <td>13:23</td>\n",
       "      <td>16:56</td>\n",
       "      <td>3:32</td>\n",
       "      <td>26/06/2024</td>\n",
       "    </tr>\n",
       "    <tr>\n",
       "      <th>499</th>\n",
       "      <td>Deisi</td>\n",
       "      <td>06:52</td>\n",
       "      <td>12:37</td>\n",
       "      <td>5:45</td>\n",
       "      <td>27/06/2024</td>\n",
       "    </tr>\n",
       "    <tr>\n",
       "      <th>500</th>\n",
       "      <td>Deisi</td>\n",
       "      <td>13:28</td>\n",
       "      <td>16:00</td>\n",
       "      <td>2:32</td>\n",
       "      <td>27/06/2024</td>\n",
       "    </tr>\n",
       "    <tr>\n",
       "      <th>501</th>\n",
       "      <td>Deisi</td>\n",
       "      <td>13:27</td>\n",
       "      <td>17:16</td>\n",
       "      <td>3:48</td>\n",
       "      <td>28/06/2024</td>\n",
       "    </tr>\n",
       "  </tbody>\n",
       "</table>\n",
       "<p>502 rows × 5 columns</p>\n",
       "</div>"
      ],
      "text/plain": [
       "       Nombre Inicio  Final Diferencia        Date\n",
       "0    Manuel F  04:43  09:45        5:1  01/06/2024\n",
       "1    Manuel F  06:55  12:38       5:43  03/06/2024\n",
       "2    Manuel F  13:27  16:12       2:44  03/06/2024\n",
       "3    Manuel F  06:56  12:40       5:43  04/06/2024\n",
       "4    Manuel F  13:27  16:58       3:31  04/06/2024\n",
       "..        ...    ...    ...        ...         ...\n",
       "497     Deisi  06:54  12:30       5:36  26/06/2024\n",
       "498     Deisi  13:23  16:56       3:32  26/06/2024\n",
       "499     Deisi  06:52  12:37       5:45  27/06/2024\n",
       "500     Deisi  13:28  16:00       2:32  27/06/2024\n",
       "501     Deisi  13:27  17:16       3:48  28/06/2024\n",
       "\n",
       "[502 rows x 5 columns]"
      ]
     },
     "metadata": {},
     "output_type": "display_data"
    }
   ],
   "source": [
    "#Renombrar headings de dataframe\n",
    "new_column_names = {'TiemInicio': 'Inicio', 'TiemFinal': 'Final', 'Fecha': 'Diferencia', '????': 'Date'}\n",
    "data.rename(columns=new_column_names, inplace=True)\n",
    "display(data)"
   ]
  },
  {
   "cell_type": "code",
   "execution_count": 8,
   "metadata": {},
   "outputs": [
    {
     "data": {
      "text/html": [
       "<div>\n",
       "<style scoped>\n",
       "    .dataframe tbody tr th:only-of-type {\n",
       "        vertical-align: middle;\n",
       "    }\n",
       "\n",
       "    .dataframe tbody tr th {\n",
       "        vertical-align: top;\n",
       "    }\n",
       "\n",
       "    .dataframe thead th {\n",
       "        text-align: right;\n",
       "    }\n",
       "</style>\n",
       "<table border=\"1\" class=\"dataframe\">\n",
       "  <thead>\n",
       "    <tr style=\"text-align: right;\">\n",
       "      <th></th>\n",
       "      <th>Nombre</th>\n",
       "      <th>Inicio</th>\n",
       "      <th>Final</th>\n",
       "      <th>Diferencia</th>\n",
       "      <th>Date</th>\n",
       "      <th>Diferencia en minutos</th>\n",
       "    </tr>\n",
       "  </thead>\n",
       "  <tbody>\n",
       "    <tr>\n",
       "      <th>0</th>\n",
       "      <td>Manuel F</td>\n",
       "      <td>04:43</td>\n",
       "      <td>09:45</td>\n",
       "      <td>5:1</td>\n",
       "      <td>01/06/2024</td>\n",
       "      <td>301</td>\n",
       "    </tr>\n",
       "    <tr>\n",
       "      <th>1</th>\n",
       "      <td>Manuel F</td>\n",
       "      <td>06:55</td>\n",
       "      <td>12:38</td>\n",
       "      <td>5:43</td>\n",
       "      <td>03/06/2024</td>\n",
       "      <td>343</td>\n",
       "    </tr>\n",
       "    <tr>\n",
       "      <th>2</th>\n",
       "      <td>Manuel F</td>\n",
       "      <td>13:27</td>\n",
       "      <td>16:12</td>\n",
       "      <td>2:44</td>\n",
       "      <td>03/06/2024</td>\n",
       "      <td>164</td>\n",
       "    </tr>\n",
       "    <tr>\n",
       "      <th>3</th>\n",
       "      <td>Manuel F</td>\n",
       "      <td>06:56</td>\n",
       "      <td>12:40</td>\n",
       "      <td>5:43</td>\n",
       "      <td>04/06/2024</td>\n",
       "      <td>343</td>\n",
       "    </tr>\n",
       "    <tr>\n",
       "      <th>4</th>\n",
       "      <td>Manuel F</td>\n",
       "      <td>13:27</td>\n",
       "      <td>16:58</td>\n",
       "      <td>3:31</td>\n",
       "      <td>04/06/2024</td>\n",
       "      <td>211</td>\n",
       "    </tr>\n",
       "    <tr>\n",
       "      <th>...</th>\n",
       "      <td>...</td>\n",
       "      <td>...</td>\n",
       "      <td>...</td>\n",
       "      <td>...</td>\n",
       "      <td>...</td>\n",
       "      <td>...</td>\n",
       "    </tr>\n",
       "    <tr>\n",
       "      <th>497</th>\n",
       "      <td>Deisi</td>\n",
       "      <td>06:54</td>\n",
       "      <td>12:30</td>\n",
       "      <td>5:36</td>\n",
       "      <td>26/06/2024</td>\n",
       "      <td>336</td>\n",
       "    </tr>\n",
       "    <tr>\n",
       "      <th>498</th>\n",
       "      <td>Deisi</td>\n",
       "      <td>13:23</td>\n",
       "      <td>16:56</td>\n",
       "      <td>3:32</td>\n",
       "      <td>26/06/2024</td>\n",
       "      <td>212</td>\n",
       "    </tr>\n",
       "    <tr>\n",
       "      <th>499</th>\n",
       "      <td>Deisi</td>\n",
       "      <td>06:52</td>\n",
       "      <td>12:37</td>\n",
       "      <td>5:45</td>\n",
       "      <td>27/06/2024</td>\n",
       "      <td>345</td>\n",
       "    </tr>\n",
       "    <tr>\n",
       "      <th>500</th>\n",
       "      <td>Deisi</td>\n",
       "      <td>13:28</td>\n",
       "      <td>16:00</td>\n",
       "      <td>2:32</td>\n",
       "      <td>27/06/2024</td>\n",
       "      <td>152</td>\n",
       "    </tr>\n",
       "    <tr>\n",
       "      <th>501</th>\n",
       "      <td>Deisi</td>\n",
       "      <td>13:27</td>\n",
       "      <td>17:16</td>\n",
       "      <td>3:48</td>\n",
       "      <td>28/06/2024</td>\n",
       "      <td>228</td>\n",
       "    </tr>\n",
       "  </tbody>\n",
       "</table>\n",
       "<p>502 rows × 6 columns</p>\n",
       "</div>"
      ],
      "text/plain": [
       "       Nombre Inicio  Final Diferencia        Date  Diferencia en minutos\n",
       "0    Manuel F  04:43  09:45        5:1  01/06/2024                    301\n",
       "1    Manuel F  06:55  12:38       5:43  03/06/2024                    343\n",
       "2    Manuel F  13:27  16:12       2:44  03/06/2024                    164\n",
       "3    Manuel F  06:56  12:40       5:43  04/06/2024                    343\n",
       "4    Manuel F  13:27  16:58       3:31  04/06/2024                    211\n",
       "..        ...    ...    ...        ...         ...                    ...\n",
       "497     Deisi  06:54  12:30       5:36  26/06/2024                    336\n",
       "498     Deisi  13:23  16:56       3:32  26/06/2024                    212\n",
       "499     Deisi  06:52  12:37       5:45  27/06/2024                    345\n",
       "500     Deisi  13:28  16:00       2:32  27/06/2024                    152\n",
       "501     Deisi  13:27  17:16       3:48  28/06/2024                    228\n",
       "\n",
       "[502 rows x 6 columns]"
      ]
     },
     "metadata": {},
     "output_type": "display_data"
    }
   ],
   "source": [
    "#Transformar tiempos a minutos\n",
    "Diff_min = []\n",
    "for i in data[\"Diferencia\"]:\n",
    "    (h, m) = i.split(':')\n",
    "    min1 = int(h) * 60\n",
    "    min2 = int(m)\n",
    "    min = min1 + min2\n",
    "    Diff_min.append(min)\n",
    "data[\"Diferencia en minutos\"] = Diff_min\n",
    "display(data)"
   ]
  },
  {
   "cell_type": "code",
   "execution_count": 9,
   "metadata": {},
   "outputs": [
    {
     "data": {
      "text/html": [
       "<div>\n",
       "<style scoped>\n",
       "    .dataframe tbody tr th:only-of-type {\n",
       "        vertical-align: middle;\n",
       "    }\n",
       "\n",
       "    .dataframe tbody tr th {\n",
       "        vertical-align: top;\n",
       "    }\n",
       "\n",
       "    .dataframe thead th {\n",
       "        text-align: right;\n",
       "    }\n",
       "</style>\n",
       "<table border=\"1\" class=\"dataframe\">\n",
       "  <thead>\n",
       "    <tr style=\"text-align: right;\">\n",
       "      <th></th>\n",
       "      <th>Nombre</th>\n",
       "      <th>Minutos totales por dia</th>\n",
       "      <th>Fecha</th>\n",
       "    </tr>\n",
       "  </thead>\n",
       "  <tbody>\n",
       "    <tr>\n",
       "      <th>0</th>\n",
       "      <td>Manuel F</td>\n",
       "      <td>301</td>\n",
       "      <td>01/06/2024</td>\n",
       "    </tr>\n",
       "    <tr>\n",
       "      <th>1</th>\n",
       "      <td>Manuel F</td>\n",
       "      <td>507</td>\n",
       "      <td>03/06/2024</td>\n",
       "    </tr>\n",
       "    <tr>\n",
       "      <th>2</th>\n",
       "      <td>Manuel F</td>\n",
       "      <td>554</td>\n",
       "      <td>04/06/2024</td>\n",
       "    </tr>\n",
       "    <tr>\n",
       "      <th>3</th>\n",
       "      <td>Manuel F</td>\n",
       "      <td>536</td>\n",
       "      <td>05/06/2024</td>\n",
       "    </tr>\n",
       "    <tr>\n",
       "      <th>4</th>\n",
       "      <td>Manuel F</td>\n",
       "      <td>490</td>\n",
       "      <td>06/06/2024</td>\n",
       "    </tr>\n",
       "    <tr>\n",
       "      <th>...</th>\n",
       "      <td>...</td>\n",
       "      <td>...</td>\n",
       "      <td>...</td>\n",
       "    </tr>\n",
       "    <tr>\n",
       "      <th>263</th>\n",
       "      <td>Deisi</td>\n",
       "      <td>336</td>\n",
       "      <td>19/06/2024</td>\n",
       "    </tr>\n",
       "    <tr>\n",
       "      <th>264</th>\n",
       "      <td>Deisi</td>\n",
       "      <td>526</td>\n",
       "      <td>20/06/2024</td>\n",
       "    </tr>\n",
       "    <tr>\n",
       "      <th>265</th>\n",
       "      <td>Deisi</td>\n",
       "      <td>548</td>\n",
       "      <td>26/06/2024</td>\n",
       "    </tr>\n",
       "    <tr>\n",
       "      <th>266</th>\n",
       "      <td>Deisi</td>\n",
       "      <td>497</td>\n",
       "      <td>27/06/2024</td>\n",
       "    </tr>\n",
       "    <tr>\n",
       "      <th>267</th>\n",
       "      <td>Deisi</td>\n",
       "      <td>228</td>\n",
       "      <td>28/06/2024</td>\n",
       "    </tr>\n",
       "  </tbody>\n",
       "</table>\n",
       "<p>268 rows × 3 columns</p>\n",
       "</div>"
      ],
      "text/plain": [
       "       Nombre  Minutos totales por dia       Fecha\n",
       "0    Manuel F                      301  01/06/2024\n",
       "1    Manuel F                      507  03/06/2024\n",
       "2    Manuel F                      554  04/06/2024\n",
       "3    Manuel F                      536  05/06/2024\n",
       "4    Manuel F                      490  06/06/2024\n",
       "..        ...                      ...         ...\n",
       "263     Deisi                      336  19/06/2024\n",
       "264     Deisi                      526  20/06/2024\n",
       "265     Deisi                      548  26/06/2024\n",
       "266     Deisi                      497  27/06/2024\n",
       "267     Deisi                      228  28/06/2024\n",
       "\n",
       "[268 rows x 3 columns]"
      ]
     },
     "metadata": {},
     "output_type": "display_data"
    }
   ],
   "source": [
    "#Tabla de  tiempo trabajado por empleado por día\n",
    "tiemposDia = []\n",
    "personas = []\n",
    "dias_trabajados = []\n",
    "\n",
    "i=0\n",
    "\n",
    "while i < (len(data[\"Nombre\"])-1):\n",
    "    cont=0\n",
    "    tiempo_dia = data.loc[i, \"Diferencia en minutos\"]\n",
    "    personas.append(data.loc[i, \"Nombre\"])\n",
    "    dias_trabajados.append(data.loc[i, \"Date\"])\n",
    "    while (data.loc[i, \"Date\"] == data.loc[i+cont+1, \"Date\"]) and (data.loc[i, \"Nombre\"] == data.loc[i+cont+1, \"Nombre\"]):\n",
    "        tiempo_dia += data.loc[i+cont+1, \"Diferencia en minutos\"]\n",
    "        cont += 1\n",
    "    tiemposDia.append(tiempo_dia)\n",
    "    i += cont+1\n",
    "\n",
    "tiempo_dia = data.loc[i, \"Diferencia en minutos\"]\n",
    "tiemposDia.append(tiempo_dia)\n",
    "personas.append(data.loc[i, \"Nombre\"])\n",
    "dias_trabajados.append(data.loc[i, \"Date\"])\n",
    "totDATA = pd.DataFrame({\"Nombre\": personas, \"Minutos totales por dia\": tiemposDia, \"Fecha\": dias_trabajados})\n",
    "display(totDATA)"
   ]
  },
  {
   "cell_type": "code",
   "execution_count": 10,
   "metadata": {},
   "outputs": [
    {
     "data": {
      "text/html": [
       "<div>\n",
       "<style scoped>\n",
       "    .dataframe tbody tr th:only-of-type {\n",
       "        vertical-align: middle;\n",
       "    }\n",
       "\n",
       "    .dataframe tbody tr th {\n",
       "        vertical-align: top;\n",
       "    }\n",
       "\n",
       "    .dataframe thead th {\n",
       "        text-align: right;\n",
       "    }\n",
       "</style>\n",
       "<table border=\"1\" class=\"dataframe\">\n",
       "  <thead>\n",
       "    <tr style=\"text-align: right;\">\n",
       "      <th></th>\n",
       "      <th>Nombre</th>\n",
       "      <th>Minutos totales por dia</th>\n",
       "      <th>Fecha</th>\n",
       "      <th>Sábado</th>\n",
       "      <th>Domingo/Feriado</th>\n",
       "    </tr>\n",
       "  </thead>\n",
       "  <tbody>\n",
       "    <tr>\n",
       "      <th>0</th>\n",
       "      <td>Manuel F</td>\n",
       "      <td>301</td>\n",
       "      <td>01/06/2024</td>\n",
       "      <td>1</td>\n",
       "      <td>0</td>\n",
       "    </tr>\n",
       "    <tr>\n",
       "      <th>1</th>\n",
       "      <td>Manuel F</td>\n",
       "      <td>507</td>\n",
       "      <td>03/06/2024</td>\n",
       "      <td>0</td>\n",
       "      <td>0</td>\n",
       "    </tr>\n",
       "    <tr>\n",
       "      <th>2</th>\n",
       "      <td>Manuel F</td>\n",
       "      <td>554</td>\n",
       "      <td>04/06/2024</td>\n",
       "      <td>0</td>\n",
       "      <td>0</td>\n",
       "    </tr>\n",
       "    <tr>\n",
       "      <th>3</th>\n",
       "      <td>Manuel F</td>\n",
       "      <td>536</td>\n",
       "      <td>05/06/2024</td>\n",
       "      <td>0</td>\n",
       "      <td>0</td>\n",
       "    </tr>\n",
       "    <tr>\n",
       "      <th>4</th>\n",
       "      <td>Manuel F</td>\n",
       "      <td>490</td>\n",
       "      <td>06/06/2024</td>\n",
       "      <td>0</td>\n",
       "      <td>0</td>\n",
       "    </tr>\n",
       "    <tr>\n",
       "      <th>...</th>\n",
       "      <td>...</td>\n",
       "      <td>...</td>\n",
       "      <td>...</td>\n",
       "      <td>...</td>\n",
       "      <td>...</td>\n",
       "    </tr>\n",
       "    <tr>\n",
       "      <th>263</th>\n",
       "      <td>Deisi</td>\n",
       "      <td>336</td>\n",
       "      <td>19/06/2024</td>\n",
       "      <td>0</td>\n",
       "      <td>0</td>\n",
       "    </tr>\n",
       "    <tr>\n",
       "      <th>264</th>\n",
       "      <td>Deisi</td>\n",
       "      <td>526</td>\n",
       "      <td>20/06/2024</td>\n",
       "      <td>0</td>\n",
       "      <td>0</td>\n",
       "    </tr>\n",
       "    <tr>\n",
       "      <th>265</th>\n",
       "      <td>Deisi</td>\n",
       "      <td>548</td>\n",
       "      <td>26/06/2024</td>\n",
       "      <td>0</td>\n",
       "      <td>0</td>\n",
       "    </tr>\n",
       "    <tr>\n",
       "      <th>266</th>\n",
       "      <td>Deisi</td>\n",
       "      <td>497</td>\n",
       "      <td>27/06/2024</td>\n",
       "      <td>0</td>\n",
       "      <td>0</td>\n",
       "    </tr>\n",
       "    <tr>\n",
       "      <th>267</th>\n",
       "      <td>Deisi</td>\n",
       "      <td>228</td>\n",
       "      <td>28/06/2024</td>\n",
       "      <td>0</td>\n",
       "      <td>0</td>\n",
       "    </tr>\n",
       "  </tbody>\n",
       "</table>\n",
       "<p>268 rows × 5 columns</p>\n",
       "</div>"
      ],
      "text/plain": [
       "       Nombre  Minutos totales por dia       Fecha  Sábado  Domingo/Feriado\n",
       "0    Manuel F                      301  01/06/2024       1                0\n",
       "1    Manuel F                      507  03/06/2024       0                0\n",
       "2    Manuel F                      554  04/06/2024       0                0\n",
       "3    Manuel F                      536  05/06/2024       0                0\n",
       "4    Manuel F                      490  06/06/2024       0                0\n",
       "..        ...                      ...         ...     ...              ...\n",
       "263     Deisi                      336  19/06/2024       0                0\n",
       "264     Deisi                      526  20/06/2024       0                0\n",
       "265     Deisi                      548  26/06/2024       0                0\n",
       "266     Deisi                      497  27/06/2024       0                0\n",
       "267     Deisi                      228  28/06/2024       0                0\n",
       "\n",
       "[268 rows x 5 columns]"
      ]
     },
     "metadata": {},
     "output_type": "display_data"
    }
   ],
   "source": [
    "#Identificar domingos y feriados\n",
    "#Identificar domingo y feriados (Horas 100%) y añadir columna de fechas 100%\n",
    "#Identificar sábados (Horas 50%)\n",
    "from datetime import datetime, timedelta\n",
    "sunday_holy = [0 for k in totDATA[\"Fecha\"]]\n",
    "is_holiday = str(input(\"Hay feriados en este mes? S/N:\"))\n",
    "if is_holiday == \"N\":\n",
    "    for i in range(len(totDATA[\"Fecha\"])):\n",
    "        date_string = (totDATA.loc[i, \"Fecha\"])\n",
    "        date_object = datetime.strptime(date_string, \"%d/%m/%Y\")\n",
    "        if date_object.weekday() == 6:\n",
    "            sunday_holy[i] = 1\n",
    "else:\n",
    "    how_many = int(input(\"Ingrese el número de feriados\"))\n",
    "    holydays = []\n",
    "    for i in range(how_many):\n",
    "        holyi = str(input(\"Ingrese la fecha en formato DD/MM/AA i.e. 28/04/2023: \"))\n",
    "        holydays.append(holyi)\n",
    "    for i in range(len(totDATA[\"Fecha\"])):\n",
    "        date_string = (totDATA.loc[i, \"Fecha\"])\n",
    "        for j in range(how_many):\n",
    "            if date_string == holydays[j]:\n",
    "                sunday_holy[i] = 1\n",
    "\n",
    "#print(sunday_holy)\n",
    "\n",
    "saturdays = [0 for i in totDATA[\"Fecha\"]]\n",
    "for i in range(len(totDATA[\"Fecha\"])):\n",
    "    date_string = (totDATA.loc[i, \"Fecha\"])\n",
    "    date_object = datetime.strptime(date_string, \"%d/%m/%Y\")\n",
    "    if date_object.weekday() == 5:\n",
    "        saturdays[i] = 1\n",
    "totDATA[\"Sábado\"] = saturdays\n",
    "totDATA[\"Domingo/Feriado\"] = sunday_holy\n",
    "#print(saturdays)\n",
    "display(totDATA)"
   ]
  },
  {
   "cell_type": "code",
   "execution_count": 11,
   "metadata": {},
   "outputs": [
    {
     "data": {
      "text/html": [
       "<div>\n",
       "<style scoped>\n",
       "    .dataframe tbody tr th:only-of-type {\n",
       "        vertical-align: middle;\n",
       "    }\n",
       "\n",
       "    .dataframe tbody tr th {\n",
       "        vertical-align: top;\n",
       "    }\n",
       "\n",
       "    .dataframe thead th {\n",
       "        text-align: right;\n",
       "    }\n",
       "</style>\n",
       "<table border=\"1\" class=\"dataframe\">\n",
       "  <thead>\n",
       "    <tr style=\"text-align: right;\">\n",
       "      <th></th>\n",
       "      <th>Nombre</th>\n",
       "      <th>Minutos totales por dia</th>\n",
       "      <th>Fecha</th>\n",
       "      <th>Sábado</th>\n",
       "      <th>Domingo/Feriado</th>\n",
       "      <th>Minutos extra 50%</th>\n",
       "      <th>Minutos extra 100%</th>\n",
       "    </tr>\n",
       "  </thead>\n",
       "  <tbody>\n",
       "    <tr>\n",
       "      <th>0</th>\n",
       "      <td>Manuel F</td>\n",
       "      <td>301</td>\n",
       "      <td>01/06/2024</td>\n",
       "      <td>1</td>\n",
       "      <td>0</td>\n",
       "      <td>301</td>\n",
       "      <td>0</td>\n",
       "    </tr>\n",
       "    <tr>\n",
       "      <th>1</th>\n",
       "      <td>Manuel F</td>\n",
       "      <td>507</td>\n",
       "      <td>03/06/2024</td>\n",
       "      <td>0</td>\n",
       "      <td>0</td>\n",
       "      <td>27</td>\n",
       "      <td>0</td>\n",
       "    </tr>\n",
       "    <tr>\n",
       "      <th>2</th>\n",
       "      <td>Manuel F</td>\n",
       "      <td>554</td>\n",
       "      <td>04/06/2024</td>\n",
       "      <td>0</td>\n",
       "      <td>0</td>\n",
       "      <td>74</td>\n",
       "      <td>0</td>\n",
       "    </tr>\n",
       "    <tr>\n",
       "      <th>3</th>\n",
       "      <td>Manuel F</td>\n",
       "      <td>536</td>\n",
       "      <td>05/06/2024</td>\n",
       "      <td>0</td>\n",
       "      <td>0</td>\n",
       "      <td>56</td>\n",
       "      <td>0</td>\n",
       "    </tr>\n",
       "    <tr>\n",
       "      <th>4</th>\n",
       "      <td>Manuel F</td>\n",
       "      <td>490</td>\n",
       "      <td>06/06/2024</td>\n",
       "      <td>0</td>\n",
       "      <td>0</td>\n",
       "      <td>10</td>\n",
       "      <td>0</td>\n",
       "    </tr>\n",
       "    <tr>\n",
       "      <th>...</th>\n",
       "      <td>...</td>\n",
       "      <td>...</td>\n",
       "      <td>...</td>\n",
       "      <td>...</td>\n",
       "      <td>...</td>\n",
       "      <td>...</td>\n",
       "      <td>...</td>\n",
       "    </tr>\n",
       "    <tr>\n",
       "      <th>263</th>\n",
       "      <td>Deisi</td>\n",
       "      <td>336</td>\n",
       "      <td>19/06/2024</td>\n",
       "      <td>0</td>\n",
       "      <td>0</td>\n",
       "      <td>-144</td>\n",
       "      <td>0</td>\n",
       "    </tr>\n",
       "    <tr>\n",
       "      <th>264</th>\n",
       "      <td>Deisi</td>\n",
       "      <td>526</td>\n",
       "      <td>20/06/2024</td>\n",
       "      <td>0</td>\n",
       "      <td>0</td>\n",
       "      <td>46</td>\n",
       "      <td>0</td>\n",
       "    </tr>\n",
       "    <tr>\n",
       "      <th>265</th>\n",
       "      <td>Deisi</td>\n",
       "      <td>548</td>\n",
       "      <td>26/06/2024</td>\n",
       "      <td>0</td>\n",
       "      <td>0</td>\n",
       "      <td>68</td>\n",
       "      <td>0</td>\n",
       "    </tr>\n",
       "    <tr>\n",
       "      <th>266</th>\n",
       "      <td>Deisi</td>\n",
       "      <td>497</td>\n",
       "      <td>27/06/2024</td>\n",
       "      <td>0</td>\n",
       "      <td>0</td>\n",
       "      <td>17</td>\n",
       "      <td>0</td>\n",
       "    </tr>\n",
       "    <tr>\n",
       "      <th>267</th>\n",
       "      <td>Deisi</td>\n",
       "      <td>228</td>\n",
       "      <td>28/06/2024</td>\n",
       "      <td>0</td>\n",
       "      <td>0</td>\n",
       "      <td>-252</td>\n",
       "      <td>0</td>\n",
       "    </tr>\n",
       "  </tbody>\n",
       "</table>\n",
       "<p>268 rows × 7 columns</p>\n",
       "</div>"
      ],
      "text/plain": [
       "       Nombre  Minutos totales por dia       Fecha  Sábado  Domingo/Feriado  \\\n",
       "0    Manuel F                      301  01/06/2024       1                0   \n",
       "1    Manuel F                      507  03/06/2024       0                0   \n",
       "2    Manuel F                      554  04/06/2024       0                0   \n",
       "3    Manuel F                      536  05/06/2024       0                0   \n",
       "4    Manuel F                      490  06/06/2024       0                0   \n",
       "..        ...                      ...         ...     ...              ...   \n",
       "263     Deisi                      336  19/06/2024       0                0   \n",
       "264     Deisi                      526  20/06/2024       0                0   \n",
       "265     Deisi                      548  26/06/2024       0                0   \n",
       "266     Deisi                      497  27/06/2024       0                0   \n",
       "267     Deisi                      228  28/06/2024       0                0   \n",
       "\n",
       "     Minutos extra 50%  Minutos extra 100%  \n",
       "0                  301                   0  \n",
       "1                   27                   0  \n",
       "2                   74                   0  \n",
       "3                   56                   0  \n",
       "4                   10                   0  \n",
       "..                 ...                 ...  \n",
       "263               -144                   0  \n",
       "264                 46                   0  \n",
       "265                 68                   0  \n",
       "266                 17                   0  \n",
       "267               -252                   0  \n",
       "\n",
       "[268 rows x 7 columns]"
      ]
     },
     "metadata": {},
     "output_type": "display_data"
    }
   ],
   "source": [
    "#Minutos extra 50% Y 100% por dia y por trabajador\n",
    "min50 = []\n",
    "min100 = []\n",
    "for i in range(len(totDATA[\"Fecha\"])):\n",
    "    #Dia normal de lunes a viernes\n",
    "    if (totDATA.loc[i, \"Sábado\"] == 0) and (totDATA.loc[i, \"Domingo/Feriado\"] == 0):\n",
    "        extra = totDATA.loc[i, \"Minutos totales por dia\"] - 480\n",
    "        min50.append(extra)\n",
    "        min100.append(int(0))\n",
    "    #Sábado\n",
    "    elif totDATA.loc[i, \"Sábado\"] == 1:\n",
    "        extra = totDATA.loc[i, \"Minutos totales por dia\"]\n",
    "        min50.append(extra)\n",
    "        min100.append(int(0))\n",
    "    #Dia especial (Domingo o feriado)\n",
    "    elif totDATA.loc[i, \"Domingo/Feriado\"]:\n",
    "        extra = totDATA.loc[i, \"Minutos totales por dia\"]\n",
    "        min100.append(int(extra))\n",
    "        min50.append(int(0))\n",
    "\n",
    "totDATA[\"Minutos extra 50%\"] = min50\n",
    "totDATA[\"Minutos extra 100%\"] = min100\n",
    "display(totDATA)"
   ]
  },
  {
   "cell_type": "code",
   "execution_count": 12,
   "metadata": {},
   "outputs": [
    {
     "name": "stdout",
     "output_type": "stream",
     "text": [
      "No se cumplió la con la jornada completa en el siguiente día: \n"
     ]
    },
    {
     "data": {
      "text/plain": [
       "Nombre                       Manuel F\n",
       "Minutos totales por dia           339\n",
       "Fecha                      19/06/2024\n",
       "Sábado                              0\n",
       "Domingo/Feriado                     0\n",
       "Minutos extra 50%                -141\n",
       "Minutos extra 100%                  0\n",
       "Name: 15, dtype: object"
      ]
     },
     "metadata": {},
     "output_type": "display_data"
    },
    {
     "name": "stdout",
     "output_type": "stream",
     "text": [
      "No se cumplió la con la jornada completa en el siguiente día: \n"
     ]
    },
    {
     "data": {
      "text/plain": [
       "Nombre                           Ruth\n",
       "Minutos totales por dia           447\n",
       "Fecha                      06/06/2024\n",
       "Sábado                              0\n",
       "Domingo/Feriado                     0\n",
       "Minutos extra 50%                 -33\n",
       "Minutos extra 100%                  0\n",
       "Name: 28, dtype: object"
      ]
     },
     "metadata": {},
     "output_type": "display_data"
    },
    {
     "name": "stdout",
     "output_type": "stream",
     "text": [
      "No se cumplió la con la jornada completa en el siguiente día: \n"
     ]
    },
    {
     "data": {
      "text/plain": [
       "Nombre                           Ruth\n",
       "Minutos totales por dia           345\n",
       "Fecha                      19/06/2024\n",
       "Sábado                              0\n",
       "Domingo/Feriado                     0\n",
       "Minutos extra 50%                -135\n",
       "Minutos extra 100%                  0\n",
       "Name: 37, dtype: object"
      ]
     },
     "metadata": {},
     "output_type": "display_data"
    },
    {
     "name": "stdout",
     "output_type": "stream",
     "text": [
      "No se cumplió la con la jornada completa en el siguiente día: \n"
     ]
    },
    {
     "data": {
      "text/plain": [
       "Nombre                       Graciela\n",
       "Minutos totales por dia           341\n",
       "Fecha                      19/06/2024\n",
       "Sábado                              0\n",
       "Domingo/Feriado                     0\n",
       "Minutos extra 50%                -139\n",
       "Minutos extra 100%                  0\n",
       "Name: 57, dtype: object"
      ]
     },
     "metadata": {},
     "output_type": "display_data"
    },
    {
     "name": "stdout",
     "output_type": "stream",
     "text": [
      "No se cumplió la con la jornada completa en el siguiente día: \n"
     ]
    },
    {
     "data": {
      "text/plain": [
       "Nombre                       Carla Na\n",
       "Minutos totales por dia           470\n",
       "Fecha                      06/06/2024\n",
       "Sábado                              0\n",
       "Domingo/Feriado                     0\n",
       "Minutos extra 50%                 -10\n",
       "Minutos extra 100%                  0\n",
       "Name: 67, dtype: object"
      ]
     },
     "metadata": {},
     "output_type": "display_data"
    },
    {
     "name": "stdout",
     "output_type": "stream",
     "text": [
      "No se cumplió la con la jornada completa en el siguiente día: \n"
     ]
    },
    {
     "data": {
      "text/plain": [
       "Nombre                       Carla Na\n",
       "Minutos totales por dia           338\n",
       "Fecha                      19/06/2024\n",
       "Sábado                              0\n",
       "Domingo/Feriado                     0\n",
       "Minutos extra 50%                -142\n",
       "Minutos extra 100%                  0\n",
       "Name: 76, dtype: object"
      ]
     },
     "metadata": {},
     "output_type": "display_data"
    },
    {
     "name": "stdout",
     "output_type": "stream",
     "text": [
      "No se cumplió la con la jornada completa en el siguiente día: \n"
     ]
    },
    {
     "data": {
      "text/plain": [
       "Nombre                     Maria Narvaez\n",
       "Minutos totales por dia              474\n",
       "Fecha                         06/06/2024\n",
       "Sábado                                 0\n",
       "Domingo/Feriado                        0\n",
       "Minutos extra 50%                     -6\n",
       "Minutos extra 100%                     0\n",
       "Name: 87, dtype: object"
      ]
     },
     "metadata": {},
     "output_type": "display_data"
    },
    {
     "name": "stdout",
     "output_type": "stream",
     "text": [
      "No se cumplió la con la jornada completa en el siguiente día: \n"
     ]
    },
    {
     "data": {
      "text/plain": [
       "Nombre                     Maria Narvaez\n",
       "Minutos totales por dia              342\n",
       "Fecha                         19/06/2024\n",
       "Sábado                                 0\n",
       "Domingo/Feriado                        0\n",
       "Minutos extra 50%                   -138\n",
       "Minutos extra 100%                     0\n",
       "Name: 96, dtype: object"
      ]
     },
     "metadata": {},
     "output_type": "display_data"
    },
    {
     "name": "stdout",
     "output_type": "stream",
     "text": [
      "No se cumplió la con la jornada completa en el siguiente día: \n"
     ]
    },
    {
     "data": {
      "text/plain": [
       "Nombre                       Duvan Ra\n",
       "Minutos totales por dia           341\n",
       "Fecha                      19/06/2024\n",
       "Sábado                              0\n",
       "Domingo/Feriado                     0\n",
       "Minutos extra 50%                -139\n",
       "Minutos extra 100%                  0\n",
       "Name: 116, dtype: object"
      ]
     },
     "metadata": {},
     "output_type": "display_data"
    },
    {
     "name": "stdout",
     "output_type": "stream",
     "text": [
      "No se cumplió la con la jornada completa en el siguiente día: \n"
     ]
    },
    {
     "data": {
      "text/plain": [
       "Nombre                       Stalin N\n",
       "Minutos totales por dia           336\n",
       "Fecha                      19/06/2024\n",
       "Sábado                              0\n",
       "Domingo/Feriado                     0\n",
       "Minutos extra 50%                -144\n",
       "Minutos extra 100%                  0\n",
       "Name: 136, dtype: object"
      ]
     },
     "metadata": {},
     "output_type": "display_data"
    },
    {
     "name": "stdout",
     "output_type": "stream",
     "text": [
      "No se cumplió la con la jornada completa en el siguiente día: \n"
     ]
    },
    {
     "data": {
      "text/plain": [
       "Nombre                       Lucely R\n",
       "Minutos totales por dia           461\n",
       "Fecha                      11/06/2024\n",
       "Sábado                              0\n",
       "Domingo/Feriado                     0\n",
       "Minutos extra 50%                 -19\n",
       "Minutos extra 100%                  0\n",
       "Name: 150, dtype: object"
      ]
     },
     "metadata": {},
     "output_type": "display_data"
    },
    {
     "name": "stdout",
     "output_type": "stream",
     "text": [
      "No se cumplió la con la jornada completa en el siguiente día: \n"
     ]
    },
    {
     "data": {
      "text/plain": [
       "Nombre                       Lucely R\n",
       "Minutos totales por dia           336\n",
       "Fecha                      19/06/2024\n",
       "Sábado                              0\n",
       "Domingo/Feriado                     0\n",
       "Minutos extra 50%                -144\n",
       "Minutos extra 100%                  0\n",
       "Name: 156, dtype: object"
      ]
     },
     "metadata": {},
     "output_type": "display_data"
    },
    {
     "name": "stdout",
     "output_type": "stream",
     "text": [
      "No se cumplió la con la jornada completa en el siguiente día: \n"
     ]
    },
    {
     "data": {
      "text/plain": [
       "Nombre                       Marco Na\n",
       "Minutos totales por dia           346\n",
       "Fecha                      13/06/2024\n",
       "Sábado                              0\n",
       "Domingo/Feriado                     0\n",
       "Minutos extra 50%                -134\n",
       "Minutos extra 100%                  0\n",
       "Name: 172, dtype: object"
      ]
     },
     "metadata": {},
     "output_type": "display_data"
    },
    {
     "name": "stdout",
     "output_type": "stream",
     "text": [
      "No se cumplió la con la jornada completa en el siguiente día: \n"
     ]
    },
    {
     "data": {
      "text/plain": [
       "Nombre                       Marco Na\n",
       "Minutos totales por dia           319\n",
       "Fecha                      18/06/2024\n",
       "Sábado                              0\n",
       "Domingo/Feriado                     0\n",
       "Minutos extra 50%                -161\n",
       "Minutos extra 100%                  0\n",
       "Name: 175, dtype: object"
      ]
     },
     "metadata": {},
     "output_type": "display_data"
    },
    {
     "name": "stdout",
     "output_type": "stream",
     "text": [
      "No se cumplió la con la jornada completa en el siguiente día: \n"
     ]
    },
    {
     "data": {
      "text/plain": [
       "Nombre                       Marco Na\n",
       "Minutos totales por dia           334\n",
       "Fecha                      19/06/2024\n",
       "Sábado                              0\n",
       "Domingo/Feriado                     0\n",
       "Minutos extra 50%                -146\n",
       "Minutos extra 100%                  0\n",
       "Name: 176, dtype: object"
      ]
     },
     "metadata": {},
     "output_type": "display_data"
    },
    {
     "name": "stdout",
     "output_type": "stream",
     "text": [
      "No se cumplió la con la jornada completa en el siguiente día: \n"
     ]
    },
    {
     "data": {
      "text/plain": [
       "Nombre                          Karla\n",
       "Minutos totales por dia           210\n",
       "Fecha                      04/06/2024\n",
       "Sábado                              0\n",
       "Domingo/Feriado                     0\n",
       "Minutos extra 50%                -270\n",
       "Minutos extra 100%                  0\n",
       "Name: 184, dtype: object"
      ]
     },
     "metadata": {},
     "output_type": "display_data"
    },
    {
     "name": "stdout",
     "output_type": "stream",
     "text": [
      "No se cumplió la con la jornada completa en el siguiente día: \n"
     ]
    },
    {
     "data": {
      "text/plain": [
       "Nombre                          Karla\n",
       "Minutos totales por dia           332\n",
       "Fecha                      05/06/2024\n",
       "Sábado                              0\n",
       "Domingo/Feriado                     0\n",
       "Minutos extra 50%                -148\n",
       "Minutos extra 100%                  0\n",
       "Name: 185, dtype: object"
      ]
     },
     "metadata": {},
     "output_type": "display_data"
    },
    {
     "name": "stdout",
     "output_type": "stream",
     "text": [
      "No se cumplió la con la jornada completa en el siguiente día: \n"
     ]
    },
    {
     "data": {
      "text/plain": [
       "Nombre                          Karla\n",
       "Minutos totales por dia           333\n",
       "Fecha                      06/06/2024\n",
       "Sábado                              0\n",
       "Domingo/Feriado                     0\n",
       "Minutos extra 50%                -147\n",
       "Minutos extra 100%                  0\n",
       "Name: 186, dtype: object"
      ]
     },
     "metadata": {},
     "output_type": "display_data"
    },
    {
     "name": "stdout",
     "output_type": "stream",
     "text": [
      "No se cumplió la con la jornada completa en el siguiente día: \n"
     ]
    },
    {
     "data": {
      "text/plain": [
       "Nombre                          Karla\n",
       "Minutos totales por dia           336\n",
       "Fecha                      07/06/2024\n",
       "Sábado                              0\n",
       "Domingo/Feriado                     0\n",
       "Minutos extra 50%                -144\n",
       "Minutos extra 100%                  0\n",
       "Name: 187, dtype: object"
      ]
     },
     "metadata": {},
     "output_type": "display_data"
    },
    {
     "name": "stdout",
     "output_type": "stream",
     "text": [
      "No se cumplió la con la jornada completa en el siguiente día: \n"
     ]
    },
    {
     "data": {
      "text/plain": [
       "Nombre                          Karla\n",
       "Minutos totales por dia           206\n",
       "Fecha                      10/06/2024\n",
       "Sábado                              0\n",
       "Domingo/Feriado                     0\n",
       "Minutos extra 50%                -274\n",
       "Minutos extra 100%                  0\n",
       "Name: 188, dtype: object"
      ]
     },
     "metadata": {},
     "output_type": "display_data"
    },
    {
     "name": "stdout",
     "output_type": "stream",
     "text": [
      "No se cumplió la con la jornada completa en el siguiente día: \n"
     ]
    },
    {
     "data": {
      "text/plain": [
       "Nombre                          Karla\n",
       "Minutos totales por dia           335\n",
       "Fecha                      19/06/2024\n",
       "Sábado                              0\n",
       "Domingo/Feriado                     0\n",
       "Minutos extra 50%                -145\n",
       "Minutos extra 100%                  0\n",
       "Name: 194, dtype: object"
      ]
     },
     "metadata": {},
     "output_type": "display_data"
    },
    {
     "name": "stdout",
     "output_type": "stream",
     "text": [
      "No se cumplió la con la jornada completa en el siguiente día: \n"
     ]
    },
    {
     "data": {
      "text/plain": [
       "Nombre                          Karla\n",
       "Minutos totales por dia           192\n",
       "Fecha                      24/06/2024\n",
       "Sábado                              0\n",
       "Domingo/Feriado                     0\n",
       "Minutos extra 50%                -288\n",
       "Minutos extra 100%                  0\n",
       "Name: 197, dtype: object"
      ]
     },
     "metadata": {},
     "output_type": "display_data"
    },
    {
     "name": "stdout",
     "output_type": "stream",
     "text": [
      "No se cumplió la con la jornada completa en el siguiente día: \n"
     ]
    },
    {
     "data": {
      "text/plain": [
       "Nombre                          Karla\n",
       "Minutos totales por dia           208\n",
       "Fecha                      26/06/2024\n",
       "Sábado                              0\n",
       "Domingo/Feriado                     0\n",
       "Minutos extra 50%                -272\n",
       "Minutos extra 100%                  0\n",
       "Name: 199, dtype: object"
      ]
     },
     "metadata": {},
     "output_type": "display_data"
    },
    {
     "name": "stdout",
     "output_type": "stream",
     "text": [
      "No se cumplió la con la jornada completa en el siguiente día: \n"
     ]
    },
    {
     "data": {
      "text/plain": [
       "Nombre                       Nancy Vi\n",
       "Minutos totales por dia           322\n",
       "Fecha                      10/06/2024\n",
       "Sábado                              0\n",
       "Domingo/Feriado                     0\n",
       "Minutos extra 50%                -158\n",
       "Minutos extra 100%                  0\n",
       "Name: 207, dtype: object"
      ]
     },
     "metadata": {},
     "output_type": "display_data"
    },
    {
     "name": "stdout",
     "output_type": "stream",
     "text": [
      "No se cumplió la con la jornada completa en el siguiente día: \n"
     ]
    },
    {
     "data": {
      "text/plain": [
       "Nombre                       Nancy Vi\n",
       "Minutos totales por dia           159\n",
       "Fecha                      13/06/2024\n",
       "Sábado                              0\n",
       "Domingo/Feriado                     0\n",
       "Minutos extra 50%                -321\n",
       "Minutos extra 100%                  0\n",
       "Name: 210, dtype: object"
      ]
     },
     "metadata": {},
     "output_type": "display_data"
    },
    {
     "name": "stdout",
     "output_type": "stream",
     "text": [
      "No se cumplió la con la jornada completa en el siguiente día: \n"
     ]
    },
    {
     "data": {
      "text/plain": [
       "Nombre                       Nancy Vi\n",
       "Minutos totales por dia           344\n",
       "Fecha                      19/06/2024\n",
       "Sábado                              0\n",
       "Domingo/Feriado                     0\n",
       "Minutos extra 50%                -136\n",
       "Minutos extra 100%                  0\n",
       "Name: 214, dtype: object"
      ]
     },
     "metadata": {},
     "output_type": "display_data"
    },
    {
     "name": "stdout",
     "output_type": "stream",
     "text": [
      "No se cumplió la con la jornada completa en el siguiente día: \n"
     ]
    },
    {
     "data": {
      "text/plain": [
       "Nombre                     Anderson Pe\n",
       "Minutos totales por dia            221\n",
       "Fecha                       10/06/2024\n",
       "Sábado                               0\n",
       "Domingo/Feriado                      0\n",
       "Minutos extra 50%                 -259\n",
       "Minutos extra 100%                   0\n",
       "Name: 238, dtype: object"
      ]
     },
     "metadata": {},
     "output_type": "display_data"
    },
    {
     "name": "stdout",
     "output_type": "stream",
     "text": [
      "No se cumplió la con la jornada completa en el siguiente día: \n"
     ]
    },
    {
     "data": {
      "text/plain": [
       "Nombre                     Anderson Pe\n",
       "Minutos totales por dia            473\n",
       "Fecha                       13/06/2024\n",
       "Sábado                               0\n",
       "Domingo/Feriado                      0\n",
       "Minutos extra 50%                   -7\n",
       "Minutos extra 100%                   0\n",
       "Name: 240, dtype: object"
      ]
     },
     "metadata": {},
     "output_type": "display_data"
    },
    {
     "name": "stdout",
     "output_type": "stream",
     "text": [
      "No se cumplió la con la jornada completa en el siguiente día: \n"
     ]
    },
    {
     "data": {
      "text/plain": [
       "Nombre                     Anderson Pe\n",
       "Minutos totales por dia            267\n",
       "Fecha                       14/06/2024\n",
       "Sábado                               0\n",
       "Domingo/Feriado                      0\n",
       "Minutos extra 50%                 -213\n",
       "Minutos extra 100%                   0\n",
       "Name: 241, dtype: object"
      ]
     },
     "metadata": {},
     "output_type": "display_data"
    },
    {
     "name": "stdout",
     "output_type": "stream",
     "text": [
      "No se cumplió la con la jornada completa en el siguiente día: \n"
     ]
    },
    {
     "data": {
      "text/plain": [
       "Nombre                     Anderson Pe\n",
       "Minutos totales por dia            344\n",
       "Fecha                       19/06/2024\n",
       "Sábado                               0\n",
       "Domingo/Feriado                      0\n",
       "Minutos extra 50%                 -136\n",
       "Minutos extra 100%                   0\n",
       "Name: 244, dtype: object"
      ]
     },
     "metadata": {},
     "output_type": "display_data"
    },
    {
     "name": "stdout",
     "output_type": "stream",
     "text": [
      "No se cumplió la con la jornada completa en el siguiente día: \n"
     ]
    },
    {
     "data": {
      "text/plain": [
       "Nombre                          Deisi\n",
       "Minutos totales por dia           336\n",
       "Fecha                      19/06/2024\n",
       "Sábado                              0\n",
       "Domingo/Feriado                     0\n",
       "Minutos extra 50%                -144\n",
       "Minutos extra 100%                  0\n",
       "Name: 263, dtype: object"
      ]
     },
     "metadata": {},
     "output_type": "display_data"
    },
    {
     "name": "stdout",
     "output_type": "stream",
     "text": [
      "No se cumplió la con la jornada completa en el siguiente día: \n"
     ]
    },
    {
     "data": {
      "text/plain": [
       "Nombre                          Deisi\n",
       "Minutos totales por dia           228\n",
       "Fecha                      28/06/2024\n",
       "Sábado                              0\n",
       "Domingo/Feriado                     0\n",
       "Minutos extra 50%                -252\n",
       "Minutos extra 100%                  0\n",
       "Name: 267, dtype: object"
      ]
     },
     "metadata": {},
     "output_type": "display_data"
    }
   ],
   "source": [
    "#Identificar valores anormales\n",
    "for i in range(len(totDATA[\"Minutos extra 50%\"])):\n",
    "    if totDATA.loc[i, \"Minutos extra 50%\"] < int(0):\n",
    "        print(\"No se cumplió la con la jornada completa en el siguiente día: \")\n",
    "        display(totDATA.loc[i])"
   ]
  },
  {
   "cell_type": "code",
   "execution_count": 13,
   "metadata": {},
   "outputs": [],
   "source": [
    "#Sumar minutos 50% y 100% por separado\n",
    "#Contar dias asistidos por trabajador\n",
    "listado = totDATA[\"Nombre\"].unique()\n",
    "tot50 = [0 for k in range(len(listado))]\n",
    "tot100 = [0 for k in range(len(listado))]\n",
    "dias = [0 for k in range(len(listado))]\n",
    "for i in range(len(totDATA[\"Nombre\"])):\n",
    "    for j in range(len(listado)):\n",
    "        if totDATA.loc[i, \"Nombre\"] == listado[j]:\n",
    "            tot50[j] += totDATA.loc[i, \"Minutos extra 50%\"]\n",
    "            tot100[j] += totDATA.loc[i, \"Minutos extra 100%\"]\n",
    "            dias[j] +=1\n",
    "reporte = pd.DataFrame({\"Nombre\": listado, \"Total minutos extra 50%\": tot50, \"Total minutos extra 100%\": tot100})\n",
    "#display(reporte)"
   ]
  },
  {
   "cell_type": "code",
   "execution_count": null,
   "metadata": {},
   "outputs": [
    {
     "data": {
      "text/html": [
       "<div>\n",
       "<style scoped>\n",
       "    .dataframe tbody tr th:only-of-type {\n",
       "        vertical-align: middle;\n",
       "    }\n",
       "\n",
       "    .dataframe tbody tr th {\n",
       "        vertical-align: top;\n",
       "    }\n",
       "\n",
       "    .dataframe thead th {\n",
       "        text-align: right;\n",
       "    }\n",
       "</style>\n",
       "<table border=\"1\" class=\"dataframe\">\n",
       "  <thead>\n",
       "    <tr style=\"text-align: right;\">\n",
       "      <th></th>\n",
       "      <th>Nombre</th>\n",
       "      <th>Total horas extras 50%</th>\n",
       "      <th>Total horas extras 100%</th>\n",
       "      <th>Dias asistidos</th>\n",
       "    </tr>\n",
       "  </thead>\n",
       "  <tbody>\n",
       "    <tr>\n",
       "      <th>0</th>\n",
       "      <td>Manuel F</td>\n",
       "      <td>46.600000</td>\n",
       "      <td>0.0</td>\n",
       "      <td>25</td>\n",
       "    </tr>\n",
       "    <tr>\n",
       "      <th>1</th>\n",
       "      <td>Ruth</td>\n",
       "      <td>19.333333</td>\n",
       "      <td>0.0</td>\n",
       "      <td>20</td>\n",
       "    </tr>\n",
       "    <tr>\n",
       "      <th>2</th>\n",
       "      <td>Graciela</td>\n",
       "      <td>18.250000</td>\n",
       "      <td>0.0</td>\n",
       "      <td>19</td>\n",
       "    </tr>\n",
       "    <tr>\n",
       "      <th>3</th>\n",
       "      <td>Carla Na</td>\n",
       "      <td>21.866667</td>\n",
       "      <td>0.0</td>\n",
       "      <td>20</td>\n",
       "    </tr>\n",
       "    <tr>\n",
       "      <th>4</th>\n",
       "      <td>Maria Narvaez</td>\n",
       "      <td>20.600000</td>\n",
       "      <td>0.0</td>\n",
       "      <td>20</td>\n",
       "    </tr>\n",
       "    <tr>\n",
       "      <th>5</th>\n",
       "      <td>Duvan Ra</td>\n",
       "      <td>16.533333</td>\n",
       "      <td>0.0</td>\n",
       "      <td>20</td>\n",
       "    </tr>\n",
       "    <tr>\n",
       "      <th>6</th>\n",
       "      <td>Stalin N</td>\n",
       "      <td>14.216667</td>\n",
       "      <td>0.0</td>\n",
       "      <td>20</td>\n",
       "    </tr>\n",
       "    <tr>\n",
       "      <th>7</th>\n",
       "      <td>Lucely R</td>\n",
       "      <td>15.800000</td>\n",
       "      <td>0.0</td>\n",
       "      <td>20</td>\n",
       "    </tr>\n",
       "    <tr>\n",
       "      <th>8</th>\n",
       "      <td>Marco Na</td>\n",
       "      <td>7.683333</td>\n",
       "      <td>0.0</td>\n",
       "      <td>20</td>\n",
       "    </tr>\n",
       "    <tr>\n",
       "      <th>9</th>\n",
       "      <td>Karla</td>\n",
       "      <td>-19.866667</td>\n",
       "      <td>0.0</td>\n",
       "      <td>18</td>\n",
       "    </tr>\n",
       "    <tr>\n",
       "      <th>10</th>\n",
       "      <td>Nancy Vi</td>\n",
       "      <td>12.000000</td>\n",
       "      <td>0.0</td>\n",
       "      <td>20</td>\n",
       "    </tr>\n",
       "    <tr>\n",
       "      <th>11</th>\n",
       "      <td>Diana Be</td>\n",
       "      <td>9.300000</td>\n",
       "      <td>0.0</td>\n",
       "      <td>11</td>\n",
       "    </tr>\n",
       "    <tr>\n",
       "      <th>12</th>\n",
       "      <td>Anderson Pe</td>\n",
       "      <td>0.116667</td>\n",
       "      <td>0.0</td>\n",
       "      <td>18</td>\n",
       "    </tr>\n",
       "    <tr>\n",
       "      <th>13</th>\n",
       "      <td>Deisi</td>\n",
       "      <td>5.750000</td>\n",
       "      <td>0.0</td>\n",
       "      <td>17</td>\n",
       "    </tr>\n",
       "  </tbody>\n",
       "</table>\n",
       "</div>"
      ],
      "text/plain": [
       "           Nombre  Total horas extras 50%  Total horas extras 100%  \\\n",
       "0        Manuel F               46.600000                      0.0   \n",
       "1            Ruth               19.333333                      0.0   \n",
       "2        Graciela               18.250000                      0.0   \n",
       "3        Carla Na               21.866667                      0.0   \n",
       "4   Maria Narvaez               20.600000                      0.0   \n",
       "5        Duvan Ra               16.533333                      0.0   \n",
       "6        Stalin N               14.216667                      0.0   \n",
       "7        Lucely R               15.800000                      0.0   \n",
       "8        Marco Na                7.683333                      0.0   \n",
       "9           Karla              -19.866667                      0.0   \n",
       "10       Nancy Vi               12.000000                      0.0   \n",
       "11       Diana Be                9.300000                      0.0   \n",
       "12    Anderson Pe                0.116667                      0.0   \n",
       "13          Deisi                5.750000                      0.0   \n",
       "\n",
       "    Dias asistidos  \n",
       "0               25  \n",
       "1               20  \n",
       "2               19  \n",
       "3               20  \n",
       "4               20  \n",
       "5               20  \n",
       "6               20  \n",
       "7               20  \n",
       "8               20  \n",
       "9               18  \n",
       "10              20  \n",
       "11              11  \n",
       "12              18  \n",
       "13              17  "
      ]
     },
     "metadata": {},
     "output_type": "display_data"
    }
   ],
   "source": [
    "#Tranformar a horas (decimal format) y añadir días asistidos\n",
    "hor50 = []\n",
    "hor100 = []\n",
    "for i in range(len(reporte[\"Nombre\"])):\n",
    "    h5 = reporte.loc[i, \"Total minutos extra 50%\"] / int(60)\n",
    "    hor50.append(h5)\n",
    "    h1 = reporte.loc[i, \"Total minutos extra 100%\"] / int(60)\n",
    "    hor100.append(h1)\n",
    "reporte_final = pd.DataFrame({\"Nombre\": listado, \"Total horas extras 50%\": hor50, \"Total horas extras 100%\": hor100, \"Dias asistidos\": dias})\n",
    "reporte_final.sort_values(by='Total horas extras 50%')\n",
    "display(reporte_final)  "
   ]
  }
 ],
 "metadata": {
  "kernelspec": {
   "display_name": "py310",
   "language": "python",
   "name": "python3"
  },
  "language_info": {
   "codemirror_mode": {
    "name": "ipython",
    "version": 3
   },
   "file_extension": ".py",
   "mimetype": "text/x-python",
   "name": "python",
   "nbconvert_exporter": "python",
   "pygments_lexer": "ipython3",
   "version": "3.10.14"
  }
 },
 "nbformat": 4,
 "nbformat_minor": 2
}
