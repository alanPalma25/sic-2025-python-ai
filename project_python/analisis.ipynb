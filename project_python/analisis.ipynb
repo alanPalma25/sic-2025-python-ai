{
 "cells": [
  {
   "cell_type": "markdown",
   "id": "71bd8d1b",
   "metadata": {},
   "source": [
    "# **Análisis de Horas Extras a Partir de Sistemas Biométricos de Control de Asistencia**\n",
    "### Proyecto Final Samsung Innovation Campus – Módulo de Python (EC04)\n",
    "\n",
    "**Integrantes:**\n",
    "- Ulices Chingo \n",
    "- Sofia Feijóo\n",
    "- Brayan Maisincho\n",
    "- Esteban Quiña\n",
    "- Alan Palma"
   ]
  },
  {
   "cell_type": "code",
   "execution_count": 1,
   "id": "2023c643",
   "metadata": {},
   "outputs": [],
   "source": [
    "# Importar Librerías\n",
    "import pandas as pd\n",
    "import datetime\n",
    "from datetime import datetime, timedelta\n",
    "import os\n",
    "import matplotlib.pyplot as plt\n",
    "\n",
    "# Importar modulos propios\n",
    "from src.procesamiento import cargar_datos, procesamiento\n",
    "from src.horas_extra import horas_extras\n",
    "from src.reporte import val_anormales, generar_reporte"
   ]
  },
  {
   "cell_type": "markdown",
   "id": "d3f5126a",
   "metadata": {},
   "source": [
    "### Análisis del mes de Junio"
   ]
  },
  {
   "cell_type": "code",
   "execution_count": 2,
   "id": "e995a368",
   "metadata": {},
   "outputs": [
    {
     "name": "stdout",
     "output_type": "stream",
     "text": [
      "Cargando archivo de tipo: .csv\n",
      "Archivo cargado exitosamente!\n",
      "Columnas renombradas exitosamente.\n"
     ]
    }
   ],
   "source": [
    "# Definir directorio y archivo\n",
    "dir = \"data/\"\n",
    "file_name = \"miscelaneosjunio2024.csv\"\n",
    "\n",
    "# Cargar y procesar datos\n",
    "data = cargar_datos(dir + file_name)\n",
    "totDATA = procesamiento(data)\n",
    "\n",
    "# display(totDATA)"
   ]
  },
  {
   "cell_type": "code",
   "execution_count": 3,
   "id": "25ae943f",
   "metadata": {},
   "outputs": [
    {
     "name": "stdout",
     "output_type": "stream",
     "text": [
      "10 feriados cargados desde data/feriados_2024.csv\n",
      "Cálculo de horas extras completado.\n"
     ]
    }
   ],
   "source": [
    "# Calcular horas extras\n",
    "horas_extras(totDATA, mes=\"junio\", feriados_csv=\"data/feriados_2024.csv\")"
   ]
  },
  {
   "cell_type": "code",
   "execution_count": 5,
   "id": "f4d7f138",
   "metadata": {},
   "outputs": [
    {
     "name": "stdout",
     "output_type": "stream",
     "text": [
      "Directorio 'output_data' ya existe.\n",
      "Reporte guardado exitosamente en output_data/reporte_horas_extras_junio2024.csv\n"
     ]
    }
   ],
   "source": [
    "# Generar reporte\n",
    "out_name = \"reporte_horas_extras_junio2024.csv\"\n",
    "rep_junio = generar_reporte(totDATA, file_name = out_name)"
   ]
  },
  {
   "cell_type": "code",
   "execution_count": 6,
   "id": "7b6d4295",
   "metadata": {},
   "outputs": [
    {
     "data": {
      "text/html": [
       "<div>\n",
       "<style scoped>\n",
       "    .dataframe tbody tr th:only-of-type {\n",
       "        vertical-align: middle;\n",
       "    }\n",
       "\n",
       "    .dataframe tbody tr th {\n",
       "        vertical-align: top;\n",
       "    }\n",
       "\n",
       "    .dataframe thead th {\n",
       "        text-align: right;\n",
       "    }\n",
       "</style>\n",
       "<table border=\"1\" class=\"dataframe\">\n",
       "  <thead>\n",
       "    <tr style=\"text-align: right;\">\n",
       "      <th></th>\n",
       "      <th>Nombre</th>\n",
       "      <th>Total horas extras 50%</th>\n",
       "      <th>Total horas extras 100%</th>\n",
       "      <th>Dias asistidos</th>\n",
       "    </tr>\n",
       "  </thead>\n",
       "  <tbody>\n",
       "    <tr>\n",
       "      <th>0</th>\n",
       "      <td>Manuel F</td>\n",
       "      <td>46.600000</td>\n",
       "      <td>0.0</td>\n",
       "      <td>25</td>\n",
       "    </tr>\n",
       "    <tr>\n",
       "      <th>1</th>\n",
       "      <td>Ruth</td>\n",
       "      <td>19.333333</td>\n",
       "      <td>0.0</td>\n",
       "      <td>20</td>\n",
       "    </tr>\n",
       "    <tr>\n",
       "      <th>2</th>\n",
       "      <td>Graciela</td>\n",
       "      <td>18.250000</td>\n",
       "      <td>0.0</td>\n",
       "      <td>19</td>\n",
       "    </tr>\n",
       "    <tr>\n",
       "      <th>3</th>\n",
       "      <td>Carla Na</td>\n",
       "      <td>21.866667</td>\n",
       "      <td>0.0</td>\n",
       "      <td>20</td>\n",
       "    </tr>\n",
       "    <tr>\n",
       "      <th>4</th>\n",
       "      <td>Maria Narvaez</td>\n",
       "      <td>20.600000</td>\n",
       "      <td>0.0</td>\n",
       "      <td>20</td>\n",
       "    </tr>\n",
       "    <tr>\n",
       "      <th>5</th>\n",
       "      <td>Duvan Ra</td>\n",
       "      <td>16.533333</td>\n",
       "      <td>0.0</td>\n",
       "      <td>20</td>\n",
       "    </tr>\n",
       "    <tr>\n",
       "      <th>6</th>\n",
       "      <td>Stalin N</td>\n",
       "      <td>14.216667</td>\n",
       "      <td>0.0</td>\n",
       "      <td>20</td>\n",
       "    </tr>\n",
       "    <tr>\n",
       "      <th>7</th>\n",
       "      <td>Lucely R</td>\n",
       "      <td>15.800000</td>\n",
       "      <td>0.0</td>\n",
       "      <td>20</td>\n",
       "    </tr>\n",
       "    <tr>\n",
       "      <th>8</th>\n",
       "      <td>Marco Na</td>\n",
       "      <td>7.683333</td>\n",
       "      <td>0.0</td>\n",
       "      <td>20</td>\n",
       "    </tr>\n",
       "    <tr>\n",
       "      <th>9</th>\n",
       "      <td>Karla</td>\n",
       "      <td>-19.866667</td>\n",
       "      <td>0.0</td>\n",
       "      <td>18</td>\n",
       "    </tr>\n",
       "    <tr>\n",
       "      <th>10</th>\n",
       "      <td>Nancy Vi</td>\n",
       "      <td>12.000000</td>\n",
       "      <td>0.0</td>\n",
       "      <td>20</td>\n",
       "    </tr>\n",
       "    <tr>\n",
       "      <th>11</th>\n",
       "      <td>Diana Be</td>\n",
       "      <td>9.300000</td>\n",
       "      <td>0.0</td>\n",
       "      <td>11</td>\n",
       "    </tr>\n",
       "    <tr>\n",
       "      <th>12</th>\n",
       "      <td>Anderson Pe</td>\n",
       "      <td>0.116667</td>\n",
       "      <td>0.0</td>\n",
       "      <td>18</td>\n",
       "    </tr>\n",
       "    <tr>\n",
       "      <th>13</th>\n",
       "      <td>Deisi</td>\n",
       "      <td>5.750000</td>\n",
       "      <td>0.0</td>\n",
       "      <td>17</td>\n",
       "    </tr>\n",
       "  </tbody>\n",
       "</table>\n",
       "</div>"
      ],
      "text/plain": [
       "           Nombre  Total horas extras 50%  Total horas extras 100%  \\\n",
       "0        Manuel F               46.600000                      0.0   \n",
       "1            Ruth               19.333333                      0.0   \n",
       "2        Graciela               18.250000                      0.0   \n",
       "3        Carla Na               21.866667                      0.0   \n",
       "4   Maria Narvaez               20.600000                      0.0   \n",
       "5        Duvan Ra               16.533333                      0.0   \n",
       "6        Stalin N               14.216667                      0.0   \n",
       "7        Lucely R               15.800000                      0.0   \n",
       "8        Marco Na                7.683333                      0.0   \n",
       "9           Karla              -19.866667                      0.0   \n",
       "10       Nancy Vi               12.000000                      0.0   \n",
       "11       Diana Be                9.300000                      0.0   \n",
       "12    Anderson Pe                0.116667                      0.0   \n",
       "13          Deisi                5.750000                      0.0   \n",
       "\n",
       "    Dias asistidos  \n",
       "0               25  \n",
       "1               20  \n",
       "2               19  \n",
       "3               20  \n",
       "4               20  \n",
       "5               20  \n",
       "6               20  \n",
       "7               20  \n",
       "8               20  \n",
       "9               18  \n",
       "10              20  \n",
       "11              11  \n",
       "12              18  \n",
       "13              17  "
      ]
     },
     "metadata": {},
     "output_type": "display_data"
    }
   ],
   "source": [
    "display(rep_junio)"
   ]
  }
 ],
 "metadata": {
  "kernelspec": {
   "display_name": "py310",
   "language": "python",
   "name": "python3"
  },
  "language_info": {
   "codemirror_mode": {
    "name": "ipython",
    "version": 3
   },
   "file_extension": ".py",
   "mimetype": "text/x-python",
   "name": "python",
   "nbconvert_exporter": "python",
   "pygments_lexer": "ipython3",
   "version": "3.10.14"
  }
 },
 "nbformat": 4,
 "nbformat_minor": 5
}
