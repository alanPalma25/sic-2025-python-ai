{
 "cells": [
  {
   "cell_type": "markdown",
   "id": "5ad8356f",
   "metadata": {},
   "source": [
    "# Actividades Capítulo 3.\n",
    "\n",
    "\n",
    "# Concepto básico de programación e inicio en Python\n",
    "\n",
    "## Resumen de actividades\n",
    "\n",
    "\n",
    "- **Unidad 17.** Función\n",
    "- **Unidad 18.** Llamada a la función de recurrencia.\n",
    "- **Unidad 19.** Lambda\n",
    "- **Unidad 20.** Clausura\n",
    "- **Unidad 21.** Clase\n"
   ]
  },
  {
   "cell_type": "markdown",
   "id": "8c5aa9c8",
   "metadata": {},
   "source": [
    "# Actividad: Creacion de funciones.\n",
    "\n",
    "\n",
    "## Instrucciones\n",
    "\n",
    "1. Defina en forma breve el concepto de función.\n",
    "\n",
    "2. Crear una función para realizar la suma de los números impares en el rango de 0 a 100, dentro de la función imprima los valores sumados y al final retorne el resultado de la sumatoria.\n"
   ]
  },
  {
   "cell_type": "code",
   "execution_count": 1,
   "id": "90cd2e33",
   "metadata": {},
   "outputs": [],
   "source": [
    "# Espacio para desarrollar el código requerido, recuerde agregar algunos\n",
    "# comentarios breves sobre su funcionamiento.\n",
    "\n",
    "\n",
    "def sum_odd(n):\n",
    "    \"\"\"\n",
    "    Función para sumar de 0 a n, solo números impares.\n",
    "    \"\"\"\n",
    "    # Iniciar l suma en cero\n",
    "    sum = 0\n",
    "\n",
    "    # Recorrer todos los numeros de 0 a n\n",
    "    for num in range(n+1): \n",
    "        if num%2 != 0: # Seleccionar los impares\n",
    "            print(num) \n",
    "            sum += num # Sumar\n",
    "    \n",
    "    return sum"
   ]
  },
  {
   "cell_type": "code",
   "execution_count": 2,
   "id": "648b982f",
   "metadata": {},
   "outputs": [
    {
     "name": "stdout",
     "output_type": "stream",
     "text": [
      "1\n",
      "3\n",
      "5\n",
      "7\n",
      "9\n",
      "11\n",
      "13\n",
      "15\n",
      "17\n",
      "19\n",
      "21\n",
      "23\n",
      "25\n",
      "27\n",
      "29\n",
      "31\n",
      "33\n",
      "35\n",
      "37\n",
      "39\n",
      "41\n",
      "43\n",
      "45\n",
      "47\n",
      "49\n",
      "51\n",
      "53\n",
      "55\n",
      "57\n",
      "59\n",
      "61\n",
      "63\n",
      "65\n",
      "67\n",
      "69\n",
      "71\n",
      "73\n",
      "75\n",
      "77\n",
      "79\n",
      "81\n",
      "83\n",
      "85\n",
      "87\n",
      "89\n",
      "91\n",
      "93\n",
      "95\n",
      "97\n",
      "99\n",
      "El resultado de la suma es:  2500\n"
     ]
    }
   ],
   "source": [
    "# Llamar la funcion \n",
    "n = 100\n",
    "sum_res = sum_odd(n)\n",
    "\n",
    "print(\"El resultado de la suma es: \", sum_res)"
   ]
  },
  {
   "cell_type": "markdown",
   "id": "a11871f3",
   "metadata": {},
   "source": [
    "# Actividad: Diseñe una función para codificar strings y otra para decodificar strings.\n",
    "\n",
    "1. Revise documentación relacionada a los procesos de encriptación, explique brevemente como funcionan.\n",
    "2. Ambas funciones deben tener como entrada un string y una ¨Clave\", la ¨Clave¨ será usada para codificar y decodificar.\n",
    "3. El desarrollo de está actividad esta abierto a multiples soluciones, por favor sea original en su respuesta.\n"
   ]
  },
  {
   "cell_type": "code",
   "execution_count": 3,
   "id": "1e7a5371",
   "metadata": {},
   "outputs": [
    {
     "name": "stdout",
     "output_type": "stream",
     "text": [
      "0 ^ 0 = 0\n",
      "0 ^ 1 = 1\n",
      "1 ^ 0 = 1\n",
      "1 ^ 1 = 0\n",
      "5 ^ 3 = 6\n",
      "5\n",
      "\n",
      "m in ASCII:  109\n",
      "Después de aplicar la clave:  110\n",
      "Usando la clave dos veces:  109\n"
     ]
    }
   ],
   "source": [
    "# Espacio para desarrollar la actividad, si tienes alguna duda o comentario adicional\n",
    "# lo puedes dejar planteado acá.\n",
    "\n",
    "# En mi implementación usare la operación \"modulo-2 addition\" o operación XOR.\n",
    "# Nota: originalmente se usa para codigós de encripación.\n",
    "\n",
    "# Notar que:\n",
    "\n",
    "# Modulo-2 addition de dos bits\n",
    "result1 = 0 ^ 0  # Result is 0\n",
    "result2 = 0 ^ 1  # Result is 1\n",
    "result3 = 1 ^ 0  # Result is 1\n",
    "result4 = 1 ^ 1  # Result is 0\n",
    "\n",
    "print(f\"0 ^ 0 = {result1}\")\n",
    "print(f\"0 ^ 1 = {result2}\")\n",
    "print(f\"1 ^ 0 = {result3}\")\n",
    "print(f\"1 ^ 1 = {result4}\")\n",
    "\n",
    "# Esto se puede extender a cadenas con la ayuda de los códigos ASCII (con enteros mas grandes)\n",
    "# Modulo-2 addition para enteros mas grandes\n",
    "a = 5  # Binary: 101\n",
    "b = 3  # Binary: 011\n",
    "result_bitwise = a ^ b  # Binary: 110 \n",
    "print(f\"{a} ^ {b} = {result_bitwise}\")\n",
    "print(result_bitwise ^ b)\n",
    "\n",
    "# Lo interesante es que luego de aplicar dos veces la \"clave\" se retorna al mensage original. \n",
    "\n",
    "leter = \"m\"\n",
    "leter_ascii = ord(leter)\n",
    "key = 3\n",
    "\n",
    "print(f\"\\n{leter} in ASCII: \", leter_ascii)\n",
    "print(f\"Después de aplicar la clave: \", leter_ascii ^ key)\n",
    "print(f\"Usando la clave dos veces: \", leter_ascii ^ key ^ key)"
   ]
  },
  {
   "cell_type": "markdown",
   "id": "83a97c16",
   "metadata": {},
   "source": [
    "$$\n",
    "(a \\oplus k) \\oplus k = a,\n",
    "$$\n",
    "\n",
    "donde $a$ es el mensaje y $k$ es la clave."
   ]
  },
  {
   "cell_type": "code",
   "execution_count": 49,
   "id": "36c55d31",
   "metadata": {},
   "outputs": [],
   "source": [
    "def message_codification(mess, key):\n",
    "    \"\"\"\n",
    "    Función que codifica un mensaje dado una clave.\n",
    "        Entradas:\n",
    "            mess (str): mensaje a codificar.\n",
    "            key (int o str): llave para codificar.\n",
    "        Salida:\n",
    "            mess_cod (str): mensaje codificado. \n",
    "    \"\"\"\n",
    "    list1 = [ord(l) for l in mess]  # Convertir mensaje en lista de códigos numéricos\n",
    "    \n",
    "    # Si la clave es string, convertir en lista de números\n",
    "    if isinstance(key, str):\n",
    "        key = [ord(l_key) for l_key in key]\n",
    "\n",
    "    list_enc_str = []\n",
    "    for i, code in enumerate(list1):\n",
    "        if isinstance(key, int):\n",
    "            # XOR directo con entero\n",
    "            enc = code ^ key\n",
    "        else:\n",
    "            # XOR con clave de texto (usar módulo para recorrer la clave)\n",
    "            enc = code ^ key[i % len(key)]\n",
    "        \n",
    "        list_enc_str.append(chr(enc))  # Convertir a caracter\n",
    "        list_enc_str.append(\"s\")       # Separador artificial\n",
    "    \n",
    "    return \"\".join(list_enc_str)\n",
    "\n",
    "def message_decodification(mess_cod, key):\n",
    "    \"\"\"\n",
    "    Función que decodifica un mensaje dado una clave.\n",
    "        Entradas:\n",
    "            mess_cod (str): mensaje codificado.\n",
    "            key (int, str): llave para decodificar.\n",
    "        Salida:\n",
    "            mess_dec (str): mensaje decodificado.\n",
    "    \"\"\"\n",
    "    # Si la clave es string, convertir en lista de códigos\n",
    "    if isinstance(key, str):\n",
    "        key = [ord(l_key) for l_key in key]\n",
    "\n",
    "    # El mensaje codificado está intercalado con \"s\", lo filtramos\n",
    "    list_codes = [ord(l) for l in mess_cod if l != \"s\"]\n",
    "\n",
    "    list_dec_str = []\n",
    "    for code in list_codes:\n",
    "        if isinstance(key, list):\n",
    "            # Si la clave es un string, usamos XOR con la clave repetida\n",
    "            for k in key:\n",
    "                code = code ^ k\n",
    "            list_dec_str.append(chr(code))\n",
    "        else:\n",
    "            # Si la clave es un entero\n",
    "            list_dec_str.append(chr(code ^ key))\n",
    "\n",
    "    return \"\".join(list_dec_str)"
   ]
  },
  {
   "cell_type": "code",
   "execution_count": 50,
   "id": "94037583",
   "metadata": {},
   "outputs": [
    {
     "name": "stdout",
     "output_type": "stream",
     "text": [
      "Mensaje codificado:\n",
      " Osks\"slsmsos`spsgs\"sgsqs\"sCsnscsls\"sRscsnsoscs\"s{s\"sgsqsvsms{s\"srscspsvsksasksrscslsfsms\"sgsls\"sQsKsAs\"s0s2s0s7s\n"
     ]
    }
   ],
   "source": [
    "key = 2\n",
    "m = \"Mi nombre es Alan Palma y estoy participando en SIC 2025\"\n",
    "\n",
    "m_codificado = message_codification(m, key)\n",
    "\n",
    "print(\"Mensaje codificado:\\n\", m_codificado)"
   ]
  },
  {
   "cell_type": "code",
   "execution_count": 51,
   "id": "11229abc",
   "metadata": {},
   "outputs": [
    {
     "name": "stdout",
     "output_type": "stream",
     "text": [
      "Mensaje descodificado: \n",
      " Mi nombre es Alan Palma y estoy participando en SIC 2025\n"
     ]
    }
   ],
   "source": [
    "m_descodificado = message_decodification(m_codificado, key)\n",
    "\n",
    "print(\"Mensaje descodificado: \\n\", m_descodificado)"
   ]
  },
  {
   "cell_type": "markdown",
   "id": "a207d974",
   "metadata": {},
   "source": [
    "\n",
    "# Actividad: Diseñe y codifique una función.\n",
    "\n",
    "1. Diseñe una función que revise el contenido de una carpeta, la mision de esta funcion es revisar todas las carpetas existentes y obtener los nommbres de los archivos contenidos.\n",
    "2. Considere que dentro de cada carpete pueden existir otras carpetas.\n",
    "3. Todas las carpetas deben ser revisadas.\n",
    "4. Con la ejecucion de la siguiente celda se crearan las carpetas y los archivos.\n",
    "5. Es posible que debas considerar el uso de una función recursiva."
   ]
  },
  {
   "cell_type": "code",
   "execution_count": 8,
   "id": "b4ac1d5a",
   "metadata": {},
   "outputs": [
    {
     "name": "stdout",
     "output_type": "stream",
     "text": [
      "Carpeta_principal\n",
      "Carpeta_principal/folder_3\n",
      "Carpeta_principal/folder_6\n",
      "Carpeta_principal/folder_12\n",
      "Carpeta_principal/folder_13\n",
      "Carpeta_principal/folder_14\n",
      "Carpeta_principal/folder_12\n",
      "Carpeta_principal/folder_12/folder_0\n",
      "Carpeta_principal/folder_12/folder_0\n",
      "Carpeta_principal/folder_12/folder_0/folder_1\n",
      "Carpeta_principal/folder_12/folder_0/folder_2\n",
      "Carpeta_principal/folder_12/folder_0/folder_2\n",
      "Carpeta_principal/folder_12/folder_0/folder_2/folder_1\n",
      "Carpeta_principal/folder_12/folder_0/folder_2/folder_1\n",
      "Carpeta_principal/folder_12/folder_0/folder_1\n",
      "Carpeta_principal/folder_13\n",
      "Carpeta_principal/folder_3\n",
      "Carpeta_principal/folder_6\n",
      "Carpeta_principal/folder_14\n"
     ]
    }
   ],
   "source": [
    "import os\n",
    "import random\n",
    "\n",
    "def guardar_archivo(text_content, file_path):\n",
    "    with open(file_path, 'w') as file:\n",
    "        # Write the text content to the file\n",
    "        file.write(text_content)\n",
    "\n",
    "\n",
    "if os.path.exists(\"Carpeta_principal\"):\n",
    "    os.system(f'rm -r \"Carpeta_principal\"')\n",
    "\n",
    "os.mkdir(\"Carpeta_principal\")\n",
    "# Inicialización\n",
    "\n",
    "\n",
    "\n",
    "def crear_carpetas(ruta_actual):\n",
    "    global numeracion_del_archivo, numero_de_sub_carpetas\n",
    "    numero_de_archivos_o_carpetas = random.randint(0,15) # genración de numero aleatorio entre 0 y 15.\n",
    "    print(ruta_actual)\n",
    "    if numero_de_sub_carpetas < max_carpetas:\n",
    "        for n in range(0, numero_de_archivos_o_carpetas):\n",
    "\n",
    "            numero_aleatorio_2 = random.randint(0,2) # número aleatoria entre 0 y 1.\n",
    "            if numero_aleatorio_2 == 0:\n",
    "                os.mkdir(ruta_actual +'/'+ 'folder_{}'.format(n) )\n",
    "                print(ruta_actual +'/'+ 'folder_{}'.format(n))\n",
    "            else:\n",
    "                contenido_del_archivo = \"Contenido_{}\".format(numeracion_del_archivo)                \n",
    "                ruta_del_archivo = ruta_actual + '/' + \"archivo_{}.text\".format(numeracion_del_archivo)\n",
    "#                 print(\"ruta_del_archivo: \", ruta_del_archivo)\n",
    "                guardar_archivo(contenido_del_archivo, ruta_del_archivo)\n",
    "                numeracion_del_archivo += 1\n",
    "                \n",
    "        lista_de_nuevas_carpetas = [f.path for f in os.scandir(ruta_actual) if f.is_dir()] # Busqueda de nueva carpeta\n",
    "\n",
    "        numero_de_sub_carpetas += 1\n",
    "        for carpeta in lista_de_nuevas_carpetas:\n",
    "            crear_carpetas(carpeta)\n",
    "        \n",
    "max_carpetas = 4\n",
    "numeracion_del_archivo = 0\n",
    "numero_de_sub_carpetas = 0\n",
    "ruta_actual = \"Carpeta_principal\"\n",
    "crear_carpetas(ruta_actual)"
   ]
  },
  {
   "cell_type": "code",
   "execution_count": 55,
   "id": "8becf813",
   "metadata": {},
   "outputs": [],
   "source": [
    "# ! ls"
   ]
  },
  {
   "cell_type": "code",
   "execution_count": 59,
   "id": "a4f925a4",
   "metadata": {},
   "outputs": [],
   "source": [
    "# Celda para desarrollar \n",
    "\n",
    "def listar_archivos(path, level=0):\n",
    "    \"\"\"\n",
    "    Función recursiva que lista todos los archivos en una carpeta y sus subcarpetas.\n",
    "        Entradas:\n",
    "            ruta (str): ruta de la carpeta a revisar.\n",
    "            level (int): profundidad actual en la recursión (para formato).\n",
    "        Salida:\n",
    "            None (imprime nombres de archivos y carpetas).\n",
    "    \"\"\"\n",
    "    \n",
    "    elementos = os.listdir(path)  # Obtener contenido de la carpeta\n",
    "\n",
    "    if level == 0:\n",
    "        print(f\"Carpeta: {path}\")\n",
    "    \n",
    "    # Recorrer los elementos en 'path'\n",
    "    for elemento in elementos:\n",
    "\n",
    "        ruta_completa = os.path.join(path, elemento)\n",
    "\n",
    "        # Si es archivo, lo mostramos\n",
    "        if os.path.isfile(ruta_completa):\n",
    "            print(\" \" * (level + 1)*2 + f\"Archivo: {elemento}\")\n",
    "        # Si es carpeta, mostramos y llamamos recursivamente\n",
    "        elif os.path.isdir(ruta_completa):\n",
    "            print(\" \" * (level + 1)*2 + f\"Carpeta: {elemento}\")\n",
    "            listar_archivos(ruta_completa, level+1)\n"
   ]
  },
  {
   "cell_type": "code",
   "execution_count": 60,
   "id": "6e294c09",
   "metadata": {},
   "outputs": [
    {
     "name": "stdout",
     "output_type": "stream",
     "text": [
      "Carpeta: Carpeta_principal\n",
      "  Carpeta: folder_12\n",
      "    Archivo: archivo_10.text\n",
      "    Carpeta: folder_0\n",
      "      Carpeta: folder_2\n",
      "        Archivo: archivo_15.text\n",
      "        Archivo: archivo_16.text\n",
      "        Carpeta: folder_1\n",
      "      Archivo: archivo_13.text\n",
      "      Archivo: archivo_12.text\n",
      "      Archivo: archivo_14.text\n",
      "      Carpeta: folder_1\n",
      "      Archivo: archivo_11.text\n",
      "  Archivo: archivo_0.text\n",
      "  Carpeta: folder_13\n",
      "  Archivo: archivo_7.text\n",
      "  Archivo: archivo_1.text\n",
      "  Carpeta: folder_3\n",
      "  Carpeta: folder_6\n",
      "  Archivo: archivo_6.text\n",
      "  Archivo: archivo_8.text\n",
      "  Archivo: archivo_9.text\n",
      "  Carpeta: folder_14\n",
      "  Archivo: archivo_5.text\n",
      "  Archivo: archivo_4.text\n",
      "  Archivo: archivo_2.text\n",
      "  Archivo: archivo_3.text\n"
     ]
    }
   ],
   "source": [
    "# Definir el nombre de la carpeta principal\n",
    "carpeta = \"Carpeta_principal\"\n",
    "\n",
    "# Llamar a la funcion\n",
    "listar_archivos(carpeta)"
   ]
  },
  {
   "cell_type": "markdown",
   "id": "26a6bb9e",
   "metadata": {},
   "source": [
    "# Actividad: Crear diccionarios y guardarlos como archivo JSON.\n",
    "\n",
    "De la unidad 11 sección 4.6 revise el ejemplo mostrado.\n",
    "\n",
    "Genera un diccionario, sobre la información que deseas guardar como base de datos, desarrollo el código necesario para generar el archivo JSON, y también el código para cargar la información del archivo JSON.\n"
   ]
  },
  {
   "cell_type": "code",
   "execution_count": 61,
   "id": "b842daf3",
   "metadata": {},
   "outputs": [],
   "source": [
    "import json"
   ]
  },
  {
   "cell_type": "code",
   "execution_count": 62,
   "id": "6670eace",
   "metadata": {},
   "outputs": [],
   "source": [
    "# Espacio para desarrollar el código siguiendo las instrucciones.\n",
    "\n",
    "# Base de datos \n",
    "data_phys = {\n",
    "  \"velocity_ms\": [25.5, 10.2, 33.8],\n",
    "  \"acceleration_ms2\": [9.81, 4.5, 12.3],\n",
    "  \"mass_kg\": [12.3, 5.6, 20.1],\n",
    "  \"force_n\": [120.66, 25.2, 247.23],\n",
    "  \"energy_joules\": [1542.1, 320.5, 4500.8],\n",
    "  \"momentum_kgms\": [313.65, 57.12, 679.38],\n",
    "  \"distance_m\": [100.0, 25.5, 250.75],\n",
    "  \"time_s\": [4.0, 2.5, 6.3],\n",
    "  \"power_watts\": [385.53, 128.2, 714.29],\n",
    "  \"frequency_hz\": [60, 50, 75]\n",
    "}\n",
    "\n",
    "\n",
    "# Nombre del archivo a guardar\n",
    "name = 'book2.json'\n",
    "\n",
    "def save_json(file_name, data):\n",
    "    \"\"\"\n",
    "    Función para guardar archivos .json\n",
    "        Inputs:\n",
    "            file_name(str): Nombre del archivo a guardar con la extensión '.json'.\n",
    "            data(dict): Base de datos a guardar.\n",
    "    \"\"\"\n",
    "\n",
    "    # Crear un archivo .json con open\n",
    "    with open(file_name, 'w') as f:\n",
    "        json.dump(data, f, indent = '\\t')\n",
    "    print(f\"Archivo guardado satisfactoriamente como {name}\")\n",
    "\n",
    "def open_json(path):\n",
    "\n",
    "    # Abrir y leer el archivo JSON\n",
    "    with open(path, \"r\") as f:\n",
    "        data = json.load(f)   # Carga el contenido en un diccionario de Python\n",
    "\n",
    "    return data"
   ]
  },
  {
   "cell_type": "code",
   "execution_count": null,
   "id": "c76b315f",
   "metadata": {},
   "outputs": [
    {
     "name": "stdout",
     "output_type": "stream",
     "text": [
      "Archivo guardado satisfactoriamente como book2.json\n",
      "\n",
      "Contenido del archivo JSON (<class 'dict'>):\n",
      "velocity_ms : [25.5, 10.2, 33.8]\n",
      "acceleration_ms2 : [9.81, 4.5, 12.3]\n",
      "mass_kg : [12.3, 5.6, 20.1]\n",
      "force_n : [120.66, 25.2, 247.23]\n",
      "energy_joules : [1542.1, 320.5, 4500.8]\n",
      "momentum_kgms : [313.65, 57.12, 679.38]\n",
      "distance_m : [100.0, 25.5, 250.75]\n",
      "time_s : [4.0, 2.5, 6.3]\n",
      "power_watts : [385.53, 128.2, 714.29]\n",
      "frequency_hz : [60, 50, 75]\n"
     ]
    }
   ],
   "source": [
    "# Gurdar el archivo .json\n",
    "\n",
    "save_json(name, data_phys)\n",
    "\n",
    "# Leer el archivo .json\n",
    "path_name = name # Definir el nombre del archivo a leer\n",
    "data = open_json(path_name)\n",
    "\n",
    "# Mostrar el contenido\n",
    "print(f\"\\nContenido del archivo JSON ({type(data)}):\")\n",
    "\n",
    "# Recorremos las claves del diccionario y mostramos cada una con sus valores\n",
    "for key in data.keys():\n",
    "    print(key, \":\", data[key])"
   ]
  },
  {
   "cell_type": "markdown",
   "id": "fbfb4985",
   "metadata": {},
   "source": [
    "# Actividad: Uso de la funcion Lambda.\n",
    "\n",
    "## Instrucciones\n",
    "\n",
    "1. Escriba una función regular donde se realice una operación.\n",
    "2. Escriba la misma función donde use la expresión lambda.\n",
    "3. Explica brevemente las ventajas de usar la función Lambda.\n"
   ]
  },
  {
   "cell_type": "code",
   "execution_count": 67,
   "id": "fc5b1a43",
   "metadata": {},
   "outputs": [],
   "source": [
    "# Espacio para desarrollar el código siguiendo las instrucciones.\n",
    "\n",
    "a, b, c = 1, 2, 2\n",
    "\n",
    "def cuadratic_eq(a, b, c, x):\n",
    "    \"\"\"\n",
    "    Función para una ecuación cuadratica.\n",
    "        Inputs:\n",
    "            a, b, c (float): Coeficientes.\n",
    "            x(float): Variable independiente.\n",
    "        Ouput:\n",
    "            y(float): Resultado.\n",
    "    \"\"\"\n",
    "\n",
    "    y = a*x**2 + b*x + c\n",
    "\n",
    "    return y\n",
    "\n",
    "\n",
    "y = lambda x: a*x**2 + b*x + c\n"
   ]
  },
  {
   "cell_type": "code",
   "execution_count": 68,
   "id": "ae1dcc71",
   "metadata": {},
   "outputs": [
    {
     "name": "stdout",
     "output_type": "stream",
     "text": [
      "Función regular:  26\n",
      "Función lambda:  26\n"
     ]
    }
   ],
   "source": [
    "print(\"Función regular: \", cuadratic_eq(a, b, c, 4))\n",
    "print(\"Función lambda: \", y(4))"
   ]
  },
  {
   "cell_type": "markdown",
   "id": "71c7fad1",
   "metadata": {},
   "source": [
    "**Ventajas:**\n",
    "- Son más concisas que las funciones normales.\n",
    "- Muy útiles cuando necesitamos una función simple como argumento de otra \n",
    "  (ejemplo: map(), filter(), sorted()).\n",
    "- Evitan definir funciones adicionales que solo se usarán una vez."
   ]
  },
  {
   "cell_type": "markdown",
   "id": "98938d2d",
   "metadata": {},
   "source": [
    "# Actividad: Usar la función map para duplicar el valor de cada uno de los elementos contenidos.\n",
    "\n",
    "## Instrucciones\n",
    "\n",
    "1. Describa brevemente el funcionamiento y las ventajas de usar la función map\n",
    "2. Escriba el código en el siguiente espacio."
   ]
  },
  {
   "cell_type": "code",
   "execution_count": 84,
   "id": "a35ef1b7",
   "metadata": {},
   "outputs": [
    {
     "name": "stdout",
     "output_type": "stream",
     "text": [
      "Lista original: [1, 2, 3, 4, 5]\n",
      "Lista con valores duplicados: [2, 4, 6, 8, 10]\n"
     ]
    }
   ],
   "source": [
    "# Espacio para desarrollar el código.\n",
    "\n",
    "# Lista original\n",
    "numeros = [1, 2, 3, 4, 5]\n",
    "\n",
    "# Usando map con lambda para duplicar cada número\n",
    "duplicados = list(map(lambda x: x * 2, numeros))\n",
    "\n",
    "print(\"Lista original:\", numeros)\n",
    "print(\"Lista con valores duplicados:\", duplicados)\n"
   ]
  },
  {
   "cell_type": "markdown",
   "id": "3e9b3c75",
   "metadata": {},
   "source": [
    "**Ventajas:**\n",
    "- Evita el uso de loops explícitos haciendo el código más limpio y compacto.\n",
    "- Permite operaciones más rápidas en listas grandes."
   ]
  }
 ],
 "metadata": {
  "kernelspec": {
   "display_name": "py310",
   "language": "python",
   "name": "python3"
  },
  "language_info": {
   "codemirror_mode": {
    "name": "ipython",
    "version": 3
   },
   "file_extension": ".py",
   "mimetype": "text/x-python",
   "name": "python",
   "nbconvert_exporter": "python",
   "pygments_lexer": "ipython3",
   "version": "3.10.14"
  }
 },
 "nbformat": 4,
 "nbformat_minor": 5
}
