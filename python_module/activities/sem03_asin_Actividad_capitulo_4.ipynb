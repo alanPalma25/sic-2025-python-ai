{
 "cells": [
  {
   "cell_type": "markdown",
   "id": "5d671b98",
   "metadata": {},
   "source": [
    "# Actividades Capítulo 4 - Estructuras de Datos\n",
    "\n",
    "Resumen de la actividad.\n",
    "\n",
    "\n",
    "- **1. Pilas y Colas**\n",
    "  - Actividad 1.2 - Implementar una Cola\n",
    "\n",
    "\n",
    "- **2. Búsqueda Secuencial**\n",
    "  - Actividad 2.1 - Búsqueda en una Lista\n",
    "\n",
    "\n",
    "- **3. Búsqueda Binaria**\n",
    "  - Actividad 3.1 - Búsqueda Binaria\n",
    "\n",
    "\n",
    "- **4. Tablas Hash**\n",
    "  - Actividad 4.1 - Implementar una Tabla Hash"
   ]
  },
  {
   "cell_type": "markdown",
   "id": "33866775",
   "metadata": {},
   "source": [
    "# Actividad: Implementación de una Pila en Python\n",
    "\n",
    "En esta actividad, tendrás la oportunidad de aplicar tus conocimientos sobre estructuras de datos y programación en Python para implementar una pila (stack). Una pila es una estructura de datos que sigue el principio \"Last-In-First-Out\" (LIFO), lo que significa que el último elemento que se agrega es el primero en ser eliminado.\n",
    "\n",
    "## Resumen:\n",
    "\n",
    "- **stack** = [ ]  # Recordando que una pila es básicamente una lista.\n",
    "- **append**: Método utilizado para agregar un elemento a la lista.\n",
    "- **pop**: Método usado para eliminar elementos de la lista, sino se especifica el índice se elimina el último elemento y retorna la lista resultante."
   ]
  },
  {
   "cell_type": "code",
   "execution_count": 8,
   "id": "fbb2dca1",
   "metadata": {},
   "outputs": [],
   "source": [
    "nombres_aleatorios = [\"Ana\", \"Carlos\", \"David\", \"Elena\", \"Fernando\", \"Gabriela\",\n",
    "                      \"Hugo\", \"Isabel\", \"Juan\", \"Luis\", \"Lucía\",\n",
    "                      \"Lorena\", \"Manuel\", \"María\", \"Miguel\", \"Natalia\",\n",
    "                      \"Nicolás\", \"Nora\", \"Óscar\", \"Olivia\", \"Pablo\", \"Paula\",\n",
    "                      \"Pedro\", \"Raquel\", \"Rafael\", \"Renata\", \"Roberto\", \"Rosario\",\n",
    "                      \"Sara\", \"Sergio\", \"Silvia\", \"Tomás\", \"Teresa\", \"Víctor\", \"Verónica\",\n",
    "                      \"Ximena\", \"Xavier\", \"Yolanda\", \"Yenny\", \"Zaira\", \"Zoe\", \"Zacarías\"]\n",
    "\n",
    "# Generar un código para revisar los nombres contenidos en la lista, y guardarlos en diferentes listas,\n",
    "# de acuerdo a la inicial del nombre, use los comandos usandos antenirmente y barra los elementos usando \n",
    "# el comando \"for nombre in nombres_aleatorios:\" al final del proceso la lista inicial debe quedar vacia."
   ]
  },
  {
   "cell_type": "code",
   "execution_count": 9,
   "id": "addcd080",
   "metadata": {},
   "outputs": [
    {
     "name": "stdout",
     "output_type": "stream",
     "text": [
      "Listas organizadas por inicial:\n",
      "\n",
      "Z: ['Zacarías', 'Zoe', 'Zaira']\n",
      "Y: ['Yenny', 'Yolanda']\n",
      "X: ['Xavier', 'Ximena']\n",
      "V: ['Verónica', 'Víctor']\n",
      "T: ['Teresa', 'Tomás']\n",
      "S: ['Silvia', 'Sergio', 'Sara']\n",
      "R: ['Rosario', 'Roberto', 'Renata', 'Rafael', 'Raquel']\n",
      "P: ['Pedro', 'Paula', 'Pablo']\n",
      "O: ['Olivia']\n",
      "Ó: ['Óscar']\n",
      "N: ['Nora', 'Nicolás', 'Natalia']\n",
      "M: ['Miguel', 'María', 'Manuel']\n",
      "L: ['Lorena', 'Lucía', 'Luis']\n",
      "J: ['Juan']\n",
      "I: ['Isabel']\n",
      "H: ['Hugo']\n",
      "G: ['Gabriela']\n",
      "F: ['Fernando']\n",
      "E: ['Elena']\n",
      "D: ['David']\n",
      "C: ['Carlos']\n",
      "A: ['Ana']\n",
      "\n",
      "Lista inicial después del proceso: []\n"
     ]
    }
   ],
   "source": [
    "# Diccinario para guardar los nombres\n",
    "pila_por_inicial = {}\n",
    "\n",
    "# Recorre la pila\n",
    "for i in range(len(nombres_aleatorios)): \n",
    "\n",
    "    # Quitar el nombre de la lista original (pop en LIFO)\n",
    "    first_out = nombres_aleatorios.pop()\n",
    "\n",
    "    # Extraer la inicial\n",
    "    inicial = first_out[0]\n",
    "    \n",
    "    # Apilar el nombre en la lista correspondiente\n",
    "    pila_por_inicial.setdefault(inicial, [])\n",
    "\n",
    "    # Agregar el nombre extraido\n",
    "    pila_por_inicial[inicial].append(first_out)\n",
    "    \n",
    "\n",
    "print(\"Listas organizadas por inicial:\\n\")\n",
    "for inicial, pila in pila_por_inicial.items():\n",
    "    print(f\"{inicial}: {pila}\")\n",
    "\n",
    "print(\"\\nLista inicial después del proceso:\", nombres_aleatorios)"
   ]
  },
  {
   "cell_type": "markdown",
   "id": "490f04a8",
   "metadata": {},
   "source": [
    "# Actividad: Replique el código, mostrado en la presentación 36 correspondiente al capítulo 4.\n",
    "\n",
    "En este codódigo se muestra la creación de una clasa para crear una pila y hacer las actividades básicas correspondientes.\n",
    "\n",
    "- **__init__**: Creación de la pila.\n",
    "- **is_empty**: Verificación si la pila está vacia.\n",
    "- **push**: agregar elemento a la pila\n",
    "- **pop**:si la pila no está vacia eliminar el último de elemento.\n",
    "\n",
    "Use la notación mostrada en la presentacion 40, realice varias operaciones y comente brevemente los resultados (máximo 3 lineas), antes de pasar a la siguiente actividad asegurese de entender completamente la notación utilizada."
   ]
  },
  {
   "cell_type": "code",
   "execution_count": 25,
   "id": "950d71ca",
   "metadata": {},
   "outputs": [],
   "source": [
    "# Escriba su código en está celda y todos los comentarios necesarios en la misma celda.\n",
    "\n",
    "class Stack:\n",
    "\n",
    "    def __init__(self):\n",
    "        self.stack = []\n",
    "\n",
    "    def is_empty(self):\n",
    "        return True if len(self.stack) == 0 else False\n",
    "    \n",
    "    def push(self, item):\n",
    "        self.stack.append(item)\n",
    "\n",
    "    def pop(self):\n",
    "        return None if self.is_empty() else self.stack.pop()"
   ]
  },
  {
   "cell_type": "code",
   "execution_count": 31,
   "id": "98b04ef3",
   "metadata": {},
   "outputs": [
    {
     "name": "stdout",
     "output_type": "stream",
     "text": [
      "['Alan', 'Palma', 'Travez']\n",
      "Travez\n",
      "Palma\n",
      "Alan\n",
      "None\n"
     ]
    }
   ],
   "source": [
    "# Instanciar la clase\n",
    "stack = Stack()\n",
    "\n",
    "# Apilar elementos\n",
    "stack.push(\"Alan\")\n",
    "stack.push(\"Palma\")\n",
    "stack.push(\"Travez\")\n",
    "\n",
    "# Ver la pila hasta ahora\n",
    "print(stack.stack)\n",
    "\n",
    "# Desapilar elementos\n",
    "print(stack.pop())\n",
    "print(stack.pop())\n",
    "print(stack.pop())\n",
    "print(stack.pop())"
   ]
  },
  {
   "cell_type": "markdown",
   "id": "a4b67303",
   "metadata": {},
   "source": [
    "**Comentario:** Los resultados muestran el funcionamiento de nuestra clase Stack la cual incluye métodos para 'apilar' (Stack.push()) o 'desapilar' (Stack.pop()) elementos siguiendo el principio LIFO. Además, la misma verifica si la pila esta vacía retornando None en caso de ser cierto."
   ]
  },
  {
   "cell_type": "markdown",
   "id": "5f2fe9e8",
   "metadata": {},
   "source": [
    "# Actividad: Búsqueda secuencial.\n",
    "\n",
    "Se tiene una lista de 10 ciudades organizadas en función de la densidad de población, escriba una función para retornar la posición ocupada.\n"
   ]
  },
  {
   "cell_type": "code",
   "execution_count": 35,
   "id": "dec8954f",
   "metadata": {},
   "outputs": [
    {
     "name": "stdout",
     "output_type": "stream",
     "text": [
      "5\n"
     ]
    }
   ],
   "source": [
    "ciudades = [\n",
    "    \"Daca, Bangladés\",\n",
    "    \"Karachi, Pakistán\",\n",
    "    \"Nueva Delhi, India\",\n",
    "    \"Manila, Filipinas\",\n",
    "    \"Seúl, Corea del Sur\",\n",
    "    \"Cantón, China\",\n",
    "    \"Taipéi, Taiwán\",\n",
    "    \"Chenaral, Chile\",\n",
    "    \"Shenzhen, China\",\n",
    "    \"Bombay, India\"\n",
    "]\n",
    "\n",
    "def obtener_posicion(ciudades, ciudad):\n",
    "    # Espaciós para desarrollar el código\n",
    "    \n",
    "    # Buscar en mi ranking de ciudades\n",
    "    for i, search_ciudad in enumerate(ciudades):\n",
    "\n",
    "        # Si coincide asignar posicion\n",
    "        if ciudad == search_ciudad:\n",
    "            \n",
    "            posicion = i + 1\n",
    "\n",
    "            break\n",
    "\n",
    "        # Si no, None \n",
    "        else:\n",
    "\n",
    "            posicion = None\n",
    "    \n",
    "    return posicion\n",
    "\n",
    "posicion_ocupada = obtener_posicion(ciudades,\"Seúl, Corea del Sur\")\n",
    "print(posicion_ocupada)"
   ]
  },
  {
   "cell_type": "markdown",
   "id": "9fffd532",
   "metadata": {},
   "source": [
    "# Actividad: Búsqueda binaria.\n",
    "\n",
    "- Escriba al menos una ventaja de la busqueda binaria.\n",
    "\n",
    "La búsqueda binaria es mucho más eficiente que la búsqueda lineal, ya que reduce el número de comparaciones.\n",
    "\n",
    "- Replique el código mostrado en la presentación 192.\n",
    "- Explique brevemente el funcionamiento del código, maximo 3 lineas.\n",
    "- Ingrese un piso de ruptura del huevo y calcule cuantas veces se realiza la revisión para encontrar el piso seguro.(Se puede agrear algún contador dentro del código para verificar)\n"
   ]
  },
  {
   "cell_type": "code",
   "execution_count": 36,
   "id": "bdc866e2",
   "metadata": {},
   "outputs": [
    {
     "name": "stdout",
     "output_type": "stream",
     "text": [
      "Número de veces que se realizó la verificación:  10\n"
     ]
    }
   ],
   "source": [
    "# Espacio para replicar el código.\n",
    "\n",
    "def do_experiment(floor, breaking):\n",
    "    return floor >= breaking\n",
    "\n",
    "def find_highest_safe_floor(height, breaking):\n",
    "    for n in range(1, height + 1):\n",
    "        if do_experiment(n, breaking):\n",
    "            return n-1\n",
    "        \n",
    "# Espacio para explicar funcionamiento.\n",
    "\n",
    "# El programa recorre piso por piso desde 1 hasta height.\n",
    "# En cada piso llama a do_experiment: si el piso es mayor o igual al de ruptura (breaking), el huevo se rompe (True).\n",
    "# Cuando eso ocurre, retorna el piso anterior (n-1), que es el más alto seguro.\n",
    "\n",
    "# Cálculo y verificación del número de veces que se realiza la verificación.\n",
    "\n",
    "def do_experiment(floor, breaking):\n",
    "    return floor >= breaking\n",
    "\n",
    "def find_highest_safe_floor(height, breaking):\n",
    "    checks = 0 # Contar verificaciones\n",
    "\n",
    "    for n in range(1, height + 1):\n",
    "        checks += 1\n",
    "\n",
    "        if do_experiment(n, breaking):\n",
    "            return checks, n-1\n",
    "\n",
    "\n",
    "height = 15 \n",
    "breaking = 10\n",
    "\n",
    "checks, safe_floor = find_highest_safe_floor(height, breaking)\n",
    "\n",
    "print(\"Número de veces que se realizó la verificación: \", checks)"
   ]
  },
  {
   "cell_type": "markdown",
   "id": "eb266a1e",
   "metadata": {},
   "source": [
    "# Actividad: Definir una tabla Hash tipo diccionario.\n",
    "\n",
    "En la siguiente celda se muestrar como crear un diccionario, como agregar elementos, como eliminar elementos,\n",
    "como verificar si la key existe en el diccionario, basados en este código agregue otros elementos, comente los resultados, si tienes alguna duda también la puedes escribir. (Use máximo 3 líneas en la explicación)\n"
   ]
  },
  {
   "cell_type": "code",
   "execution_count": 37,
   "id": "f48163a5",
   "metadata": {},
   "outputs": [
    {
     "name": "stdout",
     "output_type": "stream",
     "text": [
      "Nombre: Juan\n",
      "Edad: 30\n",
      "Ciudad: Nueva York\n",
      "La clave 'ciudad' no está en el diccionario.\n"
     ]
    }
   ],
   "source": [
    "# Crear un diccionario vacío\n",
    "mi_diccionario = {}\n",
    "\n",
    "# Agregar elementos al diccionario\n",
    "mi_diccionario[\"nombre\"] = \"Juan\"\n",
    "mi_diccionario[\"edad\"] = 30\n",
    "mi_diccionario[\"ciudad\"] = \"Nueva York\"\n",
    "\n",
    "# Acceder a los valores por clave\n",
    "print(\"Nombre:\", mi_diccionario[\"nombre\"])\n",
    "print(\"Edad:\", mi_diccionario[\"edad\"])\n",
    "print(\"Ciudad:\", mi_diccionario[\"ciudad\"])\n",
    "\n",
    "# Modificar un valor existente\n",
    "mi_diccionario[\"edad\"] = 31\n",
    "\n",
    "# Eliminar un elemento del diccionario\n",
    "del mi_diccionario[\"ciudad\"]\n",
    "\n",
    "# Verificar si una clave existe en el diccionario\n",
    "if \"ciudad\" in mi_diccionario:\n",
    "    print(\"La clave 'ciudad' está en el diccionario.\")\n",
    "else:\n",
    "    print(\"La clave 'ciudad' no está en el diccionario.\")"
   ]
  },
  {
   "cell_type": "markdown",
   "id": "29d55c6b",
   "metadata": {},
   "source": [
    "- Un diccionario funciona como una tabla hash con pares clave–valor.\n",
    "- Permite insertar, modificar, eliminar y consultar elementos de manera rápida."
   ]
  }
 ],
 "metadata": {
  "kernelspec": {
   "display_name": "py310",
   "language": "python",
   "name": "python3"
  },
  "language_info": {
   "codemirror_mode": {
    "name": "ipython",
    "version": 3
   },
   "file_extension": ".py",
   "mimetype": "text/x-python",
   "name": "python",
   "nbconvert_exporter": "python",
   "pygments_lexer": "ipython3",
   "version": "3.10.14"
  }
 },
 "nbformat": 4,
 "nbformat_minor": 5
}
