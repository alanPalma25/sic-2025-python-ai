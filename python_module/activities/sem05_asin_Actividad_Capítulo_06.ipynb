{
  "cells": [
    {
      "cell_type": "markdown",
      "id": "49909eb6",
      "metadata": {
        "id": "49909eb6"
      },
      "source": [
        "# Actividades Capítulo 6.\n",
        "\n",
        "\n",
        "# Algoritmos de clasificación.\n",
        "\n",
        "## Resumen de actividades\n",
        "\n",
        "- **Unidad 30.** Enfoque Greedy algoritmos voraces o ávidos.\n",
        "- **Unidad 31.** Divide y vencerás\n",
        "- **Unidad 32.** Programación dinámica\n",
        "- **Unidad 33.** Retroceso\n"
      ]
    },
    {
      "cell_type": "markdown",
      "id": "780f0fff",
      "metadata": {
        "id": "780f0fff"
      },
      "source": [
        "# Actividad: Algoritmos Greedy.\n",
        "\n",
        "\n",
        "## Instrucciones\n",
        "\n",
        "1. Explique brevemente y en forma clara qué es un algoritmo Greedy y como funciona..\n",
        "\n",
        "    El algoritmo Greedy consiste en tomar la mejor decisión local disponible en cada sección del problema para luego esperar que la combinación de todas esas soluciones lleven a una buena solución global.\n",
        "\n",
        "2. Enumera algunas ventajas.\n",
        "\n",
        "    1. Es relativamente facil implementar. \n",
        "    3. Eficiente siempre y cuando lleve a la solución correcta.\n",
        "    2. El facil de entender. \n",
        "\n",
        "3. Enumera algunas desventajas.\n",
        "\n",
        "    1. La solución general óptima no está garantizada. \n",
        "    2. El algoritmo Greedy no es muy general entonces no es posible aplicarlo en todos los problemas.\n",
        "\n",
        "4. Escriba el código desarrollado con el enfoque Greeddy para el problema de cambio de monedas, haga diferentes pruebas cambian las entradas (recuerde que las entrada de este algoritmo son las monedas disponibles y la cantida que se desea cubrir, con estas entradas el algoritmo debe retornar la combinación de monedas que cubre el monto solicitado, minimizando la cantidad de monedas usadas)\n",
        "\n",
        "5. Ahora pruebe los resultados con siguientes entradas: monedas_disponibles = [11, 5, 1] para cubrer la cantidad de 15, observe los resultados, haga algunas analísis de lo que pasaria con esta combinación de entradas.\n"
      ]
    },
    {
      "cell_type": "code",
      "execution_count": null,
      "id": "21a779a5",
      "metadata": {
        "id": "21a779a5"
      },
      "outputs": [
        {
          "name": "stdout",
          "output_type": "stream",
          "text": [
            "=== PROBLEMA DEL CAMBIO DE MONEDAS ===\n",
            "\n",
            "Monto: 870 monedas\n",
            "Monedas disponibles: [500, 100, 50, 10]\n",
            "Total de monedas: 7\n",
            "Desglose: {500: 1, 100: 3, 50: 1, 10: 2}\n",
            "\n",
            "Monto: 975 monedas\n",
            "Monedas disponibles: [100, 25, 10, 5]\n",
            "Total de monedas: 12\n",
            "Desglose: {100: 9, 25: 3}\n",
            "\n"
          ]
        }
      ],
      "source": [
        "# Espacio disponible para desarrollar el código y agregar los comentarios necesarios.\n",
        "\n",
        "# PROBLEMA DEL CAMBIO DE MONEDAS\n",
        "\n",
        "def cambio_monedas_wones(monedas, monto):\n",
        "    \"\"\"\n",
        "    Función que implementa el algoritmo voraz (Greedy) para el problema del cambio de monedas.\n",
        "        Inputs:\n",
        "            monedas (int): lista de valores de las monedas disponibles (debe estar en orden descendente).\n",
        "            monto (int): cantidad total que se desea cubrir con las monedas.\n",
        "        Outputs:\n",
        "            cantidad_monedas (int): número total de monedas usadas para cubrir el monto.\n",
        "    \"\"\"\n",
        "\n",
        "\n",
        "    # Se asegura que estén ordenadas de mayor a menor (Greedy toma la más grande primero)\n",
        "    monedas.sort(reverse=True)\n",
        "    cantidad_monedas = 0\n",
        "    desglose = {}\n",
        "    \n",
        "    for moneda in monedas:\n",
        "        # Si el monto pendiente es mayor o igual a la moneda actual\n",
        "        if monto >= moneda:\n",
        "            # Calculamos cuántas monedas de este tipo podemos usar\n",
        "            num_monedas = monto // moneda\n",
        "            # Sumamos esa cantidad al total\n",
        "            cantidad_monedas += num_monedas\n",
        "            # Guardamos el desglose en el diccionario\n",
        "            desglose[moneda] = num_monedas\n",
        "            # Actualizamos el monto restante con el residuo\n",
        "            monto %= moneda\n",
        "\n",
        "    return cantidad_monedas, desglose\n",
        "\n",
        "\n",
        "# EJECUCIÓN DE PRUEBAS\n",
        "print(\"=== PROBLEMA DEL CAMBIO DE MONEDAS ===\\n\")\n",
        "\n",
        "# Definimos las monedas disponibles y el monto a cubrir\n",
        "monedas = [500, 100, 50, 10]\n",
        "monto = 870  \n",
        "\n",
        "# Ejecutamos la función de cambio de monedas\n",
        "total_monedas, desglose = cambio_monedas_wones(monedas, monto)\n",
        "\n",
        "print(f\"Monto: {monto} monedas\")\n",
        "print(f\"Monedas disponibles: {monedas}\")\n",
        "print(f\"Total de monedas: {total_monedas}\")\n",
        "print(f\"Desglose: {desglose}\\n\")\n",
        "\n",
        "\n",
        "# Definimos las monedas disponibles y el monto a cubrir\n",
        "monedas = [100, 25, 10, 5]\n",
        "monto = 975  \n",
        "\n",
        "# Ejecutamos la función de cambio de monedas\n",
        "total_monedas, desglose = cambio_monedas_wones(monedas, monto)\n",
        "\n",
        "print(f\"Monto: {monto} monedas\")\n",
        "print(f\"Monedas disponibles: {monedas}\")\n",
        "print(f\"Total de monedas: {total_monedas}\")\n",
        "print(f\"Desglose: {desglose}\\n\")"
      ]
    },
    {
      "cell_type": "code",
      "execution_count": 11,
      "id": "8a2dcf64",
      "metadata": {},
      "outputs": [
        {
          "name": "stdout",
          "output_type": "stream",
          "text": [
            "=== PROBLEMA DEL CAMBIO DE MONEDAS ===\n",
            "\n",
            "Monto: 15 monedas\n",
            "Monedas disponibles: [11, 5, 1]\n",
            "Total de monedas: 5\n",
            "Desglose: {11: 1, 1: 4}\n",
            "\n"
          ]
        }
      ],
      "source": [
        "# EJECUCIÓN DE PRUEBAS (Caso especial)\n",
        "print(\"=== PROBLEMA DEL CAMBIO DE MONEDAS ===\\n\")\n",
        "\n",
        "# Definimos las monedas disponibles y el monto a cubrir\n",
        "monedas = [11, 5, 1]\n",
        "monto = 15  \n",
        "\n",
        "# Ejecutamos la función de cambio de monedas\n",
        "total_monedas, desglose = cambio_monedas_wones(monedas, monto)\n",
        "\n",
        "print(f\"Monto: {monto} monedas\")\n",
        "print(f\"Monedas disponibles: {monedas}\")\n",
        "print(f\"Total de monedas: {total_monedas}\")\n",
        "print(f\"Desglose: {desglose}\\n\")\n"
      ]
    },
    {
      "cell_type": "markdown",
      "id": "7275f603",
      "metadata": {},
      "source": [
        "**Análisis de caso:** El algoritmo Greedy toma primero la moneda de 11, quedando 4, que cubre con 4 monedas de 1. Sin embarg, la solución mas óptima es usar 3 monedas de 5. Esto muestra que este algoritmo no siempre llega a la solución global más óptima."
      ]
    },
    {
      "cell_type": "markdown",
      "id": "89395b47",
      "metadata": {
        "id": "89395b47"
      },
      "source": [
        "# Actividad: Replique el código de la búsqueda de la trayectoria triangular mínima.\n",
        "\n",
        "\n",
        "## Instrucciones\n",
        "\n",
        "\n",
        "1. Replique el código mostrado en la unidad 31.\n",
        "\n",
        "2. Analice el código replicado y agregue una explicíon sonbre su funcionamiento.\n",
        "\n",
        "3. Haga diferentes pruebas cambiando la entrada.\n"
      ]
    },
    {
      "cell_type": "code",
      "execution_count": null,
      "id": "d446e273",
      "metadata": {
        "id": "d446e273"
      },
      "outputs": [],
      "source": [
        "# Espacio para desarrollar el código y agregar los comentarios necesarios.\n",
        "\n",
        "# 1. PROBLEMA DEL TRIÁNGULO\n",
        "\n",
        "def find_minimum(row, col, triangle):\n",
        "    \"\"\"\n",
        "    Función que encuentra el camino con la suma mínima desde la posición (row, col)\n",
        "    hasta la base del triángulo usando un enfoque de divide y vencerás.\n",
        "        Inputs:\n",
        "            row (int): fila actual en el triángulo.\n",
        "            col (int): columna actual en el triángulo.\n",
        "            triangle (list of list of int): representación del triángulo como una lista de listas.\n",
        "        Outputs:\n",
        "            int: suma mínima desde la posición (row, col) hasta la base del triángulo.\n",
        "    \"\"\"\n",
        "    if row == len(triangle):\n",
        "        return 0\n",
        "    else:\n",
        "        minimum = min(find_minimum(row + 1, col, triangle),\n",
        "                       find_minimum(row + 1, col + 1, triangle))\n",
        "        return triangle[row][col] + minimum\n"
      ]
    },
    {
      "cell_type": "markdown",
      "id": "82adc571",
      "metadata": {},
      "source": [
        "2. Explicación del código:\n",
        "    - Este código toma como entrada la posición initial y el triangulo. Primero, evalua el caso base y retorna cero si este se cumple (estar en la base del trángulo). Luego, si está condición no se cumple se evalua recursivamente los dos caminos disponibles (hacia abajo y diagonal), de los cuales se toma el mínimo y se suma a la solución. "
      ]
    },
    {
      "cell_type": "code",
      "execution_count": 39,
      "id": "90cd5b6c",
      "metadata": {},
      "outputs": [
        {
          "name": "stdout",
          "output_type": "stream",
          "text": [
            "Resultado: 8\n"
          ]
        }
      ],
      "source": [
        "# 3. Ejecutar pruebas con un triángulo de ejemplo\n",
        "\n",
        "triangle = [\n",
        "    [1],\n",
        "    [2, 3],\n",
        "    [6, 5, 4]\n",
        "]\n",
        "print(\"Resultado:\", find_minimum(0, 0, triangle))\n"
      ]
    },
    {
      "cell_type": "code",
      "execution_count": 40,
      "id": "7a476a9b",
      "metadata": {},
      "outputs": [
        {
          "name": "stdout",
          "output_type": "stream",
          "text": [
            "Resultado: 24\n"
          ]
        }
      ],
      "source": [
        "triangle = [\n",
        "    [10],\n",
        "    [5, 6],\n",
        "    [9, 8, 7],\n",
        "    [4, 2, 3, 1]\n",
        "]\n",
        "print(\"Resultado:\", find_minimum(0, 0, triangle))"
      ]
    },
    {
      "cell_type": "markdown",
      "id": "881569fc",
      "metadata": {
        "id": "881569fc"
      },
      "source": [
        "# Actividad: Búsqueda binaria con iteración.\n",
        "\n",
        "\n",
        "## Instrucciones\n",
        "\n",
        "\n",
        "1. Replique el código mostrado en la unidad 31.\n",
        "\n",
        "2. Analice el código replicado y agregue una explicíon sonbre su funcionamiento.\n",
        "\n",
        "3. Explique por qué es necesario usar usar una función recursiva.\n",
        "\n",
        "4. Haga diferentes pruebas cambiando la entrada.\n"
      ]
    },
    {
      "cell_type": "code",
      "execution_count": 43,
      "id": "0b1f525d",
      "metadata": {
        "id": "0b1f525d"
      },
      "outputs": [],
      "source": [
        "# Espacio para desarrollar el código y agregar los comentarios necesarios.\n",
        "\n",
        "# 1. Código de búsqueda binaria\n",
        "\n",
        "def bin_search(nums, x ): \n",
        "    \"\"\"\n",
        "    Función que implementa la búsqueda binaria en una lista ordenada.\n",
        "        Inputs:\n",
        "            nums (list of int): lista de números ordenados.\n",
        "            x (int): número a buscar.\n",
        "        Outputs:\n",
        "            int: índice del número encontrado o -1 si no está presente.\n",
        "    \"\"\"\n",
        "    low, high=0, len(nums)-1 \n",
        "    while low <= high:\n",
        "        mid=(low+high)//2 \n",
        "        if nums[mid]==x: \n",
        "            return mid \n",
        "        elif nums[mid]>x: \n",
        "            high=mid-1 \n",
        "        else: \n",
        "            low=mid+1   \n",
        "    return -1"
      ]
    },
    {
      "cell_type": "code",
      "execution_count": 44,
      "id": "c0a1b3bb",
      "metadata": {},
      "outputs": [
        {
          "name": "stdout",
          "output_type": "stream",
          "text": [
            "=== BÚSQUEDA BINARIA ===\n",
            "\n",
            "Número 7 encontrado en el índice 3.\n"
          ]
        }
      ],
      "source": [
        "# Pruebas de la función de búsqueda binaria (iterativa)\n",
        "\n",
        "print(\"=== BÚSQUEDA BINARIA ===\\n\")\n",
        "# Lista de números ordenados\n",
        "nums = [1, 3, 5, 7, 9, 11, 13, 15, 17, 19]\n",
        "# Número a buscar\n",
        "x = 7\n",
        "# Ejecutamos la búsqueda binaria\n",
        "result = bin_search(nums, x)\n",
        "if result != -1:\n",
        "    print(f\"Número {x} encontrado en el índice {result}.\")\n",
        "else:\n",
        "    print(f\"Número {x} no encontrado en la lista.\")"
      ]
    },
    {
      "cell_type": "code",
      "execution_count": 45,
      "id": "d7040bea",
      "metadata": {},
      "outputs": [
        {
          "name": "stdout",
          "output_type": "stream",
          "text": [
            "=== BÚSQUEDA BINARIA ===\n",
            "\n",
            "Número 15 encontrado en el índice 7.\n"
          ]
        }
      ],
      "source": [
        "# Pruebas de la función de búsqueda binaria (iterativa)\n",
        "\n",
        "print(\"=== BÚSQUEDA BINARIA ===\\n\")\n",
        "# Lista de números ordenados\n",
        "nums = [1, 3, 5, 7, 9, 11, 13, 15, 17, 19]\n",
        "# Número a buscar\n",
        "x = 15\n",
        "# Ejecutamos la búsqueda binaria\n",
        "result = bin_search(nums, x)\n",
        "if result != -1:\n",
        "    print(f\"Número {x} encontrado en el índice {result}.\")\n",
        "else:\n",
        "    print(f\"Número {x} no encontrado en la lista.\")"
      ]
    },
    {
      "cell_type": "markdown",
      "id": "2b88ca6f",
      "metadata": {},
      "source": [
        "2. Explicación: \n",
        "\n",
        "El código tiene como entradas una lista de números y un número a buscar. En vez de comparar los números uno a uno, comienza desde la mitad. Ya que la lista está ordenada, si el valor de la mitad de la lista es mayor o menor que el valor a encontrar ahora este es el nuevo ```high``` o ```low``` respectivamente. Entonces, en la siguiente iteración tendra que evaluar solo la mitad de la lista orginal y así el algoritmo dividira en sublistas (partidas a la mitad) hasta encontrar el valor. "
      ]
    },
    {
      "cell_type": "markdown",
      "id": "15eae4a5",
      "metadata": {},
      "source": [
        "3. ¿Porque es necesario usar una función recursiva?\n",
        "\n",
        "La recursión es una técnica que permite resolver problemas dividiéndolos en subproblemas más pequeños y manejables. En el caso de la búsqueda binaria, la función recursiva permite reducir el espacio de búsqueda a la mitad en cada llamada, lo que resulta en una solución más eficiente y elegante en comparación con un enfoque iterativo."
      ]
    },
    {
      "cell_type": "code",
      "execution_count": null,
      "id": "7aace6a1",
      "metadata": {},
      "outputs": [],
      "source": [
        "def bin_search_rec(nums, x, low, high):\n",
        "    \"\"\"\n",
        "    Función de búsqueda binaria recursiva.\n",
        "        Inputs:\n",
        "            nums (list of int): lista de números ordenados.\n",
        "            x (int): número a buscar.\n",
        "            low (int): índice inferior del rango de búsqueda.\n",
        "            high (int): índice superior del rango de búsqueda.\n",
        "        Outputs:\n",
        "            int: índice del número encontrado o -1 si no está presente.\n",
        "    \"\"\"\n",
        "    if low > high: \n",
        "        return -1 \n",
        "    else:\n",
        "        mid = (low + high) // 2 \n",
        "        if nums[mid] == x: \n",
        "            return mid \n",
        "        elif nums[mid] > x: \n",
        "            return bin_search_rec(nums, x, low, mid - 1) \n",
        "        else: \n",
        "            return bin_search_rec(nums, x, mid + 1, high)"
      ]
    },
    {
      "cell_type": "code",
      "execution_count": null,
      "id": "a1312183",
      "metadata": {},
      "outputs": [
        {
          "name": "stdout",
          "output_type": "stream",
          "text": [
            "=== BÚSQUEDA BINARIA ===\n",
            "\n",
            "Número 55 encontrado en el índice 10.\n"
          ]
        }
      ],
      "source": [
        "# Pruebas de la función de búsqueda binaria (recursiva)\n",
        "\n",
        "print(\"=== BÚSQUEDA BINARIA ===\\n\")\n",
        "# Lista de números ordenados\n",
        "nums = [1, 3, 5, 7, 9, 11, 13, 17, 19, 28, 55]\n",
        "# Número a buscar\n",
        "x = 55\n",
        "# Ejecutamos la búsqueda binaria\n",
        "result = bin_search_rec(nums, x, 0, len(nums) - 1)\n",
        "if result != -1:\n",
        "    print(f\"Número {x} encontrado en el índice {result}.\")\n",
        "else:\n",
        "    print(f\"Número {x} no encontrado en la lista.\")"
      ]
    },
    {
      "cell_type": "code",
      "execution_count": 50,
      "id": "a921d3d7",
      "metadata": {},
      "outputs": [
        {
          "name": "stdout",
          "output_type": "stream",
          "text": [
            "=== BÚSQUEDA BINARIA ===\n",
            "\n",
            "Número 1 encontrado en el índice 0.\n"
          ]
        }
      ],
      "source": [
        "# Pruebas de la función de búsqueda binaria (recursiva)\n",
        "\n",
        "print(\"=== BÚSQUEDA BINARIA ===\\n\")\n",
        "# Lista de números ordenados\n",
        "nums = [1, 3, 5, 7, 9, 11, 13, 17, 19, 28, 55]\n",
        "# Número a buscar\n",
        "x = 1\n",
        "# Ejecutamos la búsqueda binaria\n",
        "result = bin_search_rec(nums, x, 0, len(nums) - 1)\n",
        "if result != -1:\n",
        "    print(f\"Número {x} encontrado en el índice {result}.\")\n",
        "else:\n",
        "    print(f\"Número {x} no encontrado en la lista.\")"
      ]
    },
    {
      "cell_type": "code",
      "execution_count": 51,
      "id": "de86350a",
      "metadata": {},
      "outputs": [
        {
          "name": "stdout",
          "output_type": "stream",
          "text": [
            "=== BÚSQUEDA BINARIA ===\n",
            "\n",
            "Número 2 no encontrado en la lista.\n"
          ]
        }
      ],
      "source": [
        "# Pruebas de la función de búsqueda binaria (recursiva)\n",
        "\n",
        "print(\"=== BÚSQUEDA BINARIA ===\\n\")\n",
        "# Lista de números ordenados\n",
        "nums = [1, 3, 5, 7, 9, 11, 13, 17, 19, 28, 55]\n",
        "# Número a buscar\n",
        "x = 2\n",
        "# Ejecutamos la búsqueda binaria\n",
        "result = bin_search_rec(nums, x, 0, len(nums) - 1)\n",
        "if result != -1:\n",
        "    print(f\"Número {x} encontrado en el índice {result}.\")\n",
        "else:\n",
        "    print(f\"Número {x} no encontrado en la lista.\")"
      ]
    },
    {
      "cell_type": "markdown",
      "id": "1087c522",
      "metadata": {
        "id": "1087c522"
      },
      "source": [
        "# Actividad: Comparación entre programación dinámica y la metodología divide y venceras.\n",
        "\n",
        "\n",
        "## Instrucciones\n",
        "\n",
        "1. Enumera las diferencias entre los dos efoques.\n",
        "\n",
        "- En programación dinámica, se almacenan los resultados de los subproblemas para evitar cálculos redundantes\n",
        "- En la metodología divide y vencerás, cada subproblema se resuelve de forma independiente sin guardar resultados anteriores.\n",
        "- La programación dinámica suele ser más eficientemientras que divide y vencerás puede ser más simple de implementar.\n",
        "\n",
        "\n",
        "2. Nombre algunos casos donde funcionam mejor la programación dinámica.\n",
        "\n",
        "\n",
        "- Problemas de optimización.\n",
        "- Cálculo de la serie de Fibonacci.\n",
        "- Problemas de rutas más cortas en grafos,\n",
        "- Problemas de cadenas, como la subsecuencia común más larga LCS (longest common subsequence).\n",
        "\n",
        "3. Nombre ejemplos donde es suficiente usar el enfoque divide y venceras.\n",
        "\n",
        "- Búsqueda en arreglos, como la búsqueda binaria.\n",
        "- Ordenamiento de arreglos, como el algoritmo de mergesort o quicksort."
      ]
    }
  ],
  "metadata": {
    "colab": {
      "provenance": []
    },
    "kernelspec": {
      "display_name": "py310",
      "language": "python",
      "name": "python3"
    },
    "language_info": {
      "codemirror_mode": {
        "name": "ipython",
        "version": 3
      },
      "file_extension": ".py",
      "mimetype": "text/x-python",
      "name": "python",
      "nbconvert_exporter": "python",
      "pygments_lexer": "ipython3",
      "version": "3.10.14"
    }
  },
  "nbformat": 4,
  "nbformat_minor": 5
}
