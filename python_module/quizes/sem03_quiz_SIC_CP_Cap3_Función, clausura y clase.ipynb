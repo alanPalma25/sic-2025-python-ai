{
 "cells": [
  {
   "cell_type": "markdown",
   "id": "5ad8356f",
   "metadata": {},
   "source": [
    "# Coding and Programming\n",
    "\n",
    "## Capítulo 3\n",
    "\n",
    "### Función, clausura y clase\n",
    "\n",
    "- **Unidad 17.** Función\n",
    "- **Unidad 18.** Llamada a la función de recurrencia.\n",
    "- **Unidad 19.** Lambda\n",
    "- **Unidad 20.** Clausura\n",
    "- **Unidad 21.** Clase\n",
    "\n",
    "# Quiz 3"
   ]
  },
  {
   "cell_type": "markdown",
   "id": "a94ec368",
   "metadata": {},
   "source": [
    "___"
   ]
  },
  {
   "cell_type": "markdown",
   "id": "a11871f3",
   "metadata": {},
   "source": [
    "## Q 17-01\n",
    "\n",
    "Reciba las coordenadas `(x1, y1), (x2, y2)` de dos puntos del usuario e imprima la distancia entre los dos puntos de la siguiente manera. Para hacer esto, implemente la función `distancia(x1, y1, x2, y2)`.\n",
    "\n",
    "\n",
    "**Pauta de código:** consulte la fórmula para encontrar la distancia entre dos puntos.\n"
   ]
  },
  {
   "cell_type": "code",
   "execution_count": 1,
   "id": "19848cf5",
   "metadata": {},
   "outputs": [],
   "source": [
    "def distancia(x1, y1, x2, y2):\n",
    "    \"\"\"\n",
    "    Calcular la distancia entre dos puntos\n",
    "        Inputs:\n",
    "            x1, y1 (float): coordenadas de primer punto.\n",
    "            x2, y2 (float): coordenadas del segundo punto.\n",
    "        Outputs: \n",
    "            dist(float): distancia final.\n",
    "    \"\"\"\n",
    "\n",
    "    # Calcular la distancia\n",
    "    dist = ((x1 - x2)**2 + (y1 - y2)**2)**(1/2)\n",
    "\n",
    "    # Imprimir \n",
    "    print(f\"La distancia entre el punto ({x1}, {y1}) y el punto ({x2}, {y2}) es: \", dist)\n",
    "\n",
    "    return dist"
   ]
  },
  {
   "cell_type": "code",
   "execution_count": 2,
   "id": "82df69c3",
   "metadata": {},
   "outputs": [
    {
     "name": "stdout",
     "output_type": "stream",
     "text": [
      "La distancia entre el punto (2, 4) y el punto (2, -3) es:  7.0\n"
     ]
    }
   ],
   "source": [
    "p1 = (2, 4)\n",
    "p2 = (2,-3)\n",
    "\n",
    "# Llamar a la función\n",
    "d = distancia(*p1, *p2)"
   ]
  },
  {
   "cell_type": "markdown",
   "id": "a207d974",
   "metadata": {},
   "source": [
    "## Q 18-01\n",
    "\n",
    "Un palíndromo es una oración, palabra o cadena que es lo mismo que leer cualquier carácter de forma consecutiva.\n",
    "\n",
    "Por ejemplo, hay palabras como level, kayak, salas, somos, radar, reconocer.\n",
    "\n",
    "Usemos una llamada recursiva para determinar el palíndromo.\n",
    "\n",
    "Defina una función llamada `is_palindrome` y escriba un programa que reciba una cadena del usuario e imprima si el palindrome es correcto o no.\n",
    "\n",
    "**Pauta de código:** Llame a la función `is_palindrome` dentro de la función `is_palindrome`"
   ]
  },
  {
   "cell_type": "code",
   "execution_count": 3,
   "id": "d7825109",
   "metadata": {},
   "outputs": [],
   "source": [
    "def is_palidrome_nr(word):\n",
    "    \"\"\"\n",
    "    Verificar si una palabra es un palíndromo.\n",
    "        Input:\n",
    "            word(str): palabra a verificar.\n",
    "        Output:\n",
    "            None (Imprimir si es o no un palindromo.)\n",
    "    \"\"\"\n",
    "    word_u = str.lower(word)\n",
    "\n",
    "    list_word = [leter for leter in word_u]\n",
    "    # print(list_word)\n",
    "    list_word_inv = list_word[::-1]\n",
    "    # print(list_word_inv)\n",
    "\n",
    "    if list_word == list_word_inv:\n",
    "        print(f\"{word} es un palíndromo\")\n",
    "    else:\n",
    "        print(f\"{word} no es un palíndromo\")\n"
   ]
  },
  {
   "cell_type": "code",
   "execution_count": 4,
   "id": "8b256674",
   "metadata": {},
   "outputs": [],
   "source": [
    "import copy"
   ]
  },
  {
   "cell_type": "code",
   "execution_count": 5,
   "id": "c8aabf13",
   "metadata": {},
   "outputs": [],
   "source": [
    "\n",
    "def is_palindrome(cadena):\n",
    "    \"\"\"\n",
    "    Función recursiva para verificar si una palabra es un palíndromo.\n",
    "        Input:\n",
    "            word(str): palabra a verificar.\n",
    "        Output:\n",
    "            None (Imprimir si es o no un palindromo.)\n",
    "    \"\"\"\n",
    "\n",
    "    word = copy.copy(cadena)\n",
    "\n",
    "    # Caso base: si la cadena tiene 0 o 1 caracteres, es palíndromo\n",
    "    if len(cadena) <= 1:\n",
    "        print(f\"Si es un palíndromo\")\n",
    "        return\n",
    "\n",
    "    # Verificar extremos\n",
    "    if cadena[0] != cadena[-1]:\n",
    "        print(f\"No es un palíndromo\")\n",
    "        return\n",
    "\n",
    "    # Llamada recursiva con la cadena sin el primer y último carácter\n",
    "    return is_palindrome(cadena[1:-1])"
   ]
  },
  {
   "cell_type": "code",
   "execution_count": 6,
   "id": "31341960",
   "metadata": {},
   "outputs": [
    {
     "name": "stdout",
     "output_type": "stream",
     "text": [
      "Level es un palíndromo\n"
     ]
    }
   ],
   "source": [
    "is_palidrome_nr(\"Level\")"
   ]
  },
  {
   "cell_type": "code",
   "execution_count": 7,
   "id": "329870e2",
   "metadata": {},
   "outputs": [
    {
     "name": "stdout",
     "output_type": "stream",
     "text": [
      "Si es un palíndromo\n"
     ]
    }
   ],
   "source": [
    "is_palindrome(\"level\")"
   ]
  },
  {
   "cell_type": "markdown",
   "id": "fbfb4985",
   "metadata": {},
   "source": [
    "## Q 19-01\n",
    "\n",
    "\n",
    "Después de poner una lista llamada `n_list` con valores de `[10, 20, 30]` en la función `map`.\n",
    "\n",
    "```\n",
    "n_list = [10,20,30]\n",
    "twice  = list(map(lambda x: x*2, n_list))\n",
    "triple = list(map(lambda x: x*3, n_list))\n",
    "```\n",
    "\n",
    "Indique el contenido de las variables `twice` y `triple`."
   ]
  },
  {
   "cell_type": "code",
   "execution_count": 8,
   "id": "2cdc7344",
   "metadata": {},
   "outputs": [
    {
     "name": "stdout",
     "output_type": "stream",
     "text": [
      "Lista original:  [10, 20, 30]\n",
      "Duplicar valores:  [20, 40, 60]\n",
      "Triplicar valores:  [30, 60, 90]\n"
     ]
    }
   ],
   "source": [
    "# Definir la lista\n",
    "n_list = [10,20,30]\n",
    "\n",
    "# Ejecutar funciones lamba\n",
    "twice  = list(map(lambda x: x*2, n_list))\n",
    "triple = list(map(lambda x: x*3, n_list))\n",
    "\n",
    "print(\"Lista original: \", n_list)\n",
    "print(\"Duplicar valores: \", twice)\n",
    "print(\"Triplicar valores: \", triple)"
   ]
  },
  {
   "cell_type": "markdown",
   "id": "98938d2d",
   "metadata": {},
   "source": [
    "## Q 20-01\n",
    "\n",
    "En el siguiente código, espere qué valor se incluye finalmente en `num_list`. Calcule el resultado esperado a mano.\n",
    "\n",
    "**Pauta de codificación:** Escriba 5 veces la declaración `for`. Espere este resultado y envíe el resultado.\n",
    "\n",
    "```\n",
    "def calc_digit(n):\n",
    "    def findal(digit):\n",
    "        return digit**n\n",
    "    return final\n",
    "\n",
    "num_list = []\n",
    "for num in range(1,6):\n",
    "    num_list.append( calc_digit(num) )\n",
    "    print( num_list[num-1](num) )\n",
    "```"
   ]
  },
  {
   "cell_type": "markdown",
   "id": "4565d015",
   "metadata": {},
   "source": [
    "Ya que el útlimo valor del loop es el número 5 (correspodiente al último elemento de la lista) el resultado será:\n",
    "$$\n",
    "5^{5} = 3125\n",
    "$$"
   ]
  },
  {
   "cell_type": "code",
   "execution_count": 9,
   "id": "fcde558f",
   "metadata": {},
   "outputs": [
    {
     "name": "stdout",
     "output_type": "stream",
     "text": [
      "1\n",
      "4\n",
      "27\n",
      "256\n",
      "3125\n"
     ]
    }
   ],
   "source": [
    "def calc_digit(n):\n",
    "    def findal(digit):\n",
    "        return digit**n\n",
    "    return findal\n",
    "\n",
    "num_list = []\n",
    "for num in range(1,6):\n",
    "    num_list.append( calc_digit(num) )\n",
    "    print( num_list[num-1](num))"
   ]
  },
  {
   "cell_type": "markdown",
   "id": "d3ece88b",
   "metadata": {},
   "source": [
    "## Q 21-01\n",
    "\n",
    "Implemente las funciones de multiplicación (*) y división (/) de dos vectores usando los métodos `mul` y `truediv` aprendidos en la **unidad 21**. Suponiendo que `v1` es `(30, 40)` y `v2` es `(10, 20)`, codifique (escriba la declaración de salida) para devolver el siguiente resultado como resultado de la multiplicación y división de dos vectores.\n",
    "\n",
    "\n",
    "**Pauta de codificación:** escriba código que amplíe la funcionalidad de la clase `Vector2D` que aprendió en este capítulo."
   ]
  },
  {
   "cell_type": "code",
   "execution_count": 10,
   "id": "1d58d47c",
   "metadata": {},
   "outputs": [],
   "source": [
    "class Vector2D:\n",
    "    \"\"\"\n",
    "    Clase que opera en objetos 2D (vectores).\n",
    "    \"\"\"\n",
    "    \n",
    "    def __init__(self, x, y):\n",
    "        self.x = x\n",
    "        self.y = y \n",
    "    \n",
    "    def __add__(self, other):\n",
    "        return Vector2D(self.x + other.x, self.y + other.y)\n",
    "    \n",
    "    def __sub__(self, other):\n",
    "        return Vector2D(self.x - other.x, self.y - other.y)\n",
    "    \n",
    "    def __str__(self):\n",
    "        return \"({}, {})\".format(self.x, self.y)    \n"
   ]
  },
  {
   "cell_type": "code",
   "execution_count": 11,
   "id": "26b6697a",
   "metadata": {},
   "outputs": [],
   "source": [
    "# Crear una clase \"hija\" y usar herencia para añadir funcionalidades\n",
    "class Vector2DNew(Vector2D):\n",
    "\n",
    "    def __init__(self, x, y):\n",
    "        super().__init__(x, y)\n",
    "\n",
    "    def __mul__(self, other):\n",
    "        return Vector2DNew(self.x * other.x, self.y * other.y)\n",
    "        \n",
    "    def __truediv__(self, other):\n",
    "        return Vector2DNew(self.x / other.x, self.y / other.y)"
   ]
  },
  {
   "cell_type": "code",
   "execution_count": 14,
   "id": "bba0f9a6",
   "metadata": {},
   "outputs": [
    {
     "name": "stdout",
     "output_type": "stream",
     "text": [
      "v1 + v2 =  (40, 60)\n",
      "v1 - v2 =  (20, 20)\n",
      "v1 * v2 =  (300, 800)\n",
      "v1 / v2 =  (3.0, 2.0)\n"
     ]
    }
   ],
   "source": [
    "# Definir los vectores\n",
    "v1 = (30, 40)\n",
    "v2 = (10, 20)\n",
    "\n",
    "# Crear las instancias\n",
    "v1 = Vector2DNew(*v1)\n",
    "v2 = Vector2DNew(*v2)\n",
    "\n",
    "# Suma\n",
    "v3_sum = v1 + v2\n",
    "print(\"v1 + v2 = \", v3_sum)\n",
    "\n",
    "# Resta \n",
    "v3_res = v1 - v2\n",
    "print(\"v1 - v2 = \", v3_res)\n",
    "\n",
    "# Multiplicación \n",
    "v3_mul = v1 * v2\n",
    "print(\"v1 * v2 = \", v3_mul)\n",
    "\n",
    "# División\n",
    "v3_dic = v1 / v2\n",
    "print(\"v1 / v2 = \", v3_dic)"
   ]
  },
  {
   "cell_type": "markdown",
   "id": "2717ce09",
   "metadata": {},
   "source": [
    "___"
   ]
  },
  {
   "cell_type": "markdown",
   "id": "10514335",
   "metadata": {},
   "source": [
    "# Fin"
   ]
  }
 ],
 "metadata": {
  "kernelspec": {
   "display_name": "py310",
   "language": "python",
   "name": "python3"
  },
  "language_info": {
   "codemirror_mode": {
    "name": "ipython",
    "version": 3
   },
   "file_extension": ".py",
   "mimetype": "text/x-python",
   "name": "python",
   "nbconvert_exporter": "python",
   "pygments_lexer": "ipython3",
   "version": "3.10.14"
  }
 },
 "nbformat": 4,
 "nbformat_minor": 5
}
