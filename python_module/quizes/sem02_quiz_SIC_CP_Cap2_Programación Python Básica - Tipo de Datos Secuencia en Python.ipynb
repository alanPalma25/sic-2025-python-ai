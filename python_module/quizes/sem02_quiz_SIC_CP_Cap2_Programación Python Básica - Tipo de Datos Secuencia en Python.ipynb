{
 "cells": [
  {
   "cell_type": "markdown",
   "id": "5ad8356f",
   "metadata": {},
   "source": [
    "# Coding and Programming\n",
    "\n",
    "## Capítulo 2\n",
    "\n",
    "### Programación básica de python - Secuencia de datos escrita en python\n",
    "\n",
    "- **Unidad 10.** Tipos de datos lista y tupla Tipos de datos lista y tupla\n",
    "- **Unidad 11.** Tipos de datos de diccionario Tipos de datos de diccionario\n",
    "- **Unidad 12.** Tipos de datos de secuencia\n",
    "- **Unidad 13.** Listas 2D\n",
    "- **Unidad 14.** Método del diccionario-1\n",
    "- **Unidad 15.** Método del diccionario-2\n",
    "- **Unidad 16.** Establecer tipos de datos\n",
    "\n",
    "# Quiz 2\n",
    "\n",
    "### **Nombre:** Alan Palma"
   ]
  },
  {
   "cell_type": "markdown",
   "id": "d390681d",
   "metadata": {},
   "source": [
    "___"
   ]
  },
  {
   "cell_type": "markdown",
   "id": "8c5aa9c8",
   "metadata": {},
   "source": [
    "## Q 10-01\n",
    "\n",
    "Si hay dos listas `l1` y `l2` con las siguientes cadenas, use la combinación de `l1` y `l2` para imprimir de la siguiente manera.\n",
    "\n",
    "**Pauta de codificación:** use bucles anidados e imprímalos.\n",
    "\n",
    "```\n",
    "l1 = ['I like','I love']\n",
    "l1 = ['pancake.','kiwi juice.','espresso.']\n",
    "```\n",
    "\n",
    "### Output\n",
    "```\n",
    "I like pancake.\n",
    "I like kiwi juice.\n",
    "I like espresso.\n",
    "I love pancake.\n",
    "I love kiwi juice.\n",
    "I love espresso.\n",
    "```"
   ]
  },
  {
   "cell_type": "code",
   "execution_count": 5,
   "id": "7727cb83",
   "metadata": {},
   "outputs": [
    {
     "name": "stdout",
     "output_type": "stream",
     "text": [
      "I like pancake.\n",
      "I like kiwi juice.\n",
      "I like espresso.\n",
      "I love pancake.\n",
      "I love kiwi juice.\n",
      "I love espresso.\n"
     ]
    }
   ],
   "source": [
    "# Listas \n",
    "l1 = ['I like','I love']\n",
    "l2 = ['pancake.','kiwi juice.','espresso.']\n",
    "\n",
    "# Loop aninado \n",
    "for e_l1 in l1:\n",
    "    for e_l2 in l2: \n",
    "        print(e_l1 + \" \" +  e_l2)"
   ]
  },
  {
   "cell_type": "markdown",
   "id": "e85ac74a",
   "metadata": {},
   "source": [
    "___"
   ]
  },
  {
   "cell_type": "markdown",
   "id": "56dfda7c",
   "metadata": {},
   "source": [
    "## Q 11-01\n",
    "\n",
    "El diccionario de personas se define de la siguiente manera.\n",
    "\n",
    "Agregue un nuevo elemento a este diccionario de personas con la clave 'Padre' y el valor 'John Doe'.\n",
    "\n",
    "**Pauta de codificación:** después de definir el diccionario de personas, escriba el código para agregar nuevos elementos.\n",
    "\n",
    "`person = {'Name':'David Doe', 'Age':26, 'Weight':82, 'Job':'Data Scientist'}`"
   ]
  },
  {
   "cell_type": "code",
   "execution_count": 7,
   "id": "e9529d25",
   "metadata": {},
   "outputs": [
    {
     "name": "stdout",
     "output_type": "stream",
     "text": [
      "Diccionario inical:\n",
      " {'Name': 'David Doe', 'Age': 26, 'Weight': 82, 'Job': 'Data Scientist'}\n",
      "\n",
      "Diccionario luego de añadido el nuevo elemento:\n",
      " {'Name': 'David Doe', 'Age': 26, 'Weight': 82, 'Job': 'Data Scientist', 'Padre': 'John Doe'}\n"
     ]
    }
   ],
   "source": [
    "# Definir diccionario\n",
    "\n",
    "person = {'Name':'David Doe', 'Age':26, 'Weight':82, 'Job':'Data Scientist'}\n",
    "\n",
    "print(\"Diccionario inical:\\n\", person)\n",
    "\n",
    "person[\"Padre\"] = \"John Doe\"\n",
    "\n",
    "print(\"\\nDiccionario luego de añadido el nuevo elemento:\\n\", person)"
   ]
  },
  {
   "cell_type": "markdown",
   "id": "d24e8e2d",
   "metadata": {},
   "source": [
    "___"
   ]
  },
  {
   "cell_type": "markdown",
   "id": "6e95c374",
   "metadata": {},
   "source": [
    "## Q 12-01\n",
    "\n",
    "Al usar datos de tupla, los valores de dos variables se pueden intercambiar sin usar una variable temporal. Usando este método de intercambio, escriba un programa que reemplace el valor más grande de 12 en la lista dada, y pase a la posición del último.\n",
    "\n",
    "**Pauta de codificación:** use un bucle `for`. Al intercambiar valores en una lista, no se deben usar variables adicionales como temp.\n",
    "\n",
    "`lista = [5,6,3,9,2,12,3,8,7]`"
   ]
  },
  {
   "cell_type": "code",
   "execution_count": 8,
   "id": "417ea34e",
   "metadata": {},
   "outputs": [
    {
     "name": "stdout",
     "output_type": "stream",
     "text": [
      "Lista original: [5, 6, 3, 9, 2, 12, 3, 8, 7]\n",
      "Lista modificada: [5, 6, 3, 9, 2, 7, 3, 8, 12]\n"
     ]
    }
   ],
   "source": [
    "# Definir la lista \n",
    "lista = [5,6,3,9,2,12,3,8,7]\n",
    "\n",
    "\n",
    "print(\"Lista original:\", lista)\n",
    "\n",
    "max_val = max(lista)   # Encuentra el valor máximo\n",
    "\n",
    "# Examinar toda la lista\n",
    "for i in range(len(lista)):\n",
    "    if lista[i] == max_val:\n",
    "        # Intercambio usando tupla\n",
    "        lista[i], lista[-1] = lista[-1], lista[i]\n",
    "        break  # Rompemos el loop después de la primera coincidencia\n",
    "\n",
    "print(\"Lista modificada:\", lista)"
   ]
  },
  {
   "cell_type": "markdown",
   "id": "66002865",
   "metadata": {},
   "source": [
    "___"
   ]
  },
  {
   "cell_type": "markdown",
   "id": "abff5088",
   "metadata": {},
   "source": [
    "## Q 13-01\n",
    "\n",
    "La matriz bidimensional `a` contiene los valores `[[1, 2], [3, 4], [5, 6]]`.\n",
    "\n",
    "Cambie esta matriz bidimensional a una matriz unidimensional como `[1, 2, 3, 4, 5, 6]` e imprímala.\n",
    "\n",
    "\n",
    "**Pauta de codificación:** use un bucle `for`. Defina una nueva matriz y coloque los elementos de a en esta matriz."
   ]
  },
  {
   "cell_type": "code",
   "execution_count": 14,
   "id": "d468f5ba",
   "metadata": {},
   "outputs": [
    {
     "name": "stdout",
     "output_type": "stream",
     "text": [
      "Matriz inicial:\n",
      "[[1, 2], [3, 4], [5, 6]]\n",
      "\n",
      "Lista final:\n",
      "[1, 2, 3, 4, 5, 6]\n"
     ]
    }
   ],
   "source": [
    "# Definir la matriz\n",
    "matriz = [[1, 2], [3, 4], [5, 6]]\n",
    "\n",
    "# Mostrar matriz inicial\n",
    "print(\"Matriz inicial:\")\n",
    "print(matriz)\n",
    "\n",
    "# Lista vacia\n",
    "lista = []\n",
    "\n",
    "# Bucle sobre las filas de la matriz\n",
    "for fila in matriz:\n",
    "    lista.extend(fila)\n",
    "\n",
    "# Imprimir lista\n",
    "print(\"\\nLista final:\")\n",
    "print(lista)"
   ]
  },
  {
   "cell_type": "markdown",
   "id": "1061ef6e",
   "metadata": {},
   "source": [
    "___"
   ]
  },
  {
   "cell_type": "markdown",
   "id": "74144e33",
   "metadata": {},
   "source": [
    "## Q 14-01\n",
    "\n",
    "Dada un diccionario en la variable **maria** que contiene las puntuaciones de los cursos 'coreano', 'inglés', 'matemáticas' y 'ciencia', se almacenan como clave:valor. Imprima el puntaje promedio para los puntajes de las asignaturas de maría.\n",
    "\n",
    "**Guía de codificación:** Utilice los métodos de diccionario **values()** y **len()** funciones.\n",
    "\n",
    "`maria = { 'korean':94, 'english':91, 'maths':89, 'science':83 }`"
   ]
  },
  {
   "cell_type": "code",
   "execution_count": 29,
   "id": "7ac331bf",
   "metadata": {},
   "outputs": [
    {
     "name": "stdout",
     "output_type": "stream",
     "text": [
      "El promedio de María es:  89.25\n"
     ]
    }
   ],
   "source": [
    "# Definir diccionario \n",
    "maria = { 'korean':94, 'english':91, 'maths':89, 'science':83 }\n",
    "\n",
    "# Extract the values\n",
    "values = maria.values()\n",
    "\n",
    "# Calcular el promedio\n",
    "prom = sum(values)/len(maria)\n",
    "\n",
    "print(\"El promedio de María es: \", prom)"
   ]
  },
  {
   "cell_type": "markdown",
   "id": "a43a9094",
   "metadata": {},
   "source": [
    "___"
   ]
  },
  {
   "cell_type": "markdown",
   "id": "3bf0a55c",
   "metadata": {},
   "source": [
    "## Q 15-01\n",
    "\n",
    "Declare una variable `school` con un diccionario anidado de la siguiente manera.\n",
    "\n",
    "```\n",
    "school = {\n",
    "    'kim':{ 'age':16, 'hei':170, grade:3 },\n",
    "    'lee':{ 'age':15, 'hei':165, grade:2 },\n",
    "    'cho':{ 'age':14, 'hei':167, grade:1 },\n",
    "}\n",
    "```\n",
    "\n",
    "\n",
    "Luego, use la función `deepcopy()` del módulo de copia para escribir un programa que 'copie' a otra variable, `school2`. (Verifique que `school` y `school2` sean variables diferentes a través del operador `is`).\n",
    "\n",
    "**Pauta de codificación:** Imprima el resultado de `school is school2`, que debe ser falso."
   ]
  },
  {
   "cell_type": "code",
   "execution_count": 30,
   "id": "128e8efe",
   "metadata": {},
   "outputs": [
    {
     "name": "stdout",
     "output_type": "stream",
     "text": [
      "¿school es school2?: False\n",
      "¿school == school2?: True\n",
      "\n",
      "Diccionario original (school):\n",
      "{'kim': {'age': 16, 'hei': 170, 'grade': 3}, 'lee': {'age': 15, 'hei': 165, 'grade': 2}, 'cho': {'age': 14, 'hei': 167, 'grade': 1}}\n",
      "\n",
      "Diccionario copiado (school2):\n",
      "{'kim': {'age': 16, 'hei': 170, 'grade': 3}, 'lee': {'age': 15, 'hei': 165, 'grade': 2}, 'cho': {'age': 14, 'hei': 167, 'grade': 1}}\n"
     ]
    }
   ],
   "source": [
    "import copy  # Importamos el módulo copy \n",
    "\n",
    "# Diccionario anidado \n",
    "school = {\n",
    "    'kim': { 'age': 16, 'hei': 170, 'grade': 3 },\n",
    "    'lee': { 'age': 15, 'hei': 165, 'grade': 2 },\n",
    "    'cho': { 'age': 14, 'hei': 167, 'grade': 1 },\n",
    "}\n",
    "\n",
    "# Copiar usando deepcopy\n",
    "school2 = copy.deepcopy(school)\n",
    "\n",
    "# Verificar si son el mismo objeto\n",
    "print(\"¿school es school2?:\", school is school2)   # Debe dar False\n",
    "print(\"¿school == school2?:\", school == school2)   # Debe dar True (contenido igual)\n",
    "\n",
    "# Mostrar ambos diccionarios\n",
    "print(\"\\nDiccionario original (school):\")\n",
    "print(school)\n",
    "\n",
    "print(\"\\nDiccionario copiado (school2):\")\n",
    "print(school2)"
   ]
  },
  {
   "cell_type": "markdown",
   "id": "77fe3368",
   "metadata": {},
   "source": [
    "___"
   ]
  },
  {
   "cell_type": "markdown",
   "id": "caeada5b",
   "metadata": {},
   "source": [
    "## Q 16-01\n",
    "\n",
    "Hay una tupla de puntuaciones de la siguiente manera.\n",
    "\n",
    "```\n",
    "scores = (\n",
    "    ('DongKyu Park' , 88, 95, 90),\n",
    "    ('YoungMin Kang', 85, 90, 95),\n",
    "    ('DongMin Park' , 70, 90, 80),\n",
    "    ('Seungloo Hong', 90, 90, 95),\n",
    ")\n",
    "```\n",
    "\n",
    "\n",
    "Esta tupla contiene información sobre cuatro estudiantes.\n",
    "\n",
    "En esta información, el nombre del estudiante y las calificaciones en inglés, matemáticas y ciencias forman una tupla.\n",
    "\n",
    "Por ejemplo, 'David Doe' tiene un puntaje de inglés de 88, un puntaje de matemáticas de 95 y un puntaje de ciencias de 90.\n",
    "\n",
    "Extraiga solo puntajes matemáticos desempaquetando usando la función zip en la tupla del puntaje. Escriba un código que calcule el promedio de estos puntajes matemáticos extraídos.\n",
    "\n",
    "**Pauta de código:** use la función **zip** para resolver el problema"
   ]
  },
  {
   "cell_type": "code",
   "execution_count": 36,
   "id": "e5aed4c7",
   "metadata": {},
   "outputs": [
    {
     "name": "stdout",
     "output_type": "stream",
     "text": [
      "Puntajes de Matemáticas: (95, 90, 90, 90)\n",
      "Promedio de Matemáticas: 91.25\n"
     ]
    }
   ],
   "source": [
    "\n",
    "# Tupla con ls información\n",
    "scores = (\n",
    "    ('DongKyu Park' , 88, 95, 90),\n",
    "    ('YoungMin Kang', 85, 90, 95),\n",
    "    ('DongMin Park' , 70, 90, 80),\n",
    "    ('Seungloo Hong', 90, 90, 95),\n",
    ")\n",
    "\n",
    "# Usamos zip(*)\n",
    "names, eng, math, sci = zip(*scores)\n",
    "\n",
    "print(\"Puntajes de Matemáticas:\", math)\n",
    "\n",
    "# Calcular promedio de matemáticas\n",
    "promedio_math = sum(math) / len(math)\n",
    "print(\"Promedio de Matemáticas:\", promedio_math)\n"
   ]
  },
  {
   "cell_type": "markdown",
   "id": "5f26e5d1",
   "metadata": {},
   "source": [
    "___"
   ]
  },
  {
   "cell_type": "markdown",
   "id": "ed04e881",
   "metadata": {},
   "source": [
    "## Fin"
   ]
  }
 ],
 "metadata": {
  "kernelspec": {
   "display_name": "py310",
   "language": "python",
   "name": "python3"
  },
  "language_info": {
   "codemirror_mode": {
    "name": "ipython",
    "version": 3
   },
   "file_extension": ".py",
   "mimetype": "text/x-python",
   "name": "python",
   "nbconvert_exporter": "python",
   "pygments_lexer": "ipython3",
   "version": "3.10.14"
  }
 },
 "nbformat": 4,
 "nbformat_minor": 5
}
