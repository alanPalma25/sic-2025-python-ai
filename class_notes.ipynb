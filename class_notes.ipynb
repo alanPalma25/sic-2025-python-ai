{
 "cells": [
  {
   "cell_type": "markdown",
   "id": "ccd59b89",
   "metadata": {},
   "source": [
    "# SIC Class notes\n",
    "#### Name: Alan Palma"
   ]
  },
  {
   "cell_type": "markdown",
   "id": "bdb03b58",
   "metadata": {},
   "source": [
    "Date: 23th September, 2025"
   ]
  },
  {
   "cell_type": "markdown",
   "id": "0f5542e5",
   "metadata": {},
   "source": [
    "**Retroceso (Backtracking)**\n",
    "\n",
    "Es una técnica algorítmica para resolver problemas explorando todas las posibles soluciones.\n",
    "Si una elección lleva a un camino inválido, el algoritmo retrocede al paso anterior y prueba otra alternativa.\n",
    "\n",
    "Ejemplo: resolver un sudoku o el problema de las N-reinas.\n",
    "\n",
    "**Búsqueda profunda (Depth-First Search, DFS)**\n",
    "\n",
    "Es un método de recorrer grafos o árboles que explora lo más lejos posible en cada rama antes de retroceder.\n",
    "\n",
    "Ejemplo: explorar todas las rutas posibles en un laberinto antes de volver atrás.\n",
    "\n",
    "**Prometedor (Promising)**\n",
    "\n",
    "En algoritmos de ramificación y poda (branch and bound) o backtracking, una solución parcial se considera prometedora si todavía puede llevar a una solución válida o mejor.\n",
    "\n",
    "Ejemplo: en el problema de la mochila, un subconjunto de objetos es prometedor si todavía no excede la capacidad de la mochila.\n",
    "\n",
    "**Poda (Pruning)**\n",
    "\n",
    "Es la acción de descartar ramas del árbol de búsqueda que no son prometedoras, ahorrando tiempo de cómputo.\n",
    "\n",
    "Ejemplo: en ajedrez, el algoritmo minimax con poda alfa-beta ignora jugadas que no cambiarán el resultado final."
   ]
  },
  {
   "cell_type": "markdown",
   "id": "8a1fc0be",
   "metadata": {},
   "source": [
    "### Retroceso (Backtracking)"
   ]
  },
  {
   "cell_type": "code",
   "execution_count": 2,
   "id": "57725cf6",
   "metadata": {},
   "outputs": [
    {
     "name": "stdout",
     "output_type": "stream",
     "text": [
      "[0, 1, 0, 0]\n",
      "[0, 0, 0, 1]\n",
      "[1, 0, 0, 0]\n",
      "[0, 0, 1, 0]\n"
     ]
    }
   ],
   "source": [
    "def es_valido(tablero, fila, columna, n):\n",
    "    \"\"\"\n",
    "    \"\"\"\n",
    "    # Verificar la columna\n",
    "    for i in range(fila):\n",
    "        if tablero[i][columna] == 1:\n",
    "            return False\n",
    "    # Verificar las diagonales\n",
    "    for i, j in zip(range(fila, -1, -1), range(columna, -1, -1)):\n",
    "        if tablero[i][j] == 1:\n",
    "            return False\n",
    "\n",
    "    # Verificar la otra diagonal\n",
    "    for i, j in zip(range(fila, -1, -1), range(columna, n)):\n",
    "        if tablero[i][j] == 1:\n",
    "            return False\n",
    "\n",
    "    return True\n",
    "\n",
    "def resolver_n_reinas(tablero, fila, n):\n",
    "    \"\"\"\n",
    "    \"\"\"\n",
    "    # Caso base: si todas las reinas están colocadas\n",
    "    if fila >= n:\n",
    "        return True\n",
    "\n",
    "    # Intentar colocar una reina en cada columna de la fila actual\n",
    "    for columna in range(n):\n",
    "\n",
    "        # Verificar si es seguro colocar la reina\n",
    "        if es_valido(tablero, fila, columna, n):\n",
    "            tablero[fila][columna] = 1\n",
    "\n",
    "            # Recursivamente intentar colocar reinas en la siguiente fila\n",
    "            if resolver_n_reinas(tablero, fila + 1, n):\n",
    "                return True\n",
    "\n",
    "            tablero[fila][columna] = 0\n",
    "\n",
    "    return False\n",
    "\n",
    "n = 4\n",
    "tablero = [[0 for _ in range(n)] for _ in range(n)]\n",
    "\n",
    "if resolver_n_reinas(tablero, 0, n):\n",
    "    for fila in tablero:\n",
    "        print(fila) \n",
    "else:\n",
    "    print(\"No hay solución\")  "
   ]
  },
  {
   "cell_type": "code",
   "execution_count": 4,
   "id": "712bad2f",
   "metadata": {},
   "outputs": [
    {
     "name": "stdout",
     "output_type": "stream",
     "text": [
      "Se encontró una solución:\n",
      "[1, 0, 0, 0]\n",
      "[1, 1, 0, 0]\n",
      "[0, 1, 0, 0]\n",
      "[0, 1, 1, 1]\n"
     ]
    }
   ],
   "source": [
    "def resolver_laberinto(laberinto, x, y, solucion):\n",
    "    \"\"\"\n",
    "    \"\"\"\n",
    "\n",
    "    n = len(laberinto) \n",
    "\n",
    "    # Caso base: si hemos llegado a la esquina inferior derecha\n",
    "    if x == n - 1 and y == n - 1:\n",
    "        solucion[x][y] = 1\n",
    "        return True\n",
    "\n",
    "    # Verificar si la posición actual es válida\n",
    "    if x >= 0 and x < n and y >= 0 and y < n and laberinto[x][y] == 0:\n",
    "        if solucion[x][y] == 1:\n",
    "            return False  # Ya hemos visitado esta celda\n",
    "        \n",
    "        # Marcar la celda como parte de la solución\n",
    "        solucion[x][y] = 1\n",
    "\n",
    "        # Moverse hacia adelante en la dirección x\n",
    "        if resolver_laberinto(laberinto, x + 1, y, solucion):\n",
    "            return True\n",
    "\n",
    "        # Moverse hacia abajo en la dirección y\n",
    "        if resolver_laberinto(laberinto, x, y + 1, solucion):\n",
    "            return True\n",
    "\n",
    "        # Moverse hacia atrás en la dirección x\n",
    "        if resolver_laberinto(laberinto, x - 1, y, solucion):\n",
    "            return True\n",
    "\n",
    "        # Moverse hacia arriba en la dirección y\n",
    "        if resolver_laberinto(laberinto, x, y - 1, solucion):\n",
    "            return True\n",
    "\n",
    "        # Si ninguna de las opciones funciona, desmarcar la celda (backtrack)\n",
    "        solucion[x][y] = 0\n",
    "        return False\n",
    "\n",
    "    return False\n",
    "\n",
    "laberinto = [\n",
    "    [0, 1, 0, 0],\n",
    "    [0, 0, 0, 1],\n",
    "    [1, 0, 1, 0],\n",
    "    [0, 0 , 0, 0]\n",
    "]\n",
    "\n",
    "n = len(laberinto)\n",
    "solucion = [[0]*n for _ in range(n)]\n",
    "\n",
    "if resolver_laberinto(laberinto, 0, 0, solucion):\n",
    "    print(\"Se encontró una solución:\")\n",
    "    for fila in solucion:\n",
    "        print(fila)\n",
    "else:\n",
    "    print(\"No se encontró solución.\")"
   ]
  },
  {
   "cell_type": "code",
   "execution_count": null,
   "id": "3123427f",
   "metadata": {},
   "outputs": [],
   "source": []
  }
 ],
 "metadata": {
  "kernelspec": {
   "display_name": "py310",
   "language": "python",
   "name": "python3"
  },
  "language_info": {
   "codemirror_mode": {
    "name": "ipython",
    "version": 3
   },
   "file_extension": ".py",
   "mimetype": "text/x-python",
   "name": "python",
   "nbconvert_exporter": "python",
   "pygments_lexer": "ipython3",
   "version": "3.10.14"
  }
 },
 "nbformat": 4,
 "nbformat_minor": 5
}
