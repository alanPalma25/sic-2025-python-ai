{
 "cells": [
  {
   "cell_type": "markdown",
   "id": "5ad8356f",
   "metadata": {},
   "source": [
    "# Actividades Capítulo 5.\n",
    "\n",
    "\n",
    "# Algoritmos de clasificación.\n",
    "\n",
    "## Resumen de actividades\n",
    "\n",
    "\n",
    "- **Unidad 27.** Ordenamiento de burbuja, (Bubble Sort) algoritmo de ordenamiento, selección e inserción\n",
    "- **Unidad 28.** Ordenar por selección, ordenamiento por inserción.\n",
    "- **Unidad 29.** Clasificación rápida\n",
    "\n",
    "### **Name:** Alan Palma Travez "
   ]
  },
  {
   "cell_type": "markdown",
   "id": "8c5aa9c8",
   "metadata": {},
   "source": [
    "# Actividad: Ordenamiento de Burbuja\n",
    "\n",
    "\n",
    "## Instrucciones\n",
    "\n",
    "1. Explique brevemente y en forma clara cómo funciona el algoritmo de ordenamiento de burbuja.\n",
    "\n",
    "El algoritmo burbuja se trata de comparar sólo dos elementos adyacentes de una lista, sobre los cuales se pueden intercambiar posiciones. De este modo, se puede ordernar una lista o arreglo de elementos comparando cada uno de ellos con sus adyacentes.\n",
    "\n",
    "2. Desarrollo un función donde se use el ordenamiento de burbuja aplicada a una lista de valores enteros.\n",
    "\n"
   ]
  },
  {
   "cell_type": "code",
   "execution_count": 5,
   "id": "248dbb75",
   "metadata": {},
   "outputs": [],
   "source": [
    "import random"
   ]
  },
  {
   "cell_type": "code",
   "execution_count": 9,
   "id": "90cd2e33",
   "metadata": {},
   "outputs": [
    {
     "name": "stdout",
     "output_type": "stream",
     "text": [
      "Lista original: [33, 17, 78, 61, 54, 48, 71, 47, 60, 39]\n",
      "Lista ordenada: [17, 33, 39, 47, 48, 54, 60, 61, 71, 78]\n"
     ]
    }
   ],
   "source": [
    "# Espacio para desarrollar el código requerido, recuerde agregar algunos\n",
    "# comentarios breves sobre su funcionamiento.\n",
    "\n",
    "def bubble_sort(arr):\n",
    "    \"\"\"\n",
    "    Ordena una lista de valores enteros usando el algoritmo de burbuja.\n",
    "    Compara elementos adyacentes e intercambia si están en el orden incorrecto.\n",
    "        Input: \n",
    "            arr(list, int): lista de enteros desordenados\n",
    "        Output:\n",
    "            arr(list, int): lista de enteros ordenados\n",
    "    \"\"\"\n",
    "    n = len(arr)\n",
    "    for i in range(n):\n",
    "        # Los últimos i elementos ya están ordenados\n",
    "        for j in range(0, n - i - 1):\n",
    "            if arr[j] > arr[j + 1]:\n",
    "                # Usar tuplas para intercambiar posiciones de los elementos\n",
    "                arr[j], arr[j + 1] = arr[j + 1], arr[j]\n",
    "    return arr\n",
    "\n",
    "# Definir la lista de números a ordenar\n",
    "numbers = random.sample(range(1, 100), 10)\n",
    "print(\"Lista original:\", numbers)\n",
    "\n",
    "# Llamar a la función de ordenamiento y mostrar el resultado\n",
    "sorted_numbers = bubble_sort(numbers)\n",
    "print(\"Lista ordenada:\", sorted_numbers)\n"
   ]
  },
  {
   "cell_type": "markdown",
   "id": "a11871f3",
   "metadata": {},
   "source": [
    "# Actividad: Función Swap.\n",
    "\n",
    "1. Escriba una función que permita el intercambion de elementos en una lista.\n",
    "2. Los argumentos de esta función serán, la lista y los indices de los elementos que se desean intercambiar.\n",
    "3. En la siguiente celda desarrollo el código requerido, recuerde agregar comentarias breves que expliquen su funcionamiento.\n"
   ]
  },
  {
   "cell_type": "code",
   "execution_count": null,
   "id": "1e7a5371",
   "metadata": {},
   "outputs": [
    {
     "name": "stdout",
     "output_type": "stream",
     "text": [
      "Lista antes del intercambio: [17, 33, 39, 47, 48, 54, 60, 61, 71, 78]\n",
      "Lista después del intercambio: [78, 33, 39, 47, 48, 54, 60, 61, 71, 17]\n"
     ]
    }
   ],
   "source": [
    "# Espacio para desarrollar la actividad, si tienes alguna duda o comentario adicional\n",
    "# lo puedes dejar planteado acá.\n",
    "\n",
    "def swap_elements(lst, index1, index2):\n",
    "    \"\"\"\n",
    "    Intercambia los elementos en las posiciones index1 y index2 de la lista lst.\n",
    "        Input:\n",
    "            lst(list): lista de elementos\n",
    "            index1(int): posición del primer elemento a intercambiar\n",
    "            index2(int): posición del segundo elemento a intercambiar\n",
    "        Output:\n",
    "            None: la lista se modifica en el lugar\n",
    "    \"\"\"\n",
    "    lst[index1], lst[index2] = lst[index2], lst[index1]\n",
    "\n",
    "# Verficar la función de intercambio con la lista 'numbers'\n",
    "print(\"Lista antes del intercambio:\", numbers)\n",
    "\n",
    "# Intercambia el primer y último elemento\n",
    "swap_elements(numbers, 0, -1)  \n",
    "print(\"Lista después del intercambio:\", numbers)\n"
   ]
  },
  {
   "cell_type": "markdown",
   "id": "a207d974",
   "metadata": {},
   "source": [
    "\n",
    "# Actividad: \n",
    "\n",
    "1. Explique brevemente el funcionamiento del algoritmo Quick Sort.\n",
    "\n",
    "    El algoritmo de ordenamiento Quick Sort se basa en el concepto divide y veceras. En este algoritmo se toma un pivote (primer elemento, último elemnto o aleatorio) y se colocan todos los elementos menores a este a su izquierda y los mayores a su derecha, o vicerversa dependiendo de lo que se necesite. Usando recursividad se aplica el mismo algoritmo en las secciones consecuentes, a la derecha e izquierda del pivote.\n",
    "\n",
    "2. Desarrollo el código para implementar el algoritmo Quick Sort.\n",
    "3. Revise las unidad 29, sección 1.1"
   ]
  },
  {
   "cell_type": "code",
   "execution_count": null,
   "id": "a4f925a4",
   "metadata": {},
   "outputs": [
    {
     "name": "stdout",
     "output_type": "stream",
     "text": [
      "Lista original para Quick Sort: [68, 36, 14, 82, 30, 1, 41, 79, 13, 51]\n",
      "Lista ordenada con Quick Sort: [1, 13, 14, 30, 36, 41, 51, 68, 79, 82]\n"
     ]
    }
   ],
   "source": [
    "# Celda para desarrollar \n",
    "\n",
    "def quick_sort(arr):\n",
    "    \"\"\"\n",
    "    Ordena una lista de valores enteros usando el algoritmo Quick Sort.\n",
    "        Input: \n",
    "            arr(list, int): lista de enteros desordenados\n",
    "        Output:\n",
    "            arr(list, int): lista de enteros ordenados\n",
    "    \"\"\"\n",
    "    # Caso base: si la lista tiene 0 o 1 elemento, ya está ordenada\n",
    "    if len(arr) <= 1:\n",
    "        return arr\n",
    "    else:\n",
    "        # Elegir como pivote el elemento central de la lista\n",
    "        pivot = arr[len(arr) // 2]\n",
    "\n",
    "        # Seleccionar los elementos a la izquierda del pivote\n",
    "        left = [x for x in arr if x < pivot]\n",
    "\n",
    "        # Seleccionar los elementos iguales al pivote\n",
    "        middle = [x for x in arr if x == pivot]\n",
    "\n",
    "        # Seleccionar los elementos a la derecha del pivote\n",
    "        right = [x for x in arr if x > pivot]\n",
    "\n",
    "        # Recursivamente ordenar las sublistas y combinar los resultados\n",
    "        return quick_sort(left) + middle + quick_sort(right)\n",
    "    \n",
    "\n",
    "# Verificar la función Quick Sort con una lista aleatoria\n",
    "random_list = random.sample(range(1, 100), 10)\n",
    "print(\"Lista original para Quick Sort:\", random_list)\n",
    "sorted_list = quick_sort(random_list)\n",
    "print(\"Lista ordenada con Quick Sort:\", sorted_list)"
   ]
  },
  {
   "cell_type": "markdown",
   "id": "26a6bb9e",
   "metadata": {},
   "source": [
    "# Actividad: Quick Sort usando un valor de pivote aleatorio.\n",
    "\n",
    "1. Explique brevemente el funcionamiento del algoritmo Quick Sort en la modaladidad de usar un valor de pivote aleatorio.\n",
    "\n",
    "    El pivote es elegido aleotariamente de los elementos de la lista, asi como de las sublistas.\n",
    "\n",
    "2. Comente las ventajas de esta variación.\n",
    "\n",
    "    Mejora el redimiento del algoritmo haciendolo mas adecuado para todo tipo de datos. En mayor medida evitará los peores casos donde el elemento pivote seleccionado sea el elemento incial/final de la lsita ordenada.\n",
    "    \n",
    "3. Desarrollo el código necesarion para este algoritmo.\n",
    "4. Agregue comentarios sobre su funcionamiento.\n",
    "\n"
   ]
  },
  {
   "cell_type": "code",
   "execution_count": null,
   "id": "6670eace",
   "metadata": {},
   "outputs": [
    {
     "name": "stdout",
     "output_type": "stream",
     "text": [
      "Lista original para Quick Sort: [68, 36, 14, 82, 30, 1, 41, 79, 13, 51]\n",
      "Lista ordenada con Quick Sort: [1, 13, 14, 30, 36, 41, 51, 68, 79, 82]\n"
     ]
    }
   ],
   "source": [
    "# Espacio para desarrollar el código siguiendo las instrucciones.\n",
    "\n",
    "# Celda para desarrollar \n",
    "\n",
    "def quick_sort_random(arr):\n",
    "    \"\"\"\n",
    "    Ordena una lista de valores enteros usando el algoritmo Quick Sort.\n",
    "    Elpivote es elegido aleatoriamente.\n",
    "        Input: \n",
    "            arr(list, int): lista de enteros desordenados\n",
    "        Output:\n",
    "            arr(list, int): lista de enteros ordenados\n",
    "    \"\"\"\n",
    "    # Caso base: si la lista tiene 0 o 1 elemento, ya está ordenada\n",
    "    if len(arr) <= 1:\n",
    "        return arr\n",
    "    else:\n",
    "        # Elegir un pivote aleatorio\n",
    "        pivot = arr[random.randint(0, len(arr) - 1)]\n",
    "\n",
    "        # Seleccionar los elementos a la izquierda del pivote\n",
    "        left = [x for x in arr if x < pivot]\n",
    "\n",
    "        # Seleccionar los elementos iguales al pivote\n",
    "        middle = [x for x in arr if x == pivot]\n",
    "\n",
    "        # Seleccionar los elementos a la derecha del pivote\n",
    "        right = [x for x in arr if x > pivot]\n",
    "\n",
    "        # Recursivamente ordenar las sublistas y combinar los resultados\n",
    "        return quick_sort(left) + middle + quick_sort(right)\n",
    "    \n",
    "\n",
    "# Verificar la función Quick Sort con una lista aleatoria\n",
    "print(\"Lista original para Quick Sort:\", random_list)\n",
    "sorted_list = quick_sort_random(random_list)\n",
    "print(\"Lista ordenada con Quick Sort:\", sorted_list)"
   ]
  }
 ],
 "metadata": {
  "kernelspec": {
   "display_name": "py310",
   "language": "python",
   "name": "python3"
  },
  "language_info": {
   "codemirror_mode": {
    "name": "ipython",
    "version": 3
   },
   "file_extension": ".py",
   "mimetype": "text/x-python",
   "name": "python",
   "nbconvert_exporter": "python",
   "pygments_lexer": "ipython3",
   "version": "3.10.14"
  }
 },
 "nbformat": 4,
 "nbformat_minor": 5
}
