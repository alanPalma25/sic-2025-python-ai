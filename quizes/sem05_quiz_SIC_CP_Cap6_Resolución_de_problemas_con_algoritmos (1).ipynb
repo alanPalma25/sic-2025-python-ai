{
  "cells": [
    {
      "cell_type": "markdown",
      "id": "49909eb6",
      "metadata": {
        "id": "49909eb6"
      },
      "source": [
        "# Coding and Programming\n",
        "\n",
        "## Capítulo 6\n",
        "\n",
        "### Resolución de problemas con algoritmos\n",
        "\n",
        "- **Unidad 30.** Enfoque Greedy algoritmos voraces o ávidos.\n",
        "- **Unidad 31.** Divide y vencerás\n",
        "- **Unidad 32.** Programación dinámica\n",
        "- **Unidad 33.** Backtracking\n"
      ]
    },
    {
      "cell_type": "markdown",
      "id": "2e42031a",
      "metadata": {
        "id": "2e42031a"
      },
      "source": [
        "___"
      ]
    },
    {
      "cell_type": "markdown",
      "id": "780f0fff",
      "metadata": {
        "id": "780f0fff"
      },
      "source": [
        "## Q 30-01\n",
        "\n",
        "Este es el problema del intercambio de monedas.\n",
        "\n",
        "Tienes una moneda de 400 wones.\n",
        "\n",
        "Escriba el resultado de cómo el algoritmo `coin_change()` determina el cambio de la moneda de 800 wones.\n",
        "```\n",
        "coins  = [500, 400, 100, 50, 10]\n",
        "amount = int(input(\"Ingrese la cantidad: \"))\n",
        "changes= coin_change(coins, amount)\n",
        "print(changes, len(changes))\n",
        "\n",
        "Ingrese la cantidad: 800\n",
        "```"
      ]
    },
    {
      "cell_type": "markdown",
      "id": "8d0b8eb8",
      "metadata": {
        "id": "8d0b8eb8"
      },
      "source": [
        "EL resultado sera: \n",
        "\n",
        "- 1 moneda de 500\n",
        "- 3 monedas de 100"
      ]
    },
    {
      "cell_type": "markdown",
      "id": "ca15d3cf",
      "metadata": {
        "id": "ca15d3cf"
      },
      "source": [
        "___"
      ]
    },
    {
      "cell_type": "markdown",
      "id": "89395b47",
      "metadata": {
        "id": "89395b47"
      },
      "source": [
        "## Q 31-01\n",
        "\n",
        "Tienes 8 monedas idénticas numeradas del 1 al 8. De estas, solo una moneda es más pesada que la otra.\n",
        "\n",
        "Suponiendo que puede pesar monedas con una balanza equilibrada, diseñe un algoritmo que encuentre la moneda más pesada.\n",
        "\n",
        "En este momento, ¿cuántas veces se debe usar al menos la balanza?"
      ]
    },
    {
      "cell_type": "markdown",
      "id": "0aa0028f",
      "metadata": {},
      "source": [
        "**Algoritmo**: \n",
        "\n",
        "1. Dividir las monedas en tres grupos, dos grupos de tres monedas y uno de dos. \n",
        "\n",
        "2. Usar la balanza y comparar los dos grupos de tres generando solo dos altertanivas (**Primera pesada**):\n",
        "\n",
        "    - Si la balanza se equilibra, la modena pesada esta en el grupo de dos.\n",
        "    - Si la balanza no se equilibra, la modena esta en el lado mas pesado.\n",
        "\n",
        "3. Comparar los grupos restantes de la misma manera (**Segunda pesada**)."
      ]
    },
    {
      "cell_type": "code",
      "execution_count": 6,
      "id": "8d05fa5e",
      "metadata": {
        "id": "8d05fa5e"
      },
      "outputs": [
        {
          "name": "stdout",
          "output_type": "stream",
          "text": [
            "Pesando: [0, 1, 2, 3] vs [4, 5, 6, 7]\n",
            "Pesando: [4, 5] vs [6, 7]\n",
            "\n",
            "La moneda más pesada es la número 5 con peso 11\n"
          ]
        }
      ],
      "source": [
        "def balanza(monedas, grupo1, grupo2):\n",
        "    \"\"\"\n",
        "    Compara el peso de dos grupos de monedas.\n",
        "        Inputs:\n",
        "            monedas (float): lista de pesos de las monedas\n",
        "            grupo1 (list of int): lista de índices de las monedas en el primer grupo\n",
        "            grupo2 (list of int): lista de índices de las monedas en el segundo grupo\n",
        "        Outputs:\n",
        "            int: 1 si el primer grupo es más pesado, \n",
        "                 -1 si el segundo grupo es más pesado, \n",
        "                 0 si son iguales\n",
        "    \"\"\"\n",
        "    peso1 = sum(monedas[i] for i in grupo1)\n",
        "    peso2 = sum(monedas[i] for i in grupo2)\n",
        "\n",
        "    print(f\"Pesando: {grupo1} vs {grupo2}\")\n",
        "\n",
        "    if peso1 > peso2:\n",
        "        return 1\n",
        "    elif peso1 < peso2:\n",
        "        return -1\n",
        "    else:\n",
        "        return 0\n",
        "\n",
        "\n",
        "def encontrar_moneda_pesada(monedas, indices=None):\n",
        "    \"\"\"\n",
        "    Encuentra la moneda más pesada usando recursión y la balanza.\n",
        "        Inputs:\n",
        "            monedas (float): lista de pesos de las monedas\n",
        "            indices (list of int, optional): lista de índices de las monedas a considerar\n",
        "        Outputs:\n",
        "            int: índice de la moneda más pesada\n",
        "    \"\"\"\n",
        "    if indices is None:\n",
        "        indices = list(range(len(monedas)))\n",
        "\n",
        "    # Caso base: si solo quedan 2 o 3 monedas\n",
        "    if len(indices) == 2:\n",
        "        return indices[0] if monedas[indices[0]] > monedas[indices[1]] else indices[1]\n",
        "    elif len(indices) == 3:\n",
        "        resultado = balanza(monedas, [indices[0]], [indices[1]])\n",
        "        if resultado == 1:\n",
        "            return indices[0]\n",
        "        elif resultado == -1:\n",
        "            return indices[1]\n",
        "        else:\n",
        "            return indices[2]\n",
        "\n",
        "    # Paso recursivo: dividir en dos grupos de igual tamaño y un sobrante\n",
        "    mid = len(indices) // 2\n",
        "    grupo1 = indices[:mid]\n",
        "    grupo2 = indices[mid:mid*2]\n",
        "    resto  = indices[mid*2:]\n",
        "\n",
        "    resultado = balanza(monedas, grupo1, grupo2)\n",
        "\n",
        "    if resultado == 1:\n",
        "        return encontrar_moneda_pesada(monedas, grupo1)\n",
        "    elif resultado == -1:\n",
        "        return encontrar_moneda_pesada(monedas, grupo2)\n",
        "    else:\n",
        "        return encontrar_moneda_pesada(monedas, resto)\n",
        "\n",
        "\n",
        "# PRUEBA\n",
        "monedas = [10,10,10,10,11,10,10,10]  # moneda #5 es más pesada\n",
        "resultado = encontrar_moneda_pesada(monedas)\n",
        "print(f\"\\nLa moneda más pesada es la número {resultado+1} con peso {monedas[resultado]}\")\n"
      ]
    },
    {
      "cell_type": "markdown",
      "id": "5db62a8c",
      "metadata": {},
      "source": [
        "La balanza se debe usar al menos **dos veces**."
      ]
    },
    {
      "cell_type": "markdown",
      "id": "9c37e736",
      "metadata": {
        "id": "9c37e736"
      },
      "source": [
        "___"
      ]
    },
    {
      "cell_type": "markdown",
      "id": "6f047403",
      "metadata": {
        "id": "6f047403"
      },
      "source": [
        "## Q 31-02\n",
        "\n",
        "Hay nueve monedas idénticas numeradas del 1 al 9 en el problema anterior.\n",
        "\n",
        "Diseñe un algoritmo para encontrar una moneda pesada en este caso.\n",
        "\n",
        "En este momento, ¿cuántas veces se debe usar al menos la balanza?"
      ]
    },
    {
      "cell_type": "markdown",
      "id": "41e80a15",
      "metadata": {
        "id": "41e80a15"
      },
      "source": [
        "En este caso el algoritmo sería similar:\n",
        "\n",
        "**Algoritmo:**\n",
        "\n",
        "\n",
        "1. Dividir las monedas en tres grupos de tres monedas. \n",
        "\n",
        "2. Usar la balanza y comparar los dos grupos de tres generando solo dos altertanivas (**Primera pesada**):\n",
        "\n",
        "    - Si la balanza se equilibra, la modena pesada esta en el grupo de tres no comparado.\n",
        "    - Si la balanza no se equilibra, la modena esta en el lado mas pesado.\n",
        "\n",
        "3. Comparar el grupo de tres sleccionado con la misma lógica:\n",
        "    - Pesar dos monedas de grupos selecionado. \n",
        "        - Si la balanza se equilbra, la moneda mas pesada es la que no se comparó.\n",
        "        - Si la balanza no se equilibra, es la del lado más pesado."
      ]
    },
    {
      "cell_type": "code",
      "execution_count": null,
      "id": "ae43094c",
      "metadata": {},
      "outputs": [
        {
          "name": "stdout",
          "output_type": "stream",
          "text": [
            "Pesando: [0, 1, 2] vs [3, 4, 5]\n",
            "Pesando: [3] vs [4]\n",
            "\n",
            "La moneda más pesada es la número 6 con peso 11\n",
            "Número total de pesajes usados: 2\n"
          ]
        }
      ],
      "source": [
        "# Variable global para contar el número de pesajes\n",
        "contador_pesajes = 0\n",
        "\n",
        "def balanza(monedas, grupo1, grupo2):\n",
        "    \"\"\"\n",
        "    Compara el peso de dos grupos de monedas.\n",
        "        Inputs:\n",
        "            monedas (float): lista de pesos de las monedas\n",
        "            grupo1 (list of int): lista de índices de las monedas en el primer grupo\n",
        "            grupo2 (list of int): lista de índices de las monedas en el segundo grupo\n",
        "        Outputs:\n",
        "            int: 1 si el primer grupo es más pesado,\n",
        "                -1 si el segundo grupo es más pesado, \n",
        "                 0 si son iguales\n",
        "    \"\"\"\n",
        "    global contador_pesajes\n",
        "    contador_pesajes += 1  # Cada vez que usamos la balanza, incrementamos\n",
        "\n",
        "    peso1 = sum(monedas[i] for i in grupo1)\n",
        "    peso2 = sum(monedas[i] for i in grupo2)\n",
        "\n",
        "    print(f\"Pesando: {grupo1} vs {grupo2}\")\n",
        "\n",
        "    if peso1 > peso2:\n",
        "        return 1\n",
        "    elif peso1 < peso2:\n",
        "        return -1\n",
        "    else:\n",
        "        return 0\n",
        "\n",
        "\n",
        "def encontrar_moneda_pesada(monedas, indices=None):\n",
        "    \"\"\"\n",
        "    Encuentra la moneda más pesada usando recursión y la balanza.\n",
        "        Inputs:\n",
        "            monedas (float): lista de pesos de las monedas\n",
        "            indices (list of int, optional): lista de índices de las monedas a considerar\n",
        "        Outputs:\n",
        "            int: índice de la moneda más pesada\n",
        "    \"\"\"\n",
        "    if indices is None:\n",
        "        indices = list(range(len(monedas)))\n",
        "\n",
        "    # Casos base\n",
        "    if len(indices) == 1:\n",
        "        return indices[0]\n",
        "    elif len(indices) == 2:\n",
        "        return indices[0] if monedas[indices[0]] > monedas[indices[1]] else indices[1]\n",
        "    elif len(indices) == 3:\n",
        "        resultado = balanza(monedas, [indices[0]], [indices[1]])\n",
        "        if resultado == 1:\n",
        "            return indices[0]\n",
        "        elif resultado == -1:\n",
        "            return indices[1]\n",
        "        else:\n",
        "            return indices[2]\n",
        "\n",
        "    # Caso general: dividir en 3 grupos lo más equilibrados posible\n",
        "    tercio = len(indices) // 3\n",
        "    grupo1 = indices[:tercio]\n",
        "    grupo2 = indices[tercio:2*tercio]\n",
        "    grupo3 = indices[2*tercio:]\n",
        "\n",
        "    resultado = balanza(monedas, grupo1, grupo2)\n",
        "\n",
        "    if resultado == 1:\n",
        "        return encontrar_moneda_pesada(monedas, grupo1)\n",
        "    elif resultado == -1:\n",
        "        return encontrar_moneda_pesada(monedas, grupo2)\n",
        "    else:\n",
        "        return encontrar_moneda_pesada(monedas, grupo3)\n",
        "\n",
        "\n",
        "# PRUEBA con 9 monedas\n",
        "monedas = [10,10,10,10,10,11,10,10,10]  # moneda #6 es más pesada\n",
        "contador_pesajes = 0  # reiniciamos el contador\n",
        "resultado = encontrar_moneda_pesada(monedas)\n",
        "\n",
        "print(f\"\\nLa moneda más pesada es la número {resultado+1} con peso {monedas[resultado]}\")\n",
        "print(f\"Número total de pesajes usados: {contador_pesajes}\")\n"
      ]
    },
    {
      "cell_type": "markdown",
      "id": "d1d6a3d0",
      "metadata": {},
      "source": [
        "Al igual que en el caso anterior la balanza se debe usar al menos **dos veces**."
      ]
    },
    {
      "cell_type": "markdown",
      "id": "0453c475",
      "metadata": {
        "id": "0453c475"
      },
      "source": [
        "___"
      ]
    },
    {
      "cell_type": "markdown",
      "id": "881569fc",
      "metadata": {
        "id": "881569fc"
      },
      "source": [
        "## Q 32-01\n",
        "\n",
        "Analice el resultado de la ejecución del siguiente código y compárelo con el rendimiento de las funciones `fib1()`, `fib2()` y `fib3()`.\n",
        "```\n",
        "def fib4(n):\n",
        "    if n <= 1:\n",
        "        return n\n",
        "    else:\n",
        "        a,b = 0,1\n",
        "        for i in range(2, n + 1):\n",
        "            a,b = b,a+b\n",
        "        return b\n",
        "\n",
        "N = int(input(\"Ingrese un numero: \"))\n",
        "print(fib4(N))\n",
        "\n",
        "\n",
        "Ingrese un numero:\n",
        "```\n"
      ]
    },
    {
      "cell_type": "code",
      "execution_count": 9,
      "id": "2ee567d0",
      "metadata": {},
      "outputs": [],
      "source": [
        "# Definir todas la funciones a comparar\n",
        "\n",
        "def fib1(n):\n",
        "    if n == 0 or n == 1:\n",
        "        return n\n",
        "    else:\n",
        "        return fib1(n-1) + fib1(n-2)\n",
        "\n",
        "def fib2(F, n):\n",
        "    if n in F:\n",
        "        return F[n]\n",
        "    F[n] = fib2(F, n-1) + fib2(F, n-2)\n",
        "    return F[n]\n",
        "\n",
        "def fib3(F, n):\n",
        "    if n <= 1:\n",
        "        return F[n]\n",
        "    elif F[n] < 0:\n",
        "        F[n] = fib3(F, n-1) + fib3(F, n-2)\n",
        "    return F[n]\n",
        "\n",
        "def fib4(n):\n",
        "    if n <= 1:\n",
        "        return n\n",
        "    else:\n",
        "        a,b = 0,1\n",
        "        for i in range(2, n + 1):\n",
        "            a,b = b,a+b\n",
        "        return b"
      ]
    },
    {
      "cell_type": "code",
      "execution_count": null,
      "id": "74acfec5",
      "metadata": {},
      "outputs": [
        {
          "name": "stdout",
          "output_type": "stream",
          "text": [
            "fib1(35) = 9227465, tiempo: 4.880574 segundos\n",
            "fib2(35) = 9227465, tiempo: 0.000141 segundos\n",
            "fib3(35) = 9227465, tiempo: 0.000125 segundos\n",
            "fib4(35) = 9227465, tiempo: 0.000096 segundos\n"
          ]
        }
      ],
      "source": [
        "# Llamar las funciones y medir tiempos\n",
        "import time\n",
        "n = 35 \n",
        "\n",
        "# Funcion 1\n",
        "start = time.time()\n",
        "resultado1 = fib1(n)\n",
        "end = time.time()\n",
        "print(f\"fib1({n}) = {resultado1}, tiempo: {end - start:.6f} segundos\")\n",
        "\n",
        "# Funcion 2\n",
        "F_dic = {0:0, 1:1}  # Diccionario para memorización\n",
        "start = time.time()\n",
        "resultado2 = fib2(F_dic, n)\n",
        "end = time.time()\n",
        "print(f\"fib2({n}) = {resultado2}, tiempo: {end - start:.6f} segundos\")\n",
        "\n",
        "# Funcion 3\n",
        "F_list = [0, 1] + [-1]*(n-1)  # Lista para memorización\n",
        "start = time.time()\n",
        "resultado3 = fib3(F_list, n)\n",
        "end = time.time()\n",
        "print(f\"fib3({n}) = {resultado3}, tiempo: {end - start:.6f} segundos\")\n",
        "\n",
        "# Funcion 4\n",
        "start = time.time()\n",
        "resultado4 = fib4(n)\n",
        "end = time.time()\n",
        "print(f\"fib4({n}) = {resultado4}, tiempo: {end - start:.6f} segundos\")\n"
      ]
    },
    {
      "cell_type": "markdown",
      "id": "8fbccd0b",
      "metadata": {},
      "source": [
        "**Análisis**:\n",
        "- La función fib1 es la menos eficiente, con tiempo exponencial.\n",
        "- La función fib2 mejora significativamente usando un diccionario para memorización.\n",
        "- La función fib3 es similar a fib2 pero usa una lista, lo que puede ser más eficiente en términos de acceso.\n",
        "- La función fib4 es la más eficiente, con tiempo lineal y espacio constante, ya que solo mantiene los dos últimos valores. Esto pude ayudar cunado queremos optimizar la memoria utilizada."
      ]
    },
    {
      "cell_type": "markdown",
      "id": "60d998bd",
      "metadata": {
        "id": "60d998bd"
      },
      "source": [
        "___"
      ]
    },
    {
      "cell_type": "markdown",
      "id": "1087c522",
      "metadata": {
        "id": "1087c522"
      },
      "source": [
        "## Q 32-02\n",
        "\n",
        "Analice el resultado de la ejecución del siguiente código y compárelo con el rendimiento de las funciones `bin1()` y `bin2()`.\n",
        "```\n",
        "def bin3(n, k):\n",
        "    B = [0] * (n + 1)\n",
        "    B[0] = 1\n",
        "    for i in range(1, n + 1):\n",
        "        for j in range(i, 0, -1):  \n",
        "            B[j] = B[j] + B[j-1]\n",
        "    return B[k]\n",
        "\n",
        "\n",
        "for i in range(10):\n",
        "    for j in range(i+1):\n",
        "        print(bin3(i, j), end=\" \")\n",
        "    print()\n",
        "\n",
        "```"
      ]
    },
    {
      "cell_type": "code",
      "execution_count": 14,
      "id": "a28e7590",
      "metadata": {},
      "outputs": [],
      "source": [
        "def bin1(n, k):\n",
        "    if k == 0 or k == n:\n",
        "        return 1\n",
        "    return bin1(n-1, k-1) + bin1(n-1, k)\n",
        "\n",
        "def bin2(n, k):\n",
        "    B = [[0]*(i+1) for i in range(n+1)]\n",
        "    for i in range(n+1):\n",
        "        for j in range(i+1):\n",
        "            if j == 0 or j == i:\n",
        "                B[i][j] = 1\n",
        "            else:\n",
        "                B[i][j] = B[i-1][j-1] + B[i-1][j]\n",
        "    return B[n][k]\n",
        "\n",
        "def bin3(n, k):\n",
        "    B = [0] * (n + 1)\n",
        "    B[0] = 1\n",
        "    for i in range(1, n + 1):\n",
        "        for j in range(i, 0, -1):  \n",
        "            B[j] = B[j] + B[j-1]\n",
        "    return B[k]"
      ]
    },
    {
      "cell_type": "code",
      "execution_count": 23,
      "id": "a0df2e98",
      "metadata": {
        "id": "a0df2e98"
      },
      "outputs": [
        {
          "name": "stdout",
          "output_type": "stream",
          "text": [
            "1 \n",
            "1 1 \n",
            "1 2 1 \n",
            "1 3 3 1 \n",
            "1 4 6 4 1 \n",
            "1 5 10 10 5 1 \n",
            "1 6 15 20 15 6 1 \n",
            "1 7 21 35 35 21 7 1 \n",
            "1 8 28 56 70 56 28 8 1 \n",
            "1 9 36 84 126 126 84 36 9 1 \n",
            "bin1 - tiempo: 0.001742 segundos\n",
            "1 \n",
            "1 1 \n",
            "1 2 1 \n",
            "1 3 3 1 \n",
            "1 4 6 4 1 \n",
            "1 5 10 10 5 1 \n",
            "1 6 15 20 15 6 1 \n",
            "1 7 21 35 35 21 7 1 \n",
            "1 8 28 56 70 56 28 8 1 \n",
            "1 9 36 84 126 126 84 36 9 1 \n",
            "bin2 - tiempo: 0.001244 segundos\n",
            "1 \n",
            "1 1 \n",
            "1 2 1 \n",
            "1 3 3 1 \n",
            "1 4 6 4 1 \n",
            "1 5 10 10 5 1 \n",
            "1 6 15 20 15 6 1 \n",
            "1 7 21 35 35 21 7 1 \n",
            "1 8 28 56 70 56 28 8 1 \n",
            "1 9 36 84 126 126 84 36 9 1 \n",
            "bin3 - tiempo: 0.001022 segundos\n"
          ]
        }
      ],
      "source": [
        "# Comparar las funciones de binomio\n",
        "import time\n",
        "\n",
        "# Funcion 1\n",
        "start = time.time()\n",
        "for i in range(10):\n",
        "    for j in range(i+1):\n",
        "        print(bin1(i, j), end=\" \")\n",
        "    print()\n",
        "end = time.time()\n",
        "print(f\"bin1 - tiempo: {end - start:.6f} segundos\")\n",
        "\n",
        "# Funcion 2\n",
        "start = time.time()\n",
        "for i in range(10):\n",
        "    for j in range(i+1):\n",
        "        print(bin2(i, j), end=\" \")\n",
        "    print()\n",
        "end = time.time()\n",
        "print(f\"bin2 - tiempo: {end - start:.6f} segundos\")\n",
        "\n",
        "# Funcion 3\n",
        "start = time.time()\n",
        "for i in range(10):\n",
        "    for j in range(i+1):\n",
        "        print(bin3(i, j), end=\" \")\n",
        "    print()\n",
        "end = time.time()\n",
        "print(f\"bin3 - tiempo: {end - start:.6f} segundos\")\n"
      ]
    },
    {
      "cell_type": "markdown",
      "id": "2fdac9f8",
      "metadata": {},
      "source": [
        "**Análisis**:\n",
        "- La función bin1 es la menos eficiente.\n",
        "- La función bin2 mejora significativamente usando una tabla 2D para memorización.\n",
        "- La función bin3 es la más eficiente, con tiempo polinomial y espacio lineal ya que utiliza una tabla 1D a diferencia de bin2 que utliza mas espació para memorización."
      ]
    },
    {
      "cell_type": "markdown",
      "id": "7cef2a44",
      "metadata": {
        "id": "7cef2a44"
      },
      "source": [
        "___"
      ]
    },
    {
      "cell_type": "markdown",
      "id": "d36e67d4",
      "metadata": {
        "id": "d36e67d4"
      },
      "source": [
        "## Q 33-01\n",
        "\n",
        "Si reemplaza cada letra con un número en la siguiente letra, el número correspondiente a las cinco palabras son todos cuadrados.\n",
        "\n",
        "Para cada palabra, la suma de cada dígito también es un número cuadrado.\n",
        "\n",
        "Encuentra el número representado por cada letra.\n",
        "\n",
        "**Código de referencia:**"
      ]
    },
    {
      "cell_type": "code",
      "execution_count": 1,
      "id": "13991ae0",
      "metadata": {
        "id": "13991ae0"
      },
      "outputs": [
        {
          "name": "stdout",
          "output_type": "stream",
          "text": [
            "A: 9\n",
            "TO: 81\n",
            "ALL: 900\n",
            "MERRY: 34225\n",
            "XMAS: 7396\n",
            "Elapsed Time: 0.008028984069824219 seconds\n"
          ]
        }
      ],
      "source": [
        "from math import sqrt, floor\n",
        "import time\n",
        "\n",
        "def is_square_digitsum(n):\n",
        "    s = 0\n",
        "    while n > 0:\n",
        "        s += n % 10\n",
        "        n //= 10\n",
        "    if sqrt(s) == int(sqrt(s)):\n",
        "        return True\n",
        "    return False\n",
        "\n",
        "def find_all_squares():\n",
        "    sqrs = [[] for _ in range(5)]\n",
        "    for i in range(1, floor(sqrt(10 ** 5)) + 1):\n",
        "        n = i * i\n",
        "        if not is_square_digitsum(n):\n",
        "            continue\n",
        "        s = str(n)\n",
        "        if len(s) == 3 and s[1] != s[2]:\n",
        "            continue\n",
        "        if len(s) == 5 and s[2] != s[3]:\n",
        "            continue\n",
        "        if len(s) in [4, 5] and len(set(s)) != 4:\n",
        "            continue\n",
        "        sqrs[len(s) - 1].append(n)\n",
        "    return sqrs\n",
        "\n",
        "def promising(s, n, dic):\n",
        "    for i in range(len(s)):\n",
        "        digit = int(str(n)[i])\n",
        "        for key, value in dic.items():\n",
        "            if key == s[i] and value != digit:\n",
        "                return False\n",
        "            if value == digit and key != s[i]:\n",
        "                return False\n",
        "    return True\n",
        "\n",
        "def solve(words, dic, squares):\n",
        "    global solved\n",
        "    if len(words) == 0:\n",
        "        solved = dic\n",
        "    else:\n",
        "        s = words[0]\n",
        "        candidates = squares[len(s) - 1]\n",
        "        for n in candidates:\n",
        "            if promising(s, n, dic):\n",
        "                newdic = dic.copy()\n",
        "                for i in range(len(s)):\n",
        "                    newdic[s[i]] = int(str(n)[i])\n",
        "                solve(words[1:], newdic, squares)\n",
        "\n",
        "def main():\n",
        "    squares = find_all_squares()\n",
        "    words = ['A', 'TO', 'ALL', 'MERRY', 'XMAS']\n",
        "    dic = {}\n",
        "    solve(words, dic, squares)\n",
        "    for word in words:\n",
        "        print(word, end=\": \")\n",
        "        for c in word:\n",
        "            print(solved[c], end=\"\")\n",
        "        print()\n",
        "\n",
        "start = time.time()\n",
        "solved = {}\n",
        "main()\n",
        "end = time.time()\n",
        "print(\"Elapsed Time:\", end-start,\"seconds\")\n"
      ]
    },
    {
      "cell_type": "markdown",
      "id": "0a7153c2",
      "metadata": {
        "id": "0a7153c2"
      },
      "source": []
    },
    {
      "cell_type": "markdown",
      "id": "d31d23cb",
      "metadata": {
        "id": "d31d23cb"
      },
      "source": [
        "___"
      ]
    },
    {
      "cell_type": "markdown",
      "id": "c815e543",
      "metadata": {
        "id": "c815e543"
      },
      "source": [
        "# Fin"
      ]
    }
  ],
  "metadata": {
    "colab": {
      "provenance": []
    },
    "kernelspec": {
      "display_name": "py310",
      "language": "python",
      "name": "python3"
    },
    "language_info": {
      "codemirror_mode": {
        "name": "ipython",
        "version": 3
      },
      "file_extension": ".py",
      "mimetype": "text/x-python",
      "name": "python",
      "nbconvert_exporter": "python",
      "pygments_lexer": "ipython3",
      "version": "3.10.14"
    }
  },
  "nbformat": 4,
  "nbformat_minor": 5
}
