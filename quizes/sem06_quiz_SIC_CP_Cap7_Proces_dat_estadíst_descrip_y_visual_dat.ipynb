{
  "cells": [
    {
      "cell_type": "markdown",
      "id": "49909eb6",
      "metadata": {
        "id": "49909eb6"
      },
      "source": [
        "# Codificacion y Programacion\n",
        "## Capítulo 7\n",
        "\n",
        "### Procesamiento de datos, estadísticas descriptivas y visualización de datos\n",
        "\n",
        "- **Unidad 34.** Uso de módulos de Python\n",
        "- **Unidad 35.** Serie de Pandas para el tratamiento de datos\n",
        "- **Unidad 36.** Pandas DataFrame para procesamiento de datos\n",
        "- **Unidad 37.** Ordenamiento de datos\n",
        "\n",
        "### Nombre: Alan Palma Travez"
      ]
    },
    {
      "cell_type": "markdown",
      "id": "2e42031a",
      "metadata": {
        "id": "2e42031a"
      },
      "source": [
        "___"
      ]
    },
    {
      "cell_type": "markdown",
      "id": "780f0fff",
      "metadata": {
        "id": "780f0fff"
      },
      "source": [
        "## Q 34-01\n",
        "\n",
        "Convierta los siguientes datos del diccionario en un dataframe usando **Pandas**.\n",
        "\n",
        "(Denomina el dataframe `df`)\n",
        "\n",
        "`d = { 'col1':[1,2], 'col2':[3,4], 'col3':[5,6], 'col4':[7,8] }`"
      ]
    },
    {
      "cell_type": "code",
      "execution_count": 1,
      "id": "d72cc88b",
      "metadata": {},
      "outputs": [],
      "source": [
        "import pandas as pd"
      ]
    },
    {
      "cell_type": "code",
      "execution_count": 6,
      "id": "c0da5556",
      "metadata": {},
      "outputs": [
        {
          "name": "stdout",
          "output_type": "stream",
          "text": [
            "   col1  col2  col3  col4\n",
            "0     1     3     5     7\n",
            "1     2     4     6     8\n"
          ]
        }
      ],
      "source": [
        "d = { 'col1':[1,2], 'col2':[3,4], 'col3':[5,6], 'col4':[7,8] }\n",
        "\n",
        "# Crear un dataframe a partir del diccionario\n",
        "df = pd.DataFrame(d)\n",
        "print(df)"
      ]
    },
    {
      "cell_type": "markdown",
      "id": "f77a6a5c",
      "metadata": {
        "id": "f77a6a5c"
      },
      "source": [
        "___"
      ]
    },
    {
      "cell_type": "markdown",
      "id": "89395b47",
      "metadata": {
        "id": "89395b47"
      },
      "source": [
        "## Q 35-01\n",
        "\n",
        "En el DataFrame creado en la pregunta **Q 34-01**, cree un nuevo dataframe que consista solo en los datos de la columna con el nombre de columna `'col4'`.\n",
        "\n",
        "(Denomina el dataframe `new_df`)\n"
      ]
    },
    {
      "cell_type": "code",
      "execution_count": 7,
      "id": "6a1bd068",
      "metadata": {},
      "outputs": [
        {
          "name": "stdout",
          "output_type": "stream",
          "text": [
            "   col4\n",
            "0     7\n",
            "1     8\n"
          ]
        }
      ],
      "source": [
        "# NNuevo dataframe solo con datos de col4\n",
        "new_df = df[['col4']]\n",
        "print(new_df)"
      ]
    },
    {
      "cell_type": "markdown",
      "id": "4b5b87cd",
      "metadata": {
        "id": "4b5b87cd"
      },
      "source": [
        "___"
      ]
    },
    {
      "cell_type": "markdown",
      "id": "881569fc",
      "metadata": {
        "id": "881569fc"
      },
      "source": [
        "## Q 36-01\n",
        "\n",
        "El índice del dataframe creado en la pregunta **Q 34-01** es `0` y `1`.\n",
        "\n",
        "Escriba un comando para cambiar el nombre de estos índices a `primero` y `segundo`."
      ]
    },
    {
      "cell_type": "code",
      "execution_count": 10,
      "id": "4d58479c",
      "metadata": {},
      "outputs": [
        {
          "name": "stdout",
          "output_type": "stream",
          "text": [
            "         col1  col2  col3  col4\n",
            "primero     1     3     5     7\n",
            "segundo     2     4     6     8\n"
          ]
        }
      ],
      "source": [
        "# Cambiar el nombre de las filas de df\n",
        "df.index = ['primero', 'segundo']\n",
        "print(df)"
      ]
    },
    {
      "cell_type": "markdown",
      "id": "8e7a5d3b",
      "metadata": {
        "id": "8e7a5d3b"
      },
      "source": [
        "___"
      ]
    },
    {
      "cell_type": "markdown",
      "id": "1087c522",
      "metadata": {
        "id": "1087c522"
      },
      "source": [
        "## Q 37-01\n",
        "\n",
        "Escriba un comando para buscar datos faltantes en el dataframe `df` creado en la pregunta **Q 34-01** e imprima el resultado.\n",
        "\n",
        "(Sin embargo, los datos que faltan deben devolverse como verdaderos)."
      ]
    },
    {
      "cell_type": "code",
      "execution_count": 22,
      "id": "94f7c781",
      "metadata": {},
      "outputs": [
        {
          "name": "stdout",
          "output_type": "stream",
          "text": [
            "\n",
            "Datos faltantes en el DataFrame\n",
            "          col1   col2   col3   col4\n",
            "primero  False  False  False  False\n",
            "segundo  False  False  False  False\n",
            "\n",
            "DataFrame con un dato faltante:\n",
            "          col1   col2   col3   col4\n",
            "primero  False  False  False  False\n",
            "segundo  False   True  False  False\n"
          ]
        }
      ],
      "source": [
        "# Buscar datos faltantes en df en caso de que falten se develve True\n",
        "print(\"\\nDatos faltantes en el DataFrame\")\n",
        "print(df.isnull())\n",
        "\n",
        "# Simular un dato faltante en df\n",
        "df_copy = df.copy()\n",
        "df_copy.loc['segundo', 'col2'] = None\n",
        "print(\"\\nDataFrame con un dato faltante:\")\n",
        "print(df_copy.isnull())"
      ]
    },
    {
      "cell_type": "markdown",
      "id": "ab5e3562",
      "metadata": {
        "id": "ab5e3562"
      },
      "source": [
        "___"
      ]
    },
    {
      "cell_type": "markdown",
      "id": "e060ee29",
      "metadata": {
        "id": "e060ee29"
      },
      "source": [
        "## Q 38-01\n",
        "\n",
        "Escriba un comando para verificar el resumen de las estadísticas descriptivas (desviación estándar, valor mínimo, moda, etc.) del dataframe `df` creado en la pregunta **Q 34-01** e imprima el resultado."
      ]
    },
    {
      "cell_type": "code",
      "execution_count": 14,
      "id": "2ecfe672",
      "metadata": {
        "id": "2ecfe672"
      },
      "outputs": [
        {
          "name": "stdout",
          "output_type": "stream",
          "text": [
            "\n",
            "Estadística descriptiva del DataFrame usando describe():\n",
            "           col1      col2      col3      col4\n",
            "count  2.000000  2.000000  2.000000  2.000000\n",
            "mean   1.500000  3.500000  5.500000  7.500000\n",
            "std    0.707107  0.707107  0.707107  0.707107\n",
            "min    1.000000  3.000000  5.000000  7.000000\n",
            "25%    1.250000  3.250000  5.250000  7.250000\n",
            "50%    1.500000  3.500000  5.500000  7.500000\n",
            "75%    1.750000  3.750000  5.750000  7.750000\n",
            "max    2.000000  4.000000  6.000000  8.000000\n"
          ]
        }
      ],
      "source": [
        "# Estadistica descriptiva de df\n",
        "print(\"\\nEstadística descriptiva del DataFrame usando describe():\")\n",
        "print(df.describe())\n"
      ]
    },
    {
      "cell_type": "code",
      "execution_count": 17,
      "id": "cb8138db",
      "metadata": {},
      "outputs": [
        {
          "name": "stdout",
          "output_type": "stream",
          "text": [
            "\n",
            "Estadística descriptiva del DataFrame usando metodos individuales:\n",
            "Media:\n",
            "col1    1.5\n",
            "col2    3.5\n",
            "col3    5.5\n",
            "col4    7.5\n",
            "dtype: float64\n",
            "\n",
            "Mediana:\n",
            "col1    1.5\n",
            "col2    3.5\n",
            "col3    5.5\n",
            "col4    7.5\n",
            "dtype: float64\n",
            "\n",
            "Desviación estándar:\n",
            "col1    0.707107\n",
            "col2    0.707107\n",
            "col3    0.707107\n",
            "col4    0.707107\n",
            "dtype: float64\n",
            "\n",
            "Varianza:\n",
            "col1    0.5\n",
            "col2    0.5\n",
            "col3    0.5\n",
            "col4    0.5\n",
            "dtype: float64\n",
            "\n",
            "Mínimo:\n",
            "col1    1\n",
            "col2    3\n",
            "col3    5\n",
            "col4    7\n",
            "dtype: int64\n",
            "\n",
            "Máximo:\n",
            "col1    2\n",
            "col2    4\n",
            "col3    6\n",
            "col4    8\n",
            "dtype: int64\n"
          ]
        }
      ],
      "source": [
        "print(\"\\nEstadística descriptiva del DataFrame usando metodos individuales:\")\n",
        "print(\"Media:\")\n",
        "print(df.mean())\n",
        "\n",
        "print(\"\\nMediana:\")\n",
        "print(df.median())\n",
        "\n",
        "print(\"\\nDesviación estándar:\")\n",
        "print(df.std())\n",
        "\n",
        "print(\"\\nVarianza:\")\n",
        "print(df.var())\n",
        "\n",
        "print(\"\\nMínimo:\")\n",
        "print(df.min())\n",
        "\n",
        "print(\"\\nMáximo:\")\n",
        "print(df.max())"
      ]
    },
    {
      "cell_type": "markdown",
      "id": "84a390f6",
      "metadata": {
        "id": "84a390f6"
      },
      "source": [
        "___"
      ]
    },
    {
      "cell_type": "markdown",
      "id": "23d7b61e",
      "metadata": {
        "id": "23d7b61e"
      },
      "source": [
        "# Fin"
      ]
    }
  ],
  "metadata": {
    "colab": {
      "provenance": []
    },
    "kernelspec": {
      "display_name": "py310",
      "language": "python",
      "name": "python3"
    },
    "language_info": {
      "codemirror_mode": {
        "name": "ipython",
        "version": 3
      },
      "file_extension": ".py",
      "mimetype": "text/x-python",
      "name": "python",
      "nbconvert_exporter": "python",
      "pygments_lexer": "ipython3",
      "version": "3.10.14"
    }
  },
  "nbformat": 4,
  "nbformat_minor": 5
}
