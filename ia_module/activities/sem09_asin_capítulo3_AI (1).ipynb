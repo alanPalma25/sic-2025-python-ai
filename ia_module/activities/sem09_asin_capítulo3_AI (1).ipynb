{
 "cells": [
  {
   "cell_type": "markdown",
   "id": "49909eb6",
   "metadata": {
    "id": "49909eb6"
   },
   "source": [
    "# Actividad Asíncrona IA\n",
    "\n",
    "## Capítulo 3, Capítulo 4 y Capítulo 5\n",
    "\n",
    "### Resolución de problemas"
   ]
  },
  {
   "cell_type": "markdown",
   "id": "2e42031a",
   "metadata": {
    "id": "2e42031a"
   },
   "source": [
    "___"
   ]
  },
  {
   "cell_type": "markdown",
   "id": "780f0fff",
   "metadata": {
    "id": "780f0fff"
   },
   "source": [
    "## Ejercicio 1. Cap 3 - Un array de Numpy\n",
    "#### Seleccione la opción correcta y justifique su respuesta.\n",
    "\n",
    "  a. Crece dinámicamente cuando se genera; permite arreglos de distintos tamaños y tipos.  \n",
    "  \n",
    "  b. Tiene un tamaño fijo cuando se genera, todos los elementos tienen datos de tipo homogéneo y mantienen el mismo tamaño en memoria.\n",
    "\n",
    "  c. Crece dinámicamente cuando se genera y todos los elementos tienen datos de tipo homogéneo.  \n",
    "\n",
    "  d. Tiene un tamaño fijo cuando se genera; permite arreglos de distintos tamaños y tipos.  \n",
    "\n"
   ]
  },
  {
   "cell_type": "markdown",
   "id": "8d0b8eb8",
   "metadata": {
    "id": "8d0b8eb8"
   },
   "source": [
    "\n"
   ]
  },
  {
   "cell_type": "markdown",
   "id": "ca15d3cf",
   "metadata": {
    "id": "ca15d3cf"
   },
   "source": [
    "___"
   ]
  },
  {
   "cell_type": "markdown",
   "id": "89395b47",
   "metadata": {
    "id": "89395b47"
   },
   "source": [
    "## ## Ejercicio 2. Cap 3 - ¿Qué característica se obtiene de la siguiente ejecución: *df.A.corr(df.B)*?\n",
    "#### Seleccione la opción correcta y justifique su respuesta.\n",
    "![image.png](attachment:image.png)\n",
    "\n",
    "a.\tMatriz de correlación tomando las variables numéricas por pares de ‘A’ y ‘B’.\n",
    "\n",
    "b.\tCorrelaciones entre 'A' y las demás variables numéricas.´\n",
    "\n",
    "c.\tCorrelación entre la columna 'A' y la columna 'B'.\n",
    "\n",
    "d.\tEstadísticas descriptivas de las columnas (variables).\n",
    "\n"
   ]
  },
  {
   "cell_type": "markdown",
   "id": "8d05fa5e",
   "metadata": {
    "id": "8d05fa5e"
   },
   "source": []
  },
  {
   "cell_type": "markdown",
   "id": "9c37e736",
   "metadata": {
    "id": "9c37e736"
   },
   "source": [
    "___"
   ]
  },
  {
   "cell_type": "code",
   "execution_count": null,
   "id": "muRrdQNRhkUk",
   "metadata": {
    "id": "muRrdQNRhkUk"
   },
   "outputs": [],
   "source": [
    "import pandas as pd\n",
    "\n",
    "df.A.corr(df.B)"
   ]
  },
  {
   "cell_type": "markdown",
   "id": "0453c475",
   "metadata": {
    "id": "0453c475"
   },
   "source": [
    "___"
   ]
  },
  {
   "cell_type": "markdown",
   "id": "a499e83b",
   "metadata": {},
   "source": [
    "## Ejercicio 1. Cap 4 - Carga de datos sintéticos\n",
    "**Descripción:** Genere un conjunto de datos que simule la **duración (minutos)** de llamadas al soporte técnico.  \n",
    "**Supuesto razonable:** variable positiva, asimétrica (p. ej., distribución *Gamma* o *Lognormal*).\n",
    "\n",
    "**Tareas**\n",
    "1. Genere `n=500` observaciones con parámetros que considere razonables.\n",
    "2. Guarde el resultado en un `DataFrame` con la columna `duracion_min`.\n",
    "3. Muestre `head()` y un resumen con `describe()`.\n",
    "\n",
    "> **Tip:** `stats.lognorm(s=sigma, scale=np.exp(mu)).rvs(n)`"
   ]
  },
  {
   "cell_type": "code",
   "execution_count": null,
   "id": "2721331d",
   "metadata": {},
   "outputs": [],
   "source": [
    "# TODO: complete aquí\n",
    "# 1. Defina el tamaño de la muestra (n)\n",
    "# 2. Asigne los parámetros mu y sigma de la distribución lognormal\n",
    "# 3. Genere los datos aleatorios\n",
    "# 4. Cree un DataFrame llamado df con una columna 'duracion_min'\n",
    "# 5. Muestre las primeras filas y el resumen estadístico"
   ]
  },
  {
   "cell_type": "markdown",
   "id": "7e77fc22",
   "metadata": {},
   "source": [
    "## Ejercicio 2. Cap 4 - Función de densidad teórica vs datos\n",
    "1. Ajuste una distribución **Lognormal** a los datos mediante máxima verosimilitud.\n",
    "2. Sobreponga su **densidad** al histograma normalizado.\n",
    "3. Reporte los parámetros estimados.\n",
    "\n",
    "> **Tip:** `s, loc, scale = stats.lognorm.fit(df['duracion_min'], floc=0)`"
   ]
  },
  {
   "cell_type": "code",
   "execution_count": null,
   "id": "0f269adf",
   "metadata": {},
   "outputs": [],
   "source": [
    "# TODO: complete aquí\n",
    "# 1. Ajuste los parámetros de la distribución lognormal con stats.lognorm.fit\n",
    "# 2. Genere un rango de valores (x) para la curva de densidad\n",
    "# 3. Calcule la función de densidad teórica (pdf)\n",
    "# 4. Grafique el histograma y la curva de densidad ajustada\n",
    "# 5. Incluya etiquetas, título y leyenda"
   ]
  },
  {
   "cell_type": "markdown",
   "id": "b8b29d84",
   "metadata": {},
   "source": [
    "## Ejercicio 1. Cap 5 - Aplicación del Modelo de Aprendizaje Supervisado para Predicción Numérica\n",
    "\n",
    "### Actividad 2: Regresión Lineal\n",
    "2.1 Implementa un modelo de regresión lineal para predecir una variable numérica.\n",
    "\n",
    "2.2 Entrena el modelo con un conjunto de datos y evalúa su rendimiento.\n"
   ]
  },
  {
   "cell_type": "code",
   "execution_count": null,
   "id": "5b6009ee",
   "metadata": {},
   "outputs": [],
   "source": []
  },
  {
   "cell_type": "markdown",
   "id": "7ccafd5f",
   "metadata": {},
   "source": [
    "## Ejercicio 2. Cap 5 - Aplicación del Modelo de Aprendizaje Supervisado para Clasificación\n",
    "\n",
    "### Actividad 3: Clasificación con Regresión Logística\n",
    "3.1 Utiliza el algoritmo de regresión logística para clasificar datos en dos categorías.\n",
    "\n",
    "3.2 Evalúa la precisión y otras métricas del modelo."
   ]
  },
  {
   "cell_type": "markdown",
   "id": "60d998bd",
   "metadata": {
    "id": "60d998bd"
   },
   "source": [
    "___"
   ]
  },
  {
   "cell_type": "markdown",
   "id": "c815e543",
   "metadata": {
    "id": "c815e543"
   },
   "source": [
    "# Fin"
   ]
  }
 ],
 "metadata": {
  "colab": {
   "provenance": []
  },
  "kernelspec": {
   "display_name": "Python 3 (ipykernel)",
   "language": "python",
   "name": "python3"
  },
  "language_info": {
   "codemirror_mode": {
    "name": "ipython",
    "version": 3
   },
   "file_extension": ".py",
   "mimetype": "text/x-python",
   "name": "python",
   "nbconvert_exporter": "python",
   "pygments_lexer": "ipython3",
   "version": "3.10.12"
  }
 },
 "nbformat": 4,
 "nbformat_minor": 5
}
