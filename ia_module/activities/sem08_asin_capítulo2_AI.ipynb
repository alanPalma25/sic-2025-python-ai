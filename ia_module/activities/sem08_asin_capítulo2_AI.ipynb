{
 "cells": [
  {
   "cell_type": "markdown",
   "metadata": {
    "id": "77PXbGMs1kY0"
   },
   "source": [
    "# Evaluación de Álgebra, Secuencia y Conceptos Matemáticos con Python\n",
    "\n",
    "**Name:** Alan Palma Travez\n",
    "\n",
    "## Actividad 1: Manipulación de Datos con Python\n",
    "\n",
    "1.1 Utilizando Python, crea una lista con los primeros 10 números primos. Luego, realiza las siguientes operaciones:\n",
    "   - Calcula la suma de los números primos.\n",
    "   - Encuentra el promedio de los números primos."
   ]
  },
  {
   "cell_type": "code",
   "execution_count": 1,
   "metadata": {
    "id": "4VzfnTl61dFd"
   },
   "outputs": [
    {
     "name": "stdout",
     "output_type": "stream",
     "text": [
      "Los primeros 10 números primos son: [2, 3, 5, 7, 11, 13, 17, 19, 23, 29]\n",
      "La suma de los primeros 10 números primos es: 129\n",
      "El promedio de los primeros 10 números primos es: 12.9\n"
     ]
    }
   ],
   "source": [
    "# Espacio para desarrollar el código necesario.\n",
    "\n",
    "# Crea una función que determine si un número es primo.\n",
    "\n",
    "def is_prime(num):\n",
    "    if num < 2:\n",
    "        return False\n",
    "    for i in range(2, int(num**0.5) + 1):\n",
    "        if num % i == 0:\n",
    "            return False\n",
    "    return True\n",
    "\n",
    "# Crea una lista con los primeros 10 números primos.\n",
    "primes = []\n",
    "num = 2\n",
    "while len(primes) < 10:\n",
    "    if is_prime(num):\n",
    "        primes.append(num)\n",
    "    num += 1\n",
    "\n",
    "# Sumar los números primos\n",
    "sum_of_primes = sum(primes)\n",
    "\n",
    "print(\"Los primeros 10 números primos son:\", primes)\n",
    "print(\"La suma de los primeros 10 números primos es:\", sum_of_primes)\n",
    "\n",
    "# Promedio de los números primos\n",
    "average_of_primes = sum_of_primes / len(primes)\n",
    "print(\"El promedio de los primeros 10 números primos es:\", average_of_primes)\n"
   ]
  },
  {
   "cell_type": "markdown",
   "metadata": {
    "id": "16aTSDpR1upT"
   },
   "source": [
    "## Actividad 2: Álgebra y Ecuaciones con Python\n",
    "\n",
    "2.1 Crea una función en Python que resuelva ecuaciones lineales de la forma \\( ax + b = c \\). La función debe recibir los coeficientes \\( a, b, c \\) como parámetros y devolver el valor de \\( x \\).\n",
    "\n",
    "2.2 Utiliza la función creada para resolver la ecuación \\( 3x + 7 = 16 \\)."
   ]
  },
  {
   "cell_type": "code",
   "execution_count": 2,
   "metadata": {
    "id": "FOirBbxz1zMf"
   },
   "outputs": [
    {
     "name": "stdout",
     "output_type": "stream",
     "text": [
      "La solución de la ecuación es x = 3.0\n"
     ]
    }
   ],
   "source": [
    "# Espacio para desarrollar el código necesario.\n",
    "\n",
    "\n",
    "def solve_lineal_equation(a, b, c):\n",
    "    \"\"\"\n",
    "    Resuelve una ecuación lineal de la forma ax + b = c.\n",
    "    \"\"\"\n",
    "    if a == 0:\n",
    "        raise ValueError(\"El coeficiente 'a' no puede ser cero.\")\n",
    "    \n",
    "    x = (c - b) / a\n",
    "\n",
    "    return x\n",
    "\n",
    "# Resolver ecuación lineal 3x + 7 = 16\n",
    "\n",
    "a = 3\n",
    "b = 7\n",
    "c = 16\n",
    "\n",
    "x = solve_lineal_equation(a, b, c)\n",
    "print(\"La solución de la ecuación es x =\", x)"
   ]
  },
  {
   "cell_type": "markdown",
   "metadata": {
    "id": "kULG9f8u1-c7"
   },
   "source": [
    "## Actividad 3: Manipulación de Conjuntos con Python\n",
    "\n",
    "3.1 Define dos conjuntos en Python que representen conjuntos numéricos, por ejemplo, \\( A = \\{1, 2, 3, 4, 5\\} \\) y \\( B = \\{3, 4, 5, 6, 7\\} \\).\n",
    "\n",
    "3.2 Implementa funciones en Python para realizar las operaciones de unión e intersección entre los conjuntos \\( A \\) y \\( B \\).\n",
    "\n",
    "3.3 Determina si \\( A \\) es un subconjunto de \\( B \\) y muestra el resultado.\n",
    "\n",
    "---\n",
    "\n",
    "**Nota:** Recuerda de incluir comentarios en tu código y proporciona explicaciones claras para cada operación realizada.\n"
   ]
  },
  {
   "cell_type": "code",
   "execution_count": 4,
   "metadata": {
    "id": "pvuMEyTw2COE"
   },
   "outputs": [
    {
     "name": "stdout",
     "output_type": "stream",
     "text": [
      "Unión de A y B: {1, 2, 3, 4, 5, 6, 7, 8}\n",
      "Intersección de A y B: {4, 5}\n",
      "¿A es subconjunto de B?: False\n"
     ]
    }
   ],
   "source": [
    "# Espacio para desarrollar el código necesario.\n",
    "\n",
    "def union_sets(set1, set2):\n",
    "    \"\"\"\n",
    "    Devuelve la unión de dos conjuntos.\n",
    "    \"\"\"\n",
    "    return set1.union(set2)\n",
    "\n",
    "def intersection_sets(set1, set2):\n",
    "    \"\"\"\n",
    "    Devuelve la intersección de dos conjuntos.\n",
    "    \"\"\"\n",
    "    return set1.intersection(set2)\n",
    "\n",
    "def is_subset(set1, set2):\n",
    "    \"\"\"\n",
    "    Determina si set1 es un subconjunto de set2.\n",
    "    \"\"\"\n",
    "    return set1.issubset(set2)\n",
    "\n",
    "# Set A\n",
    "A = {1, 2, 3, 4, 5}\n",
    "# Set B\n",
    "B = {4, 5, 6, 7, 8}\n",
    "\n",
    "# Unión de A y B\n",
    "union_AB = union_sets(A, B)\n",
    "print(\"Unión de A y B:\", union_AB)\n",
    "# Intersección de A y B\n",
    "intersection_AB = intersection_sets(A, B)\n",
    "print(\"Intersección de A y B:\", intersection_AB)\n",
    "# Verificar si A es subconjunto de B\n",
    "is_A_subset_B = is_subset(A, B)\n",
    "print(\"¿A es subconjunto de B?:\", is_A_subset_B)"
   ]
  },
  {
   "cell_type": "markdown",
   "metadata": {
    "id": "4TfphJK9yR7L"
   },
   "source": [
    "# Evaluación de Funciones Matemáticas con Python\n",
    "\n",
    "## Actividad 4: Funciones Exponencial y Logarítmica\n",
    "\n",
    "4.1 Implementa una función en Python que calcule la potencia de un número. La función debe recibir la base y el exponente como parámetros.\n",
    "\n",
    "4.2 Utiliza la función creada para calcular \\(2^5\\) y muestra el resultado.\n",
    "\n",
    "4.3 Crea otra función que calcule el logaritmo natural de un número.\n",
    "\n",
    "4.4 Utiliza esta función para encontrar \\(\\ln(e^3)\\) y muestra el resultado.\n",
    "\n",
    "\n"
   ]
  },
  {
   "cell_type": "code",
   "execution_count": 5,
   "metadata": {
    "id": "Q11bRS87yRDA"
   },
   "outputs": [
    {
     "name": "stdout",
     "output_type": "stream",
     "text": [
      "2 elevado a la 5 es 32\n",
      "El logaritmo natural de 20.085536923187664 es 3.0\n"
     ]
    }
   ],
   "source": [
    "# Espacio para desarrollar el código necesario.\n",
    "\n",
    "import math\n",
    "\n",
    "def compute_power(base, exponente):\n",
    "    \"\"\"\n",
    "    Calcula la potencia de un número dado una base y un exponente.\n",
    "    \"\"\"\n",
    "    return base ** exponente\n",
    "\n",
    "base = 2\n",
    "exponente = 5\n",
    "resultado = compute_power(base, exponente)\n",
    "print(f\"{base} elevado a la {exponente} es {resultado}\")\n",
    "\n",
    "def compute_ln(número):\n",
    "    \"\"\"\n",
    "    Calcula el logaritmo natural de un número.\n",
    "    \"\"\"\n",
    "    if número <= 0:\n",
    "        raise ValueError(\"El número debe ser mayor que cero.\")\n",
    "    return math.log(número)\n",
    "\n",
    "número = math.e**3\n",
    "\n",
    "ln_result = compute_ln(número)\n",
    "print(f\"El logaritmo natural de {número} es {ln_result}\")"
   ]
  },
  {
   "cell_type": "markdown",
   "metadata": {
    "id": "T5TdX22qybdj"
   },
   "source": [
    "## Actividad 5: Funciones Trigonométricas y Sigmoideas\n",
    "\n",
    "5.1 Define una función en Python que calcule el seno de un ángulo dado en grados.\n",
    "\n",
    "5.2 Utiliza la función para encontrar \\(\\sin(30^\\circ)\\) y muestra el resultado.\n",
    "\n",
    "5.3 Implementa una función sigmoidea en Python. La función debe recibir un número como parámetro y devolver el resultado de la función sigmoidea.\n",
    "\n",
    "5.4 Utiliza la función sigmoidea para calcular \\( \\sigma(2) \\) y muestra el resultado.\n",
    "\n",
    "---\n",
    "\n",
    "**Nota:** Recuerda de incluir comentarios en tu código y proporciona explicaciones claras para cada operación realizada.\n",
    "\n",
    "\n",
    "\n"
   ]
  },
  {
   "cell_type": "code",
   "execution_count": 9,
   "metadata": {
    "id": "PBefa0-dypS8"
   },
   "outputs": [
    {
     "name": "stdout",
     "output_type": "stream",
     "text": [
      "El seno de 30 ° es 0.5000\n",
      "La función sigmoide de 2 es 0.8808\n"
     ]
    }
   ],
   "source": [
    "# Espacio para desarrollar el código necesario.\n",
    "\n",
    "\n",
    "def compute_sin(angle):\n",
    "    \"\"\"\n",
    "    Calcula el seno de un ángulo dado en grados.\n",
    "    \"\"\"\n",
    "    # Convertir grados a radianes\n",
    "    angle = math.radians(angle)\n",
    "\n",
    "    return math.sin(angle)\n",
    "\n",
    "angle = 30\n",
    "sin_result = compute_sin(angle)\n",
    "print(f\"El seno de {angle} ° es {sin_result:.4f}\")\n",
    "\n",
    "def sigmoide(x):\n",
    "    \"\"\"\n",
    "    Calcula la función sigmoide de un valor x.\n",
    "    \"\"\"\n",
    "    return 1 / (1 + math.exp(-x))\n",
    "\n",
    "x = 2\n",
    "sigmoide_result = sigmoide(x)\n",
    "print(f\"La función sigmoide de {x} es {sigmoide_result:.4f}\")"
   ]
  }
 ],
 "metadata": {
  "colab": {
   "authorship_tag": "ABX9TyNBlgYu8w7W7ZRDlBELyMaC",
   "provenance": []
  },
  "kernelspec": {
   "display_name": "Python 3",
   "name": "python3"
  },
  "language_info": {
   "codemirror_mode": {
    "name": "ipython",
    "version": 3
   },
   "file_extension": ".py",
   "mimetype": "text/x-python",
   "name": "python",
   "nbconvert_exporter": "python",
   "pygments_lexer": "ipython3",
   "version": "3.10.12"
  }
 },
 "nbformat": 4,
 "nbformat_minor": 0
}
