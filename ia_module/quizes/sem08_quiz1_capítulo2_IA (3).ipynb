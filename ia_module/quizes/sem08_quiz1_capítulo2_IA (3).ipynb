{
 "cells": [
  {
   "cell_type": "markdown",
   "id": "f34adb44",
   "metadata": {
    "id": "f34adb44"
   },
   "source": [
    "# Inteligencia Artificial\n",
    "\n",
    "## Capítulo 2\n",
    "\n",
    "### Matemática Básica para Ciencias de Datos\n",
    "\n",
    "- **Unidad 1.** Introducción\n",
    "- **Unidad 2.** Matemática Básica para Ciencias de Datos\n",
    "- **Unidad 3.** Entendiendo las Ciencias de Datos: Vector\n",
    "- **Unidad 4.** Entendiendo las Ciencias de Datos: Matriz\n",
    "- **Unidad 5.** Entendiendo las Ciencias de Datos: Derivativas\n",
    "\n",
    "# Quiz"
   ]
  },
  {
   "cell_type": "markdown",
   "id": "2e42031a",
   "metadata": {
    "id": "2e42031a"
   },
   "source": [
    "___"
   ]
  },
  {
   "cell_type": "markdown",
   "id": "ac1e9b02",
   "metadata": {
    "id": "ac1e9b02"
   },
   "source": [
    "## Q 02-01\n",
    "\n",
    "### Cree ejemplos de vector cero, vector unitario, matriz cuadrada, matriz diagonal, matriz identidad y matriz simétrica uno por uno, y represente vectores y matrices con NumPy."
   ]
  },
  {
   "cell_type": "code",
   "execution_count": 2,
   "id": "903e6874",
   "metadata": {
    "id": "903e6874"
   },
   "outputs": [
    {
     "name": "stdout",
     "output_type": "stream",
     "text": [
      "Vector Cero:\n",
      " [0. 0. 0. 0. 0.]\n",
      "Vector Unitario:\n",
      " [1. 1. 1. 1. 1.]\n",
      "Matriz Cuadrada:\n",
      " [[0.3077127  0.59088495 0.3643891 ]\n",
      " [0.73024803 0.06955856 0.59564067]\n",
      " [0.24680547 0.86491516 0.65572123]]\n",
      "Matriz Diagonal:\n",
      " [[1 0 0]\n",
      " [0 2 0]\n",
      " [0 0 3]]\n",
      "Matriz Identidad:\n",
      " [[1. 0. 0.]\n",
      " [0. 1. 0.]\n",
      " [0. 0. 1.]]\n",
      "Matriz Simétrica:\n",
      " [[1 2 3]\n",
      " [2 4 5]\n",
      " [3 5 6]]\n"
     ]
    }
   ],
   "source": [
    "import numpy as np\n",
    "\n",
    "# Vector cero\n",
    "vector_cero = np.zeros(5)\n",
    "print(\"Vector Cero:\\n\", vector_cero)\n",
    "\n",
    "# Vector unitario\n",
    "vector_unitario = np.ones(5)\n",
    "print(\"Vector Unitario:\\n\", vector_unitario)\n",
    "\n",
    "# Matriz cuadrada\n",
    "matriz_cuadrada = np.random.rand(3, 3)\n",
    "print(\"Matriz Cuadrada:\\n\", matriz_cuadrada)\n",
    "\n",
    "# Matriz diagonal\n",
    "matriz_diagonal = np.diag([1, 2, 3])\n",
    "print(\"Matriz Diagonal:\\n\", matriz_diagonal)\n",
    "\n",
    "# Matriz identidad\n",
    "matriz_identidad = np.eye(3)\n",
    "print(\"Matriz Identidad:\\n\", matriz_identidad)\n",
    "\n",
    "# Matriz simétrica\n",
    "matriz_simetrica = np.array([[1, 2, 3], [2, 4, 5], [3, 5, 6]])\n",
    "print(\"Matriz Simétrica:\\n\", matriz_simetrica)"
   ]
  },
  {
   "cell_type": "markdown",
   "id": "26e1df49",
   "metadata": {
    "id": "26e1df49"
   },
   "source": [
    "___"
   ]
  },
  {
   "cell_type": "markdown",
   "id": "87a3a925",
   "metadata": {
    "id": "87a3a925"
   },
   "source": [
    "## Q 02-02\n",
    "\n",
    "### Las acciones de tres empresas A, B y C son 1 millón de wones, 800.000 wones y 500.000 wones, respectivamente. Queremos encontrar la cantidad necesaria para comprar 3, 4 y 5 acciones de estas acciones, respectivamente.\n",
    "\n",
    "1) Exprese el precio y la cantidad de las acciones como vector p y vector n, respectivamente y codificados con NumPy."
   ]
  },
  {
   "cell_type": "code",
   "execution_count": 3,
   "id": "54d5f3f5",
   "metadata": {
    "id": "54d5f3f5"
   },
   "outputs": [
    {
     "name": "stdout",
     "output_type": "stream",
     "text": [
      "Precio de acciones:\n",
      " [1000000.  800000.  500000.]\n",
      "Cantidad de acciones:\n",
      " [3 4 5]\n"
     ]
    }
   ],
   "source": [
    "# Precio de acciones\n",
    "p = np.array([1e6, 8e5, 5e5])\n",
    "print(\"Precio de acciones:\\n\", p)\n",
    "\n",
    "# Cantidad de acciones\n",
    "q = np.array([3, 4, 5])\n",
    "print(\"Cantidad de acciones:\\n\", q)"
   ]
  },
  {
   "cell_type": "markdown",
   "id": "884fdced",
   "metadata": {
    "id": "884fdced"
   },
   "source": [
    "2) La cantidad necesaria para comprar acciones se expresa mediante multiplicación y el valor se calcula mediante la operación Numpy."
   ]
  },
  {
   "cell_type": "code",
   "execution_count": 6,
   "id": "62678495",
   "metadata": {
    "id": "62678495"
   },
   "outputs": [
    {
     "name": "stdout",
     "output_type": "stream",
     "text": [
      "Cantidad necesaria para comprar acciones:\n",
      "Empresa A: $3000000.0\n",
      "Empresa B: $3200000.0\n",
      "Empresa C: $2500000.0\n"
     ]
    }
   ],
   "source": [
    "# Cantidades necesarias para comprar acciones\n",
    "cantidad_necesaria = p * q\n",
    "print(\"Cantidad necesaria para comprar acciones:\")\n",
    "print(f\"Empresa A: ${cantidad_necesaria[0]}\")\n",
    "print(f\"Empresa B: ${cantidad_necesaria[1]}\")\n",
    "print(f\"Empresa C: ${cantidad_necesaria[2]}\")"
   ]
  },
  {
   "cell_type": "markdown",
   "id": "203a055b",
   "metadata": {
    "id": "203a055b"
   },
   "source": [
    "___"
   ]
  },
  {
   "cell_type": "markdown",
   "id": "8c115f28",
   "metadata": {
    "id": "8c115f28"
   },
   "source": [
    "## Q 02-03\n",
    "\n",
    "### Cuando se ejecuta el siguiente código, todos los datos de la imagen numérica MNIST se convierten en vectores para crear una única matriz NumPy X. Utilice esta matriz para resolver el siguiente problema.\n",
    "```\n",
    "from sklearn.datasets import load_digits\n",
    "X=load_digits().data\n",
    "```\n",
    "\n",
    "1) Encuentre la similitud entre la primera imagen y la décima imagen usando el producto escalar."
   ]
  },
  {
   "cell_type": "markdown",
   "id": "4b4d6320",
   "metadata": {
    "id": "4b4d6320"
   },
   "source": []
  },
  {
   "cell_type": "markdown",
   "id": "86a05c4b",
   "metadata": {
    "id": "86a05c4b"
   },
   "source": [
    "2) Encuentre la similitud para una combinación de todas las imágenes usando el producto escalar, ¿cómo sería eficiente implementarlo (pista: usando matrices y multiplicación de matrices)?\n"
   ]
  },
  {
   "cell_type": "markdown",
   "id": "4b66252e",
   "metadata": {
    "id": "4b66252e"
   },
   "source": []
  },
  {
   "cell_type": "markdown",
   "id": "7410bc11",
   "metadata": {
    "id": "7410bc11"
   },
   "source": [
    "___"
   ]
  },
  {
   "cell_type": "markdown",
   "id": "410f8980",
   "metadata": {
    "id": "410f8980"
   },
   "source": [
    "## Q 02-04\n",
    "\n",
    "### Calculate the following inverse matrix.\n"
   ]
  },
  {
   "cell_type": "markdown",
   "id": "fb13fe63",
   "metadata": {
    "id": "fb13fe63"
   },
   "source": [
    "![matrix.png](attachment:matrix.png)"
   ]
  },
  {
   "cell_type": "markdown",
   "id": "c625864b",
   "metadata": {
    "id": "c625864b"
   },
   "source": []
  },
  {
   "cell_type": "markdown",
   "id": "ba019f33",
   "metadata": {
    "id": "ba019f33"
   },
   "source": [
    "___"
   ]
  },
  {
   "cell_type": "markdown",
   "id": "d4b76da3",
   "metadata": {
    "id": "d4b76da3"
   },
   "source": [
    "## Q 02-05\n",
    "\n",
    "### El problema del precio de la vivienda en Boston es un problema de predicción del precio de la vivienda en cada ciudad de Boston (EE.UU.) utilizando características como el índice de delincuencia y la contaminación atmosférica de la zona. Puede importarse del paquete scikit-learn. Encuentre el vector de pesos x cuando el problema del precio de la vivienda en Boston se resuelva con el modelo de predicción lineal Ax=b. Los datos matriciales y vectoriales pueden obtenerse como sigue. Aquí, para simplificar el problema, limitamos los datos de entrada a la tasa de criminalidad (CRIM), la calidad del aire (NOX), el número de habitaciones (RM) y la edad (AGE), y sólo se utilizaron cuatro datos.\n",
    "\n",
    "Ejecute el código siguiente para comprobar si la magnitud o el signo del vector de pesos obtenido al ejecutar el programa se ajusta a la noción común. Para ello, interprete la salida impresa para todos los factores: CRIM, NOX, RM y EDAD.\n",
    "\n",
    "(※ Escriba la salida interpretada como \"el precio de la vivienda está en proporción inversa a la tasa de criminalidad (CRIM)\").\n",
    "```\n",
    "import pandas as pd\n",
    "import numpy as np\n",
    "\n",
    "data_url = \"http://lib.stat.cmu.edu/datasets/boston\"\n",
    "boston = pd.read_csv(data_url, sep=\"\\s+\", skiprows=22, header=None)\n",
    "X = np.hstack([boston.values[::2, :], boston.values[1::2, :2]])\n",
    "y = boston.values[1::2, 2]\n",
    "A=X[:4, [0,4,5,6]] # ‘CRIM’,’NOX’,’RM’,’AGE’\n",
    "b=y[:4]\n",
    "```"
   ]
  },
  {
   "cell_type": "markdown",
   "id": "20998ef3",
   "metadata": {
    "id": "20998ef3"
   },
   "source": []
  },
  {
   "cell_type": "markdown",
   "id": "aa90491d",
   "metadata": {
    "id": "aa90491d"
   },
   "source": [
    "___"
   ]
  },
  {
   "cell_type": "markdown",
   "id": "ed04e881",
   "metadata": {
    "id": "ed04e881"
   },
   "source": [
    "## Fin"
   ]
  }
 ],
 "metadata": {
  "colab": {
   "provenance": []
  },
  "kernelspec": {
   "display_name": "Python 3",
   "language": "python",
   "name": "python3"
  },
  "language_info": {
   "codemirror_mode": {
    "name": "ipython",
    "version": 3
   },
   "file_extension": ".py",
   "mimetype": "text/x-python",
   "name": "python",
   "nbconvert_exporter": "python",
   "pygments_lexer": "ipython3",
   "version": "3.10.12"
  }
 },
 "nbformat": 4,
 "nbformat_minor": 5
}
