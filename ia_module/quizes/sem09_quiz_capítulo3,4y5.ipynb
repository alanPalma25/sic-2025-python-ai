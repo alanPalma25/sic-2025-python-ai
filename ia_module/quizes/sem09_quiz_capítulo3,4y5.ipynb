{
 "cells": [
  {
   "cell_type": "markdown",
   "id": "f34adb44",
   "metadata": {
    "id": "f34adb44"
   },
   "source": [
    "# Inteligencia Artificial\n",
    "\n",
    "**Nombre:** Alan Palma\n",
    "\n",
    "## Capítulo 3\n",
    "\n",
    "### NumPy Arrays: Computación Numérica Optimizada y Pandas: Análisis Exploratorio de Datos\n",
    "\n",
    "- **Unidad 1.** Estructura de datos de matriz de NumPy para un rendimiento computacional óptimo\n",
    "- **Unidad 2.** Exploración óptima de datos a través de pandas\n",
    "- **Unidad 3.** Pre-procesamiento de datos de pandas para una ejecución óptima del modelo\n",
    "- **Unidad 4.** Visualización de datos para varias escalas de datos\n",
    "\n",
    "## Capítulo 4\n",
    "\n",
    "### Probabilidad y estadística\n",
    "\n",
    "- **Unidad 1.** Comprensión de la probabilidad\n",
    "- **Unidad 2.** Comprensión de la Estadística I\n",
    "- **Unidad 3.** Comprensión de la Estadística II\n",
    "- **Unidad 4.** Prueba de hipótesis estadística\n",
    "\n",
    "## Capítulo 5\n",
    "\n",
    "### Machine Learning / Aprendizaje Supervisado\n",
    "\n",
    "- **Unidad 1.** Análisis de datos basado en el aprendizaje automático\n",
    "- **Unidad 2.** Aplicación del modelo de aprendizaje supervisado para la predicción numérica\n",
    "- **Unidad 3.** Aplicación del modelo de aprendizaje supervisado para la clasificación\n",
    "- **Unidad 4.** Árbol de decisión\n",
    "- **Unidad 5.** Algoritmo Naïve Bayes (Algoritmo de predicción)\n",
    "- **Unidad 6.** Algoritmo KNN\n",
    "- **Unidad 7.** Algoritmo SVM\n",
    "- **Unidad 8.** Algoritmos Ensemble\n",
    "\n",
    "# Quiz"
   ]
  },
  {
   "cell_type": "markdown",
   "id": "2e42031a",
   "metadata": {
    "id": "2e42031a"
   },
   "source": [
    "___"
   ]
  },
  {
   "cell_type": "markdown",
   "id": "ac1e9b02",
   "metadata": {
    "id": "ac1e9b02"
   },
   "source": [
    "## Q 03-01\n",
    "\n",
    "### ¿Cuál es una sintaxis correcta para crear una matriz NumPy?\n",
    "\n",
    "1. np.createArray([1, 2, 3, 4, 5])\n",
    "2. np.array([1, 2, 3, 4, 5])\n",
    "3. np.object([1, 2, 3, 4, 5])"
   ]
  },
  {
   "cell_type": "markdown",
   "id": "903e6874",
   "metadata": {
    "id": "903e6874"
   },
   "source": [
    "**Respuesta:**"
   ]
  },
  {
   "cell_type": "markdown",
   "id": "mQPwnr-d4nn4",
   "metadata": {
    "id": "mQPwnr-d4nn4"
   },
   "source": [
    "La respuesta correcta es **2:** ```np.array([1, 2, 3, 4, 5])```"
   ]
  },
  {
   "cell_type": "markdown",
   "id": "62678495",
   "metadata": {
    "id": "62678495"
   },
   "source": [
    "**Respuesta:**"
   ]
  },
  {
   "cell_type": "markdown",
   "id": "410f8980",
   "metadata": {
    "id": "410f8980"
   },
   "source": [
    "## Q 03-02\n",
    "\n",
    "### Responde las siguientes preguntas.\n",
    "\n",
    "```\n",
    "import pandas as pd\n",
    "import numpy as np\n",
    "import os\n",
    "import matplotlib.pyplot as plt\n",
    "%matplotlib inline\n",
    "\n",
    "# Lea los datos.\n",
    "# Vaya al directorio donde se encuentra el archivo de los datos.\n",
    "os.chdir(r'~~') # Reemplace con la dirección del archivo\n",
    "df = pd.read_csv('data_sales.csv', header='infer')\n",
    "df.shape\n",
    "df.head(5)\n",
    "```\n",
    "\n",
    "1. Agregue una nueva variable 𝐴𝑚𝑜𝑢𝑛𝑡=𝑈𝑛𝑖𝑡𝑃𝑟𝑖𝑐×𝑈𝑛𝑖𝑡𝑠Amount=UnitPric×Units.\n",
    "2. Precio unitario medio de cada región. Utilice el método groupby().\n",
    "3. Precio unitario medio de cada región. Usa el método pivot_table()."
   ]
  },
  {
   "cell_type": "markdown",
   "id": "b239c413",
   "metadata": {
    "id": "b239c413"
   },
   "source": [
    "**Respuesta:**"
   ]
  },
  {
   "cell_type": "code",
   "execution_count": 1,
   "id": "QjlPDxBc7XOE",
   "metadata": {
    "id": "QjlPDxBc7XOE"
   },
   "outputs": [
    {
     "data": {
      "text/html": [
       "<div>\n",
       "<style scoped>\n",
       "    .dataframe tbody tr th:only-of-type {\n",
       "        vertical-align: middle;\n",
       "    }\n",
       "\n",
       "    .dataframe tbody tr th {\n",
       "        vertical-align: top;\n",
       "    }\n",
       "\n",
       "    .dataframe thead th {\n",
       "        text-align: right;\n",
       "    }\n",
       "</style>\n",
       "<table border=\"1\" class=\"dataframe\">\n",
       "  <thead>\n",
       "    <tr style=\"text-align: right;\">\n",
       "      <th></th>\n",
       "      <th>Date</th>\n",
       "      <th>Region</th>\n",
       "      <th>Item</th>\n",
       "      <th>Unit Price</th>\n",
       "      <th>Units</th>\n",
       "    </tr>\n",
       "  </thead>\n",
       "  <tbody>\n",
       "    <tr>\n",
       "      <th>0</th>\n",
       "      <td>04-Jul-14</td>\n",
       "      <td>East</td>\n",
       "      <td>Pen Set</td>\n",
       "      <td>4.99</td>\n",
       "      <td>62</td>\n",
       "    </tr>\n",
       "    <tr>\n",
       "      <th>1</th>\n",
       "      <td>12-Jul-14</td>\n",
       "      <td>East</td>\n",
       "      <td>Binder</td>\n",
       "      <td>1.99</td>\n",
       "      <td>29</td>\n",
       "    </tr>\n",
       "    <tr>\n",
       "      <th>2</th>\n",
       "      <td>21-Jul-14</td>\n",
       "      <td>Central</td>\n",
       "      <td>Pen Set</td>\n",
       "      <td>12.49</td>\n",
       "      <td>55</td>\n",
       "    </tr>\n",
       "    <tr>\n",
       "      <th>3</th>\n",
       "      <td>29-Jul-14</td>\n",
       "      <td>East</td>\n",
       "      <td>Binder</td>\n",
       "      <td>19.99</td>\n",
       "      <td>81</td>\n",
       "    </tr>\n",
       "    <tr>\n",
       "      <th>4</th>\n",
       "      <td>07-Aug-14</td>\n",
       "      <td>Central</td>\n",
       "      <td>Pen Set</td>\n",
       "      <td>23.95</td>\n",
       "      <td>42</td>\n",
       "    </tr>\n",
       "  </tbody>\n",
       "</table>\n",
       "</div>"
      ],
      "text/plain": [
       "        Date   Region     Item  Unit Price  Units\n",
       "0  04-Jul-14     East  Pen Set        4.99     62\n",
       "1  12-Jul-14     East   Binder        1.99     29\n",
       "2  21-Jul-14  Central  Pen Set       12.49     55\n",
       "3  29-Jul-14     East   Binder       19.99     81\n",
       "4  07-Aug-14  Central  Pen Set       23.95     42"
      ]
     },
     "execution_count": 1,
     "metadata": {},
     "output_type": "execute_result"
    }
   ],
   "source": [
    "import pandas as pd\n",
    "import numpy as np\n",
    "import os\n",
    "import matplotlib.pyplot as plt\n",
    "%matplotlib inline\n",
    "\n",
    "# Lea los datos.\n",
    "# Vaya al directorio donde se encuentra el archivo de los datos.\n",
    "# os.chdir(r'~~') # Reemplace con la dirección del archivo\n",
    "df = pd.read_csv('data_sales.csv', header='infer')\n",
    "df.shape\n",
    "df.head(5)"
   ]
  },
  {
   "cell_type": "code",
   "execution_count": 3,
   "id": "127d7f4a",
   "metadata": {},
   "outputs": [
    {
     "data": {
      "text/html": [
       "<div>\n",
       "<style scoped>\n",
       "    .dataframe tbody tr th:only-of-type {\n",
       "        vertical-align: middle;\n",
       "    }\n",
       "\n",
       "    .dataframe tbody tr th {\n",
       "        vertical-align: top;\n",
       "    }\n",
       "\n",
       "    .dataframe thead th {\n",
       "        text-align: right;\n",
       "    }\n",
       "</style>\n",
       "<table border=\"1\" class=\"dataframe\">\n",
       "  <thead>\n",
       "    <tr style=\"text-align: right;\">\n",
       "      <th></th>\n",
       "      <th>Date</th>\n",
       "      <th>Region</th>\n",
       "      <th>Item</th>\n",
       "      <th>Unit Price</th>\n",
       "      <th>Units</th>\n",
       "      <th>Amount</th>\n",
       "    </tr>\n",
       "  </thead>\n",
       "  <tbody>\n",
       "    <tr>\n",
       "      <th>0</th>\n",
       "      <td>04-Jul-14</td>\n",
       "      <td>East</td>\n",
       "      <td>Pen Set</td>\n",
       "      <td>4.99</td>\n",
       "      <td>62</td>\n",
       "      <td>309.38</td>\n",
       "    </tr>\n",
       "    <tr>\n",
       "      <th>1</th>\n",
       "      <td>12-Jul-14</td>\n",
       "      <td>East</td>\n",
       "      <td>Binder</td>\n",
       "      <td>1.99</td>\n",
       "      <td>29</td>\n",
       "      <td>57.71</td>\n",
       "    </tr>\n",
       "    <tr>\n",
       "      <th>2</th>\n",
       "      <td>21-Jul-14</td>\n",
       "      <td>Central</td>\n",
       "      <td>Pen Set</td>\n",
       "      <td>12.49</td>\n",
       "      <td>55</td>\n",
       "      <td>686.95</td>\n",
       "    </tr>\n",
       "    <tr>\n",
       "      <th>3</th>\n",
       "      <td>29-Jul-14</td>\n",
       "      <td>East</td>\n",
       "      <td>Binder</td>\n",
       "      <td>19.99</td>\n",
       "      <td>81</td>\n",
       "      <td>1619.19</td>\n",
       "    </tr>\n",
       "    <tr>\n",
       "      <th>4</th>\n",
       "      <td>07-Aug-14</td>\n",
       "      <td>Central</td>\n",
       "      <td>Pen Set</td>\n",
       "      <td>23.95</td>\n",
       "      <td>42</td>\n",
       "      <td>1005.90</td>\n",
       "    </tr>\n",
       "  </tbody>\n",
       "</table>\n",
       "</div>"
      ],
      "text/plain": [
       "        Date   Region     Item  Unit Price  Units   Amount\n",
       "0  04-Jul-14     East  Pen Set        4.99     62   309.38\n",
       "1  12-Jul-14     East   Binder        1.99     29    57.71\n",
       "2  21-Jul-14  Central  Pen Set       12.49     55   686.95\n",
       "3  29-Jul-14     East   Binder       19.99     81  1619.19\n",
       "4  07-Aug-14  Central  Pen Set       23.95     42  1005.90"
      ]
     },
     "execution_count": 3,
     "metadata": {},
     "output_type": "execute_result"
    }
   ],
   "source": [
    "# 1. Agregar una nueva variable (Amount)\n",
    "df['Amount'] = df['Unit Price'] * df['Units']\n",
    "\n",
    "df.head(5)"
   ]
  },
  {
   "cell_type": "code",
   "execution_count": 4,
   "id": "b148acad",
   "metadata": {},
   "outputs": [
    {
     "data": {
      "text/plain": [
       "Region\n",
       "Central    18.018750\n",
       "East        9.143846\n",
       "West       53.658333\n",
       "Name: Unit Price, dtype: float64"
      ]
     },
     "execution_count": 4,
     "metadata": {},
     "output_type": "execute_result"
    }
   ],
   "source": [
    "# 2. Precio promedio por región\n",
    "avg_price_region = df.groupby('Region')['Unit Price'].mean()\n",
    "avg_price_region "
   ]
  },
  {
   "cell_type": "code",
   "execution_count": 5,
   "id": "7d6cfcfb",
   "metadata": {},
   "outputs": [
    {
     "name": "stderr",
     "output_type": "stream",
     "text": [
      "/tmp/ipykernel_21867/978444498.py:2: FutureWarning: The provided callable <function mean at 0x7a2d540d0790> is currently using DataFrameGroupBy.mean. In a future version of pandas, the provided callable will be used directly. To keep current behavior pass the string \"mean\" instead.\n",
      "  pivot_avg_price_region = pd.pivot_table(df, values='Unit Price', index='Region', aggfunc=np.mean)\n"
     ]
    },
    {
     "data": {
      "text/html": [
       "<div>\n",
       "<style scoped>\n",
       "    .dataframe tbody tr th:only-of-type {\n",
       "        vertical-align: middle;\n",
       "    }\n",
       "\n",
       "    .dataframe tbody tr th {\n",
       "        vertical-align: top;\n",
       "    }\n",
       "\n",
       "    .dataframe thead th {\n",
       "        text-align: right;\n",
       "    }\n",
       "</style>\n",
       "<table border=\"1\" class=\"dataframe\">\n",
       "  <thead>\n",
       "    <tr style=\"text-align: right;\">\n",
       "      <th></th>\n",
       "      <th>Unit Price</th>\n",
       "    </tr>\n",
       "    <tr>\n",
       "      <th>Region</th>\n",
       "      <th></th>\n",
       "    </tr>\n",
       "  </thead>\n",
       "  <tbody>\n",
       "    <tr>\n",
       "      <th>Central</th>\n",
       "      <td>18.018750</td>\n",
       "    </tr>\n",
       "    <tr>\n",
       "      <th>East</th>\n",
       "      <td>9.143846</td>\n",
       "    </tr>\n",
       "    <tr>\n",
       "      <th>West</th>\n",
       "      <td>53.658333</td>\n",
       "    </tr>\n",
       "  </tbody>\n",
       "</table>\n",
       "</div>"
      ],
      "text/plain": [
       "         Unit Price\n",
       "Region             \n",
       "Central   18.018750\n",
       "East       9.143846\n",
       "West      53.658333"
      ]
     },
     "execution_count": 5,
     "metadata": {},
     "output_type": "execute_result"
    }
   ],
   "source": [
    "# 3. Precio promedio por región (pivot_table())\n",
    "pivot_avg_price_region = pd.pivot_table(df, values='Unit Price', index='Region', aggfunc=np.mean)\n",
    "pivot_avg_price_region"
   ]
  },
  {
   "cell_type": "markdown",
   "id": "23c73b9a",
   "metadata": {},
   "source": [
    "## Q 04-01\n",
    "\n",
    "### ¿Qué no es correcto como interpretación del modelo de ajuste en el siguiente análisis estadístico?\n",
    "\n",
    "\n",
    "\n",
    "1. En el análisis estadístico, la prueba unilateral indica que la hipótesis nula para el parámetro es H_0 ∶ θ = θ_0 y la hipótesis alternativa se puede definir como H_1 ∶ θ < θ_0 o H_1 ∶ θ > θ_0.\n",
    "2. El error tipo I es el nivel de significancia y es un error que ocurre cuando se rechaza la hipótesis nula verdadera aunque la hipótesis nula sea verdadera.\n",
    "3. Si la probabilidad de significancia p es mayor que el nivel de significancia α (p > α), se rechaza la hipótesis nula y se adopta la hipótesis alternativa\n",
    "4. Para probar la significancia de la ecuación de regresión, se debe realizar una prueba de significancia en la pendiente de la ecuación de regresión, por lo que la hipótesis es H_0 ∶ β_1= 0, H_1 ∶ β_1≠ 0 (donde β_1 es la pendiente de la ecuación de regresión ecuación)."
   ]
  },
  {
   "cell_type": "markdown",
   "id": "d95cb1bf",
   "metadata": {},
   "source": [
    "**Respuesta:**"
   ]
  },
  {
   "cell_type": "markdown",
   "id": "23bfa4fe",
   "metadata": {},
   "source": [
    "La respuesta incorrecta es la 3. La probabilidad de significancia mide que tan compatible son los datos con la hipótesis nula. Un valor bajo indica que los datos son incompatibles con la hipótesis nula, lo que sugiere que debemos rechazarla ($p \\le \\alpha$). Por otro lado, un valor alto indica que los datos son compatibles con la hipótesis nula, lo que sugiere que no tenemos suficiente evidencia para rechazarla ($p > \\alpha$)."
   ]
  },
  {
   "cell_type": "markdown",
   "id": "c1656d2c",
   "metadata": {},
   "source": [
    "## Q 04-02\n",
    "\n",
    "### Entre los estudiantes que tomaron la clase de Información y Estadística, se seleccionaron aleatoriamente 30 estudiantes. Al investigar el promedio de sus calificaciones, la media fue 80 y la varianza fue 9. Encuentre un intervalo de confianza del 95% para el promedio de sus calificaciones."
   ]
  },
  {
   "cell_type": "markdown",
   "id": "400e32dc",
   "metadata": {},
   "source": [
    "**Respuesta:**"
   ]
  },
  {
   "cell_type": "code",
   "execution_count": 7,
   "id": "42710537",
   "metadata": {},
   "outputs": [
    {
     "name": "stdout",
     "output_type": "stream",
     "text": [
      "INTERVALO DE CONFIANZA AL 95%:\n",
      "\n",
      "Intervalo: (78.88, 81.12)\n"
     ]
    }
   ],
   "source": [
    "import scipy.stats as stats\n",
    "import math\n",
    "\n",
    "# Datos del problema\n",
    "n = 30\n",
    "media_muestral = 80\n",
    "varianza_muestral = 9\n",
    "desviacion_estandar = math.sqrt(varianza_muestral)\n",
    "nivel_confianza = 0.95\n",
    "\n",
    "# Calcular el valor crítico t de Student\n",
    "grados_libertad = n - 1\n",
    "alpha = 1 - nivel_confianza\n",
    "t_critico = stats.t.ppf(1 - alpha/2, grados_libertad)\n",
    "\n",
    "# Calcular el error estándar\n",
    "error_estandar = desviacion_estandar / math.sqrt(n)\n",
    "\n",
    "# Calcular el margen de error\n",
    "margen_error = t_critico * error_estandar\n",
    "\n",
    "# Calcular el intervalo de confianza\n",
    "limite_inferior = media_muestral - margen_error\n",
    "limite_superior = media_muestral + margen_error\n",
    "\n",
    "print(f\"INTERVALO DE CONFIANZA AL 95%:\")\n",
    "print(f\"\\nIntervalo: ({limite_inferior:.2f}, {limite_superior:.2f})\")"
   ]
  },
  {
   "cell_type": "markdown",
   "id": "0e794029",
   "metadata": {},
   "source": [
    "## Q 05-01\n",
    "\n",
    "### ¿Cuál de las siguientes afirmaciones sobre el aprendizaje supervisado es incorrecta?\n",
    "\n",
    "1. El aprendiz supervisado debe hacer predicciones correctamente con los datos dados a partir de los datos de entrenamiento.\n",
    "2. La precisión es la relación entre lo que el modelo clasifica como verdadero y lo que realmente clasifica como verdadero. A esto se le puede llamar la tasa de respuesta.\n",
    "3. La relación de recuerdo es la relación entre lo que el modelo predice que es verdadero y lo que es realmente cierto.\n",
    "4. La relación de recuperación se calcula como $\\frac{tp}{tp+fp}$. (donde $tp$ es verdadero positivo y $fp$ es falso positivo).\n",
    "\n",
    "**Respuesta:**"
   ]
  },
  {
   "cell_type": "markdown",
   "id": "69b65ff3",
   "metadata": {},
   "source": [
    "La respuesta incorrecta es la **4**: porque confunde la fórmula de precision no es la misma que la recuperación (recall)."
   ]
  },
  {
   "cell_type": "markdown",
   "id": "1176a002",
   "metadata": {},
   "source": [
    "## Q 05-02\n",
    "\n",
    "### ¿Cuál de las siguientes afirmaciones sobre el sobreajuste es incorrecta?\n",
    "\n",
    "1. Una característica de un patrón que se encuentra en un conjunto de datos específico que existe solo en ese conjunto de datos, o una característica de un patrón que no se generaliza y existe solo en un dato específico se denomina sobreajuste\n",
    "2. Los métodos de extracción utilizados para resolver el problema de sobreajuste incluyen el método de exclusión, el método de validación cruzada, el método de arranque, etc.\n",
    "3. En el método de reserva, la validación cruzada se realiza dividiendo los datos de entrenamiento para el aprendizaje y la construcción del modelo y los datos de verificación para la evaluación del desempeño, y los resultados de los datos de verificación se usan solo para la medición del desempeño sin afectar el modelo.\n",
    "4. El método de validación cruzada es un método para volver a seleccionar datos de entrenamiento repetidamente y en función de la extracción de restauración, y es adecuado cuando la cantidad total de datos no es grande.\n",
    "\n",
    "**Respuesta:**"
   ]
  },
  {
   "cell_type": "markdown",
   "id": "9b544a8d",
   "metadata": {},
   "source": [
    "La respuesta incorrecta es la **4**: La validación cruzada consiste en dividir los datos en k pliegues, entrenar y validar k veces."
   ]
  },
  {
   "cell_type": "markdown",
   "id": "c7636189",
   "metadata": {},
   "source": [
    "___"
   ]
  },
  {
   "cell_type": "markdown",
   "id": "e18787df",
   "metadata": {},
   "source": [
    "## Fin"
   ]
  }
 ],
 "metadata": {
  "colab": {
   "provenance": []
  },
  "kernelspec": {
   "display_name": "py310",
   "language": "python",
   "name": "python3"
  },
  "language_info": {
   "codemirror_mode": {
    "name": "ipython",
    "version": 3
   },
   "file_extension": ".py",
   "mimetype": "text/x-python",
   "name": "python",
   "nbconvert_exporter": "python",
   "pygments_lexer": "ipython3",
   "version": "3.10.14"
  }
 },
 "nbformat": 4,
 "nbformat_minor": 5
}
